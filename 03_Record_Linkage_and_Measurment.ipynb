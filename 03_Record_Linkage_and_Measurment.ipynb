{
 "cells": [
  {
   "attachments": {},
   "cell_type": "markdown",
   "metadata": {},
   "source": [
    "# RECORD LINKAGE AND MEASUREMENT\n",
    "By Maryah Garner"
   ]
  },
  {
   "cell_type": "markdown",
   "metadata": {},
   "source": [
    "## Table of Contents\n",
    "* [Set Up Environment](#set-up)\n",
    "* [Organization names ](#orgs)\n",
    "* [PI Names](#pi_names)\n",
    " * [Cleaning PI Names](##clean_names)\n",
    "* [Develop Measures ](#measures)\n",
    "* [Checkpoint 1](#checkpoint1)\n",
    "* [Link Data on PI Name ](#link_name)\n",
    "* [Develop measures for change over time ](#change_measures)\n",
    "* [Results](#results)\n",
    "* [Checkpoint 2](#checkpoint2)"
   ]
  },
  {
   "cell_type": "markdown",
   "metadata": {},
   "source": [
    "We are going to read in projects data from 2015, create measures, and then link it to the 'DF_2017.csv' data that has already been prepared for you using the RePORTER_PRJ_C_FY2017_new data. This is a non-standard approach to performing analytics for data with the same structure over different years. \n",
    "\n",
    "We are using this approach to give you the extremely valuable experience of linking data without overwhelming you with different data sources. You will be able to use the code and skills developed in this notebook to link data from different sources in the future. "
   ]
  },
  {
   "cell_type": "markdown",
   "metadata": {},
   "source": [
    "## Set Up Environment  <a class=\"anchor\" id=\"set-up\"></a>"
   ]
  },
  {
   "cell_type": "code",
   "execution_count": null,
   "metadata": {},
   "outputs": [],
   "source": [
    "# general use imports\n",
    "import pandas as pd"
   ]
  },
  {
   "cell_type": "markdown",
   "metadata": {},
   "source": [
    "### Read in Project Data"
   ]
  },
  {
   "cell_type": "code",
   "execution_count": null,
   "metadata": {},
   "outputs": [],
   "source": [
    "# Specify a path with the data folder\n",
    "# Change \"NAME\" to your name as recorded on your computer\n",
    "# path = 'C:/Users/NAME/PADM-GP_2505/Data/'\n",
    "Path = '---/PADM-GP_2505/Data'"
   ]
  },
  {
   "cell_type": "markdown",
   "metadata": {},
   "source": [
    "#### Read in Pre-processed 2017 Data \n",
    "First, we will read in the Preprocessed 2017 (`DF_2017.csv`) data. If you still need to, make sure you download this data from Britespace and put it in your `PADM-GP_2505/Data` folder."
   ]
  },
  {
   "cell_type": "code",
   "execution_count": null,
   "metadata": {},
   "outputs": [],
   "source": [
    "# Read-in the DF_2017 CSV file \n",
    "DF_2017 = pd.read_csv(Path + '/DF_2017.csv')\n",
    "\n",
    "# View the first 5 observations \n",
    "DF_2017.head(5)"
   ]
  },
  {
   "cell_type": "markdown",
   "metadata": {},
   "source": [
    "#### Read in 2015  Projects Data\n",
    "Next, we will read in the raw projects data from 2015. We will clean this data and use it to develop a data frame that has one observation per PI (for PIs from NYU), similar to the `DF_2017` seen above. "
   ]
  },
  {
   "cell_type": "code",
   "execution_count": null,
   "metadata": {
    "scrolled": true
   },
   "outputs": [],
   "source": [
    "# Read-in a CSV file\n",
    "grants_2015 = pd.read_csv(Path + '/Projects/RePORTER_PRJ_C_FY2015.csv', encoding='latin-1')\n",
    "\n",
    "# View the first 5 observations \n",
    "grants_2015.head()"
   ]
  },
  {
   "cell_type": "markdown",
   "metadata": {},
   "source": [
    "### Organization Names  <a class=\"anchor\" id=\"orgs\"></a>\n",
    "We want to see how the organizations are recorded in the data\n",
    "\n",
    "First, we will select variables that will help us understand better how organizations are recorded in the data and then look at the data."
   ]
  },
  {
   "cell_type": "code",
   "execution_count": null,
   "metadata": {
    "scrolled": false
   },
   "outputs": [],
   "source": [
    "#View the first 5 observations for select varables \n",
    "grants_2015[['APPLICATION_ID', 'ORG_DUNS', 'ORG_IPF_CODE', 'ORG_NAME', 'ORG_STATE']].head(5)\n",
    "\n"
   ]
  },
  {
   "cell_type": "markdown",
   "metadata": {},
   "source": [
    "#### Subsetting string\n",
    "We will subset the grants_2015 for projects from NYU\n",
    "   - In order to use the str.contains function, we first need to convert the `ORG_NAME` variable into a string"
   ]
  },
  {
   "cell_type": "code",
   "execution_count": null,
   "metadata": {
    "scrolled": true
   },
   "outputs": [],
   "source": [
    "# Convert ORG_NAME into a string variable\n",
    "grants_2015['ORG_NAME'] = grants_2015['ORG_NAME'].astype(str)"
   ]
  },
  {
   "cell_type": "code",
   "execution_count": null,
   "metadata": {
    "scrolled": true
   },
   "outputs": [],
   "source": [
    "# Subsetting by a keyword in a string using str.contains()\n",
    "# Select all observations that have \"NEW YORK UNIVERSITY\" in the organization name.\n",
    "df_NYU = grants_2015[grants_2015['ORG_NAME'].str.contains('NEW YORK UNIVERSITY', na = False)]\n",
    "\n",
    "\n",
    "# View the first 2 observations \n",
    "df_NYU.head(2)"
   ]
  },
  {
   "cell_type": "code",
   "execution_count": null,
   "metadata": {},
   "outputs": [],
   "source": [
    "# View the first 5 observations of select variables\n",
    "df_NYU[['APPLICATION_ID', 'ORG_DUNS', 'ORG_IPF_CODE', 'ORG_NAME', 'ORG_STATE']].head(5)"
   ]
  },
  {
   "cell_type": "markdown",
   "metadata": {},
   "source": [
    "As you can see NEW YORK UNIVERSITY and NEW YORK UNIVERSITY SCHOOL OF MEDICINE are considered different organizations in this data. Depending on your research question, it might be more appropriate to consider them as the same organization. You will find many organizations exhibit simular patterns, so you need to be thoughtful as to what you consider to be a single organization in your research projects. \n",
    "\n",
    "We will group ORG_NAME to get the number of Projects that were awarded for each. This will allow us to see the names of all ORG_NAMEs that have \"NEW YORK UNIVERSITY\" in its name. In this case there are only 2, but some organizations have more then two ORG_NAMEs which might not all displayed using the head command, so you need to be careful."
   ]
  },
  {
   "cell_type": "code",
   "execution_count": null,
   "metadata": {
    "scrolled": false
   },
   "outputs": [],
   "source": [
    "# calculate how many projects (unique application ids) that were awarded by each ORG_NAME\n",
    "df_NYU.groupby('ORG_NAME')['APPLICATION_ID'].nunique().sort_values(ascending=False)"
   ]
  },
  {
   "cell_type": "markdown",
   "metadata": {},
   "source": [
    "#### Replace ORG_NAME \n",
    "For the purpose of this notebook, we will treat both NEW YORK UNIVERSITY and NEW YORK UNIVERSITY SCHOOL OF MEDICINE\tas the same organization.\n",
    "\n",
    "We will create a list of possible names for NEW YORK UNIVERSITY and then replace all Org names in that list with 'NEW YORK UNIVERSITY'.\n"
   ]
  },
  {
   "cell_type": "code",
   "execution_count": null,
   "metadata": {},
   "outputs": [],
   "source": [
    "# Save a list of possible names for the organization (NYU in this case)\n",
    "possible_NYU_names = ['NEW YORK UNIVERSITY', 'NEW YORK UNIVERSITY SCHOOL OF MEDICINE']\n",
    "\n",
    "# Replace any instance you see a string in the list of possible_org_names with 'NEW YORK UNIVERSITY'\n",
    "df_NYU = df_NYU.replace(possible_NYU_names, 'NEW YORK UNIVERSITY')\n",
    "\n",
    "# recalculate how many projects that were awarded by each ORG_NAME\n",
    "df_NYU.groupby('ORG_NAME')['APPLICATION_ID'].nunique().sort_values(ascending=False)"
   ]
  },
  {
   "cell_type": "markdown",
   "metadata": {},
   "source": [
    "In your projects, you can create a list like we did for NYU, for each group of ORG_NAMEs you want to consolidate into a single organization. Then use the `replace` function for each of your created lists. "
   ]
  },
  {
   "cell_type": "markdown",
   "metadata": {},
   "source": [
    "## PI Names <a class=\"anchor\" id=\"pi_names\"></a>\n",
    "Recall our goal is to develop an analytic dataframe that we can link to the `DF_2017` data, linking on PI_NAME. To do this, we need to understand how the PI names are recorded. \n",
    "- We will begin by counting the number of projects for each of the unique `PI_NAMEs`. We will then carefully examine the `PI_NAMEs` in the output."
   ]
  },
  {
   "cell_type": "code",
   "execution_count": null,
   "metadata": {
    "scrolled": true
   },
   "outputs": [],
   "source": [
    "# Calculate how many Projects each unique observation for PI_NAMEs has\n",
    "df_NYU_CI = df_NYU.groupby(['PI_NAMEs','PI_IDS'])['APPLICATION_ID'].nunique().sort_values(ascending=False).to_frame().reset_index()\n",
    "\n",
    "# View the first 10 observations\n",
    "df_NYU_CI.head(10)"
   ]
  },
  {
   "cell_type": "markdown",
   "metadata": {},
   "source": [
    "As you can see from the output in row seven above (or if you read the codebook), sometimes more than one PI exists in an award. Thus we cannot treat each unique value recorded as the PI_NAMEs as a unique PI. We will look at all of the projects OGEDEGBE, OLUGBENGA G is a PI on, to exemplify this further."
   ]
  },
  {
   "cell_type": "code",
   "execution_count": null,
   "metadata": {
    "scrolled": true
   },
   "outputs": [],
   "source": [
    "# Show full text in a cell\n",
    "pd.set_option('display.max_colwidth', -1)\n",
    "\n",
    "# Show all PI_NAMEs which contain name \"OLUGBENGA\"\n",
    "df_NYU_CI[df_NYU_CI['PI_NAMEs'].str.contains('OLUGBENGA', na = False)]\n"
   ]
  },
  {
   "cell_type": "markdown",
   "metadata": {},
   "source": [
    "As you can see OGEDEGBE, OLUGBENGA G was a PI on 11 projects, not just the two projects that are associated with the string that only contains his name"
   ]
  },
  {
   "cell_type": "markdown",
   "metadata": {},
   "source": [
    "### Cleaning PI Names <a class=\"anchor\" id=\"clean_names\"></a>\n",
    "To clean the PI names, we will split up the names when more than one is recorded and then create a new column with a single PI for each observation."
   ]
  },
  {
   "cell_type": "markdown",
   "metadata": {},
   "source": [
    "#### Transform each element of a list-like to a row, replicating index values\n",
    "We will create a temporary dataframe with an index number and a single PI name for each observation. The index number will be repeated for each PI that is split up from a list of PIs in the PI_NAMEs variable.\n",
    "- We will use the str.split function to split up the PI names, so we first need to convert PI_NAMEs into a string variable\n",
    "- We will then use the `str.split` function to separate the list of names into a different element for each PI. We are splitting the string at each `;` \n",
    "- We use the `explode` function to transform each element into a row, replicating index values"
   ]
  },
  {
   "cell_type": "code",
   "execution_count": null,
   "metadata": {},
   "outputs": [],
   "source": [
    "# First we need to convert ORG_NAME into a string variable\n",
    "df_NYU['PI_NAMEs'] = df_NYU['PI_NAMEs'].astype(str)"
   ]
  },
  {
   "cell_type": "code",
   "execution_count": null,
   "metadata": {
    "scrolled": true
   },
   "outputs": [],
   "source": [
    "# Make a temperary dataframe that creates an observation for each PI. \n",
    "# Use the explode function to split the PI_Names at the ;\n",
    "temp = df_NYU['PI_NAMEs'].str.split(';').explode().reset_index()\n",
    "\n",
    "# Rename the PI_NAMEs variable\n",
    "temp = temp.rename(columns = {'PI_NAMEs': 'PI_NAME'})\n",
    "\n",
    "# look at the first 5 observations\n",
    "temp.head()"
   ]
  },
  {
   "cell_type": "markdown",
   "metadata": {},
   "source": [
    "#### Remove observations with empty strings \n",
    "Because we split the PI_NAMEs using a `;`, and there is a `;` at the end of every PI (even those without a name proceeding it in the string), we created many observations with an empty string for PI_NAME. We will proceed with removing the empty string."
   ]
  },
  {
   "cell_type": "code",
   "execution_count": null,
   "metadata": {
    "scrolled": false
   },
   "outputs": [],
   "source": [
    "# Only keep observations in the temp dataframe where PI_NAME is not an empty string\n",
    "temp = temp[temp['PI_NAME'] !=\"\"]\n",
    "\n",
    "# View the first 4 observations \n",
    "temp.head(4)"
   ]
  },
  {
   "cell_type": "markdown",
   "metadata": {},
   "source": [
    "#### Remove undesired section of the string\n",
    "We are almost there, however we still need to remove the ` (contact)` part of the string from some of the names; otherwise PI_names like `DAW, NATHANIEL DOUGLASS (contact)` will not link to `DAW, NATHANIEL DOUGLASS` "
   ]
  },
  {
   "cell_type": "code",
   "execution_count": null,
   "metadata": {
    "scrolled": true
   },
   "outputs": [],
   "source": [
    "# For the the PI_NAME variable, use the str.replace fundtion to replace ` (contact)` with nothing \n",
    "temp['PI_NAME'] = temp['PI_NAME'].str.replace(' \\(contact\\)', '')\n",
    "\n",
    "temp.head()"
   ]
  },
  {
   "cell_type": "markdown",
   "metadata": {},
   "source": [
    "#### Merge dataframes\n",
    "Now that we have a clean list of PIs, we will merge this temporary dataframe with df_NYU. After doing so, we will see the new PI_NAME variable as well as the old PI_NAMEs variable. Note all other variables will repeat for each of the separated PI names. \n",
    "\n",
    "First, let's look at the df_NYU dataframe to make sure we are ready to merge on the index."
   ]
  },
  {
   "cell_type": "code",
   "execution_count": null,
   "metadata": {
    "scrolled": true
   },
   "outputs": [],
   "source": [
    "# view the select variables for the firts 4 observations\n",
    "df_NYU[['APPLICATION_ID', 'PI_NAMEs','FULL_PROJECT_NUM', 'PROJECT_TITLE','PROJECT_START', 'PROJECT_END', 'TOTAL_COST']].head()"
   ]
  },
  {
   "cell_type": "markdown",
   "metadata": {},
   "source": [
    "##### reset the index\n",
    "Note that the index reflects the column number from the full dataframe, and the column number lines up with the index numbers from the temperary dataframe. Thus, we need to reset the index before merging."
   ]
  },
  {
   "cell_type": "code",
   "execution_count": null,
   "metadata": {},
   "outputs": [],
   "source": [
    "# Reset the index\n",
    "df_NYU2 = df_NYU.reset_index()\n",
    "\n",
    "# view the select variables for the firts 4 observations\n",
    "df_NYU2[['index', 'APPLICATION_ID', 'PI_NAMEs','FULL_PROJECT_NUM', 'PROJECT_TITLE','PROJECT_START', 'PROJECT_END', 'TOTAL_COST']].head()"
   ]
  },
  {
   "cell_type": "code",
   "execution_count": null,
   "metadata": {},
   "outputs": [],
   "source": [
    "# Merge this temperary dataframe with df_NYU\n",
    "\n",
    "df_NYU3 = df_NYU2.merge(temp, on = 'index')\n",
    "\n",
    "\n",
    "# view the select variables for the firts 4 observations\n",
    "df_NYU3[['APPLICATION_ID', 'PI_NAMEs', 'PI_NAME','FULL_PROJECT_NUM', 'PROJECT_TITLE','PROJECT_START', 'PROJECT_END', 'TOTAL_COST']].head()"
   ]
  },
  {
   "cell_type": "markdown",
   "metadata": {},
   "source": [
    "# Develop Measures <a class=\"anchor\" id=\"measures\"></a>\n",
    "Using the 2015 data, we want to create measures at the PI level that will allow us to research how the `Cancer Moonshot` influenced the people working on cancer research. \n",
    "\n",
    "#### All Projects \n",
    "- The number of projects \n",
    "- The total value all of projects\n",
    "\n",
    "#### All NCI Projects \n",
    "- Number of projects from the National cancer institute\n",
    "- Value of projects from the National cancer institute\n",
    "\n",
    "#### New NCI Projects\n",
    "- Number of new projects from the National cancer institute\n",
    "- Value of new projects from the National cancer institute\n",
    "\n",
    "#### Most Common CI for each PI? \n"
   ]
  },
  {
   "cell_type": "markdown",
   "metadata": {},
   "source": [
    "## All Projects"
   ]
  },
  {
   "cell_type": "markdown",
   "metadata": {},
   "source": [
    "### Number of Projects"
   ]
  },
  {
   "cell_type": "code",
   "execution_count": null,
   "metadata": {
    "scrolled": false
   },
   "outputs": [],
   "source": [
    "# Calculate how many Projects each PI has\n",
    "PI = df_NYU3.groupby(['PI_NAME'])['APPLICATION_ID'].nunique().sort_values(ascending=False)\n",
    "\n",
    "# Convert into a dataframe and reset index\n",
    "PI = PI.to_frame().reset_index()\n",
    "\n",
    "# Rename APPLICATION_ID to Total_Projects_2015\n",
    "PI.rename(columns={'APPLICATION_ID':'Total_Projects_2015'}, inplace = True)\n",
    "\n",
    "# View the first 2 observations \n",
    "PI.head(2)"
   ]
  },
  {
   "cell_type": "markdown",
   "metadata": {},
   "source": [
    "### Total Value of  All Projects"
   ]
  },
  {
   "cell_type": "code",
   "execution_count": null,
   "metadata": {},
   "outputs": [],
   "source": [
    "# Calculate the sum of the total costs for each PI\n",
    "Value_PI = df_NYU3.groupby('PI_NAME')['TOTAL_COST'].sum()\n",
    "\n",
    "# Convert into a dataframe and reset index\n",
    "Value_PI = Value_PI.to_frame().reset_index()\n",
    "\n",
    "# Rename TOTAL_COST to Total_Cost_All_2015\n",
    "Value_PI.rename(columns={'TOTAL_COST':'Total_Cost_All_2015'}, inplace = True)\n",
    "\n",
    "# View the first 2 observations \n",
    "Value_PI.head(2)"
   ]
  },
  {
   "cell_type": "code",
   "execution_count": null,
   "metadata": {
    "scrolled": true
   },
   "outputs": [],
   "source": [
    "# Look at how many rows and columns there are\n",
    "Value_PI.shape"
   ]
  },
  {
   "cell_type": "code",
   "execution_count": null,
   "metadata": {},
   "outputs": [],
   "source": [
    "# Marge together  `PI` and `Value_PI on PI_NAME`, creating a new data frame called `DF_2015.`\n",
    "# Use an outer merge. \n",
    "DF_2015 = pd.merge(PI, Value_PI, on='PI_NAME', how = 'outer')\n",
    "\n",
    "# Look at how many rows and columns there are\n",
    "DF_2015.shape"
   ]
  },
  {
   "cell_type": "code",
   "execution_count": null,
   "metadata": {
    "scrolled": true
   },
   "outputs": [],
   "source": [
    "# View the first 5 observations \n",
    "DF_2015.head()"
   ]
  },
  {
   "cell_type": "markdown",
   "metadata": {},
   "source": [
    "## All Projects from the National Cancer Institute¶"
   ]
  },
  {
   "cell_type": "markdown",
   "metadata": {},
   "source": [
    "### Number of Projects from the National Cancer Institute "
   ]
  },
  {
   "cell_type": "code",
   "execution_count": null,
   "metadata": {
    "scrolled": true
   },
   "outputs": [],
   "source": [
    "# Use a conditional statement do create a new dataframe were there are only projects where the IC_NAME is NATIONAL CANCER INSTITUTE. \n",
    "NCI = df_NYU3[df_NYU3['IC_NAME'] == 'NATIONAL CANCER INSTITUTE']\n",
    "NCI.shape"
   ]
  },
  {
   "cell_type": "code",
   "execution_count": null,
   "metadata": {},
   "outputs": [],
   "source": [
    "NCI.to_csv(Path + \"example_data.csv\", encoding='utf8')"
   ]
  },
  {
   "cell_type": "code",
   "execution_count": null,
   "metadata": {},
   "outputs": [],
   "source": [
    "# Calculate how many NCI Projects each PI has\n",
    "NCI_PI = NCI.groupby(['PI_NAME'])['APPLICATION_ID'].nunique().sort_values(ascending=False)\n",
    "\n",
    "# Convert into a dataframe and reset index\n",
    "NCI_PI = NCI_PI.to_frame().reset_index()\n",
    "\n",
    "# Let's correct the columns names, this shouldn't be APPLICATION_ID but Total_NCI_Projects_2015\n",
    "NCI_PI.rename(columns={'APPLICATION_ID':'Total_NCI_Projects_2015'}, inplace = True)\n",
    "\n",
    "# View the first 5 observations \n",
    "NCI_PI.head()"
   ]
  },
  {
   "cell_type": "code",
   "execution_count": null,
   "metadata": {},
   "outputs": [],
   "source": [
    "# Look at how many rows and columns there are before merging \n",
    "NCI_PI.shape"
   ]
  },
  {
   "cell_type": "code",
   "execution_count": null,
   "metadata": {},
   "outputs": [],
   "source": [
    "# Merge NCI_PI into the DF_2015 data frame \n",
    "DF_2015 = pd.merge(DF_2015, NCI_PI, on='PI_NAME', how = 'outer')\n",
    "\n",
    "# Look at how many rows and columns there are after merging \n",
    "DF_2015.shape"
   ]
  },
  {
   "cell_type": "markdown",
   "metadata": {},
   "source": [
    "Note, we used an outer merge, so we are maintaining the total number of observations from the `DF_2015` data frame. If we had used an `inner merge,` we would only capture the PIs in both dataframes. This would be bad, since it would be dropping all the PIs who are not on an NCI grant."
   ]
  },
  {
   "cell_type": "markdown",
   "metadata": {},
   "source": [
    "### Total value of National Cancer Instute Projects"
   ]
  },
  {
   "cell_type": "code",
   "execution_count": null,
   "metadata": {
    "scrolled": false
   },
   "outputs": [],
   "source": [
    "# Calculate the sum of the total NCI costs for each PI\n",
    "NCI_Value = NCI.groupby('PI_NAME')['TOTAL_COST'].sum().sort_values(ascending=False)\n",
    "\n",
    "# Convert into a dataframe and reset index\n",
    "NCI_Value = NCI_Value.to_frame().reset_index()\n",
    "\n",
    "# Rename the colums New_TOTAL_COST\n",
    "NCI_Value.rename(columns={'TOTAL_COST':'NCI_Total_Cost_2015'}, inplace=True)\n",
    "\n",
    "# View the first 3 observations\n",
    "NCI_Value.head(3)"
   ]
  },
  {
   "cell_type": "code",
   "execution_count": null,
   "metadata": {
    "scrolled": true
   },
   "outputs": [],
   "source": [
    "# Look at how many rows and columns there are before merging \n",
    "NCI_Value.shape"
   ]
  },
  {
   "cell_type": "code",
   "execution_count": null,
   "metadata": {},
   "outputs": [],
   "source": [
    "# Merge the NCI_Value into the DF_2015 data frame \n",
    "DF_2015 = pd.merge(DF_2015, NCI_Value, on='PI_NAME', how = 'outer')\n",
    "\n",
    "# Look at how many rows and columns there are after merging \n",
    "DF_2015.shape"
   ]
  },
  {
   "cell_type": "code",
   "execution_count": null,
   "metadata": {
    "scrolled": true
   },
   "outputs": [],
   "source": [
    "# View the first 3 observations\n",
    "DF_2015.head(3)"
   ]
  },
  {
   "cell_type": "markdown",
   "metadata": {},
   "source": [
    "## New grants from the National Cancer Institute¶"
   ]
  },
  {
   "cell_type": "markdown",
   "metadata": {},
   "source": [
    "#### New projects\n",
    "We need to identify all projects that started this year we will do this in 3 steps \n",
    "1. Convert PROJECT_START into a date variable\n",
    "2. Use the project start date to create a `project_start_year` column\n",
    "3. Create a new data frame that only has a observations where the `PROJECT_START_YEAR` is 2015"
   ]
  },
  {
   "cell_type": "markdown",
   "metadata": {},
   "source": []
  },
  {
   "cell_type": "code",
   "execution_count": null,
   "metadata": {
    "scrolled": true
   },
   "outputs": [],
   "source": [
    "# convert PROJECT_START into a date variable\n",
    "NCI['PROJECT_START'] = pd.to_datetime(NCI['PROJECT_START'])\n",
    "\n",
    "# Create a new year variable from the PROJECT_START\n",
    "NCI['PROJECT_START_YEAR'] = NCI['PROJECT_START'].dt.year\n",
    "\n",
    "# View the first 3 observarions for select variables \n",
    "NCI[['PROJECT_START_YEAR', 'PROJECT_START']].head(3)"
   ]
  },
  {
   "cell_type": "code",
   "execution_count": null,
   "metadata": {
    "scrolled": true
   },
   "outputs": [],
   "source": [
    "# Create a new data frame that has a variable where the PROJECT_START_YEAR is 2015\n",
    "NCI_new = NCI[NCI['PROJECT_START_YEAR'] == 2015]\n",
    "\n",
    "# View the first 3 observations for select variables \n",
    "NCI_new[['PROJECT_START_YEAR', 'PROJECT_START']].head(3)"
   ]
  },
  {
   "cell_type": "markdown",
   "metadata": {},
   "source": [
    "### Number of New Grants from the National Cancer Institute "
   ]
  },
  {
   "cell_type": "code",
   "execution_count": null,
   "metadata": {},
   "outputs": [],
   "source": [
    "# Calculate how many new NCI Projects each PI has\n",
    "NCI_new_PI = NCI_new.groupby(['PI_NAME'])['APPLICATION_ID'].nunique().sort_values(ascending=False)\n",
    "\n",
    "# Convert into a dataframe and reset index\n",
    "NCI_new_PI = NCI_new_PI.to_frame().reset_index()\n",
    "\n",
    "# Let's correct the columns names, this shouldn't be APPLICATION_ID but Total_New_NCI_Projects_2015\n",
    "NCI_new_PI.rename(columns={'APPLICATION_ID':'Total_New_NCI_Projects_2015'}, inplace = True)\n",
    "\n",
    "# View the first 3 observations\n",
    "NCI_new_PI.head(3)"
   ]
  },
  {
   "cell_type": "code",
   "execution_count": null,
   "metadata": {},
   "outputs": [],
   "source": [
    "# Look at how many rows and columns there are before merging \n",
    "NCI_new_PI.shape"
   ]
  },
  {
   "cell_type": "code",
   "execution_count": null,
   "metadata": {},
   "outputs": [],
   "source": [
    "DF_2015 = pd.merge(DF_2015, NCI_new_PI, on='PI_NAME', how = 'outer')\n",
    "\n",
    "# Look at how many rows and columns there are after merging \n",
    "DF_2015.shape"
   ]
  },
  {
   "cell_type": "code",
   "execution_count": null,
   "metadata": {},
   "outputs": [],
   "source": [
    "# Look at the first 3 observations \n",
    "DF_2015.head(3)"
   ]
  },
  {
   "attachments": {},
   "cell_type": "markdown",
   "metadata": {},
   "source": [
    "# Check point 1: (Assignment 3 due March 10th)  <a class=\"anchor\" id=\"checkpoint1\"></a>\n",
    "Add a column to the `DF_2015` dataframe that has the total value of New National Cancer Instute Projects (3points)\n",
    "Due "
   ]
  },
  {
   "cell_type": "code",
   "execution_count": null,
   "metadata": {},
   "outputs": [],
   "source": []
  },
  {
   "cell_type": "code",
   "execution_count": null,
   "metadata": {},
   "outputs": [],
   "source": []
  },
  {
   "cell_type": "code",
   "execution_count": null,
   "metadata": {},
   "outputs": [],
   "source": []
  },
  {
   "cell_type": "markdown",
   "metadata": {},
   "source": [
    "### What Is the Most Common CI for each PI? "
   ]
  },
  {
   "cell_type": "code",
   "execution_count": null,
   "metadata": {
    "scrolled": true
   },
   "outputs": [],
   "source": [
    "# Calculate how many projects each PI has with each CI\n",
    "temp = df_NYU3.groupby(['PI_NAME', 'IC_NAME'])['APPLICATION_ID'].nunique().sort_values(ascending=False)\n",
    "\n",
    "# Convert into a dataframe and reset index\n",
    "temp = temp.to_frame().reset_index()\n",
    "\n",
    "# Rename APPLICATION_ID Count\n",
    "temp.rename(columns={'APPLICATION_ID':'Count'}, inplace = True)\n",
    "\n",
    "# Group by PI_NAME and select the resultant rows with the max value in the (numerical column -> Count)\n",
    "# Sorted in ascending order of Count\n",
    "temp = temp.groupby(['PI_NAME'],sort=True)[['IC_NAME', 'Count']].max()\n",
    "\n",
    "# Rename IC_NAME Most_common_IC\n",
    "temp.rename(columns={'IC_NAME':'Most_common_IC_2015', 'Count': 'Most_common_IC_Count_2015'}, inplace = True)\n",
    "temp = temp.reset_index()\n",
    "\n",
    "# View the first 3 observations\n",
    "temp.head(3)"
   ]
  },
  {
   "cell_type": "code",
   "execution_count": null,
   "metadata": {},
   "outputs": [],
   "source": [
    "# Merge the temp dataframe into the DF_2015 data frame \n",
    "# Use an outer merge\n",
    "DF_2015 = pd.merge(DF_2015, temp, on='PI_NAME', how = 'outer')\n",
    "\n",
    "# Look at how many rows and columns there are\n",
    "DF_2015.shape"
   ]
  },
  {
   "cell_type": "code",
   "execution_count": null,
   "metadata": {
    "scrolled": true
   },
   "outputs": [],
   "source": [
    "# View the first 3 observations\n",
    "DF_2015.head(3)"
   ]
  },
  {
   "cell_type": "markdown",
   "metadata": {},
   "source": [
    "# Link Data on PI Name <a class=\"anchor\" id=\"link_name\"></a>\n",
    "Now we will merge together the `DF_2015` Date we just created with the pre processed `DF_2017` we read in at the beginning of this notebook. We will use an `outer` joint, so that we capture PI's the had grant(s) in only 2015, both 2015 and 2017, and only 2017"
   ]
  },
  {
   "cell_type": "code",
   "execution_count": null,
   "metadata": {},
   "outputs": [],
   "source": [
    "# Create a new dataframe by using an outer merge to merge the DF_2015 and DF_2017 dataframes\n",
    "# merging on PI_NAME\n",
    "DF = pd.merge(DF_2015, DF_2017, on='PI_NAME', how = 'outer')\n",
    "DF.shape"
   ]
  },
  {
   "cell_type": "code",
   "execution_count": null,
   "metadata": {},
   "outputs": [],
   "source": [
    "# Look at the first 5 observations\n",
    "DF.head(5)"
   ]
  },
  {
   "cell_type": "code",
   "execution_count": null,
   "metadata": {
    "scrolled": true
   },
   "outputs": [],
   "source": [
    "# Look at the last 5 observations \n",
    "DF.tail(5)"
   ]
  },
  {
   "cell_type": "markdown",
   "metadata": {},
   "source": [
    "#### Fill in the Missing values with 0\n",
    "Caution! it is often not the case that you should fill missing values with Zero. It is appropriate in this case because we know for example, FALKNER ANNEGRET LEA, was not a PI on an NIH project for NYU in 2015. Note that this narrows the scope of the question, though, because FALKNER ANNEGRET LEA could have worked on non-NIH projects in 2015, or she could have worked on NIH projects at a different institution in 2015. You have to be very mindful of what assumptions you are making and how you are narrowing the scope of your research when you fill in missing values with zero for your own project. "
   ]
  },
  {
   "cell_type": "code",
   "execution_count": null,
   "metadata": {
    "scrolled": true
   },
   "outputs": [],
   "source": [
    "# use the fillma function to fill all of the missing values with Zero\n",
    "DF= DF.fillna(0)\n",
    "\n",
    "# view the first 5 observations \n",
    "DF.head()"
   ]
  },
  {
   "cell_type": "markdown",
   "metadata": {},
   "source": [
    "## Develop measures for change over time  <a class=\"anchor\" id=\"change_measures\"></a>\n",
    "Now that we have brought together the 2015 and 2017 data, we can create measures for the change in outcomes. \n",
    "We will develop two measures\n",
    "1. Change in the number of NCI Projects\n",
    "2. Change in the Total cost of NCI Projects"
   ]
  },
  {
   "cell_type": "markdown",
   "metadata": {},
   "source": [
    "#### Change in the Number of National Cancer Institute Projects"
   ]
  },
  {
   "cell_type": "code",
   "execution_count": null,
   "metadata": {},
   "outputs": [],
   "source": [
    "# Create a new column (Change_in_NCI_Projects) that is equal to the difference in Total_NCI_Projects_2017 and Total_NCI_Projects_2015'\n",
    "DF['Change_in_NCI_Projects'] = DF['Total_NCI_Projects_2017'] - DF['Total_NCI_Projects_2015']\n",
    "\n",
    "# Look at the first 5 observations for select variables \n",
    "DF[['PI_NAME','Total_NCI_Projects_2017', 'Total_NCI_Projects_2015', 'Change_in_NCI_Projects']].head()"
   ]
  },
  {
   "cell_type": "markdown",
   "metadata": {},
   "source": [
    "#### Change in the Cost of National Cancer Institute Projects"
   ]
  },
  {
   "cell_type": "code",
   "execution_count": null,
   "metadata": {
    "scrolled": true
   },
   "outputs": [],
   "source": [
    "# Create a new column (Change_in_NCI_Cost) that is equal to the difference in NCI_Total_Cost_2017 and NCI_Total_Cost_2015'\n",
    "DF['Change_in_NCI_Cost'] = DF['NCI_Total_Cost_2017'] - DF['NCI_Total_Cost_2015']\n",
    "\n",
    "# Look at the first 5 observations for select variables \n",
    "DF[['PI_NAME','NCI_Total_Cost_2017', 'NCI_Total_Cost_2015', 'Change_in_NCI_Cost']].head()\n"
   ]
  },
  {
   "cell_type": "markdown",
   "metadata": {},
   "source": [
    "# Results <a class=\"anchor\" id=\"results\"></a>\n",
    "Now that the data is prepaired, we have answer some questions about PIs in 2015 and 2017"
   ]
  },
  {
   "cell_type": "code",
   "execution_count": null,
   "metadata": {},
   "outputs": [],
   "source": [
    "DF.columns"
   ]
  },
  {
   "cell_type": "markdown",
   "metadata": {},
   "source": [
    "#### Hpw many PIs form NYU were there in 2015?"
   ]
  },
  {
   "cell_type": "code",
   "execution_count": null,
   "metadata": {},
   "outputs": [],
   "source": [
    "# Look at the first 2 observations for select variables \n",
    "DF.head(2)"
   ]
  },
  {
   "cell_type": "code",
   "execution_count": null,
   "metadata": {},
   "outputs": [],
   "source": [
    "# Subset dataframe for PIs who had more than zero total projects in 2015\n",
    "temp = DF[DF['Total_Projects_2015'] > 0] \n",
    "\n",
    "# Count the number of unique PI names\n",
    "temp[\"PI_NAME\"].nunique()"
   ]
  },
  {
   "cell_type": "markdown",
   "metadata": {},
   "source": [
    "#### Hpw many PIs form NYU were there in 2017?"
   ]
  },
  {
   "cell_type": "code",
   "execution_count": null,
   "metadata": {},
   "outputs": [],
   "source": [
    "# Subset dataframe for PIs who had more than zero total projects in 2017\n",
    "temp = DF[DF['Total_Projects_2017'] > 0] \n",
    "\n",
    "# Count the number of unique PI names\n",
    "temp[\"PI_NAME\"].nunique()"
   ]
  },
  {
   "cell_type": "markdown",
   "metadata": {},
   "source": [
    "#### How many PIs from NYU had NCI projects in 2015?"
   ]
  },
  {
   "cell_type": "code",
   "execution_count": null,
   "metadata": {},
   "outputs": [],
   "source": [
    "# Subset dataframe for PIs who had more than zero NCI projects in 2015\n",
    "temp = DF[DF['Total_NCI_Projects_2015'] > 0] \n",
    "\n",
    "# Count the number of unique PI names\n",
    "temp[\"PI_NAME\"].nunique()"
   ]
  },
  {
   "cell_type": "markdown",
   "metadata": {},
   "source": [
    "#### How many PIs from NYU had NCI projects in 2017?"
   ]
  },
  {
   "cell_type": "code",
   "execution_count": null,
   "metadata": {},
   "outputs": [],
   "source": [
    "# Subset dataframe for PIs who had more than zero NCI projects in 2017\n",
    "temp = DF[DF['Total_NCI_Projects_2017'] > 0] \n",
    "\n",
    "# Count the number of unique PI names\n",
    "temp[\"PI_NAME\"].nunique()"
   ]
  },
  {
   "cell_type": "markdown",
   "metadata": {},
   "source": [
    "#### How many PIs from NYU had new NCI projects in 2015?"
   ]
  },
  {
   "cell_type": "code",
   "execution_count": null,
   "metadata": {},
   "outputs": [],
   "source": [
    "# Subset dataframe for PIs who had more than zero new NCI projects in 2015\n",
    "temp = DF[DF['Total_New_NCI_Projects_2015'] > 0] \n",
    "\n",
    "# Count the number of unique PI names\n",
    "temp[\"PI_NAME\"].nunique()"
   ]
  },
  {
   "cell_type": "markdown",
   "metadata": {},
   "source": [
    "#### How many PIs from NYU had new NCI projects in 2017?"
   ]
  },
  {
   "cell_type": "code",
   "execution_count": null,
   "metadata": {},
   "outputs": [],
   "source": [
    "# Subset dataframe for PIs who had more than zero new NCI projects in 2017\n",
    "temp = DF[DF['Total_New_NCI_Projects_2017'] > 0] \n",
    "\n",
    "# Count the number of unique PI names\n",
    "temp[\"PI_NAME\"].nunique()"
   ]
  },
  {
   "cell_type": "markdown",
   "metadata": {},
   "source": [
    "#### How many PIs only had non NCI Project(s) in 2015 but had at least one NCI project in 2017?"
   ]
  },
  {
   "cell_type": "code",
   "execution_count": null,
   "metadata": {},
   "outputs": [],
   "source": [
    "# Subset dataframe for PIs who had zero NCI projects in 2015\n",
    "# and more than zero projects in 2015\n",
    "# and more than zero NCI projects in 2017\n",
    "Converted_PIs = DF[(DF['Total_NCI_Projects_2015'] == 0) & \n",
    "           (DF['Total_Projects_2015'] > 0) &\n",
    "           (DF['Total_NCI_Projects_2017'] > 0)]\n",
    "\n",
    "# Count the number of unique PI names\n",
    "Converted_PIs[\"PI_NAME\"].nunique()"
   ]
  },
  {
   "cell_type": "code",
   "execution_count": null,
   "metadata": {},
   "outputs": [],
   "source": [
    "Converted_PIs.head()"
   ]
  },
  {
   "cell_type": "code",
   "execution_count": null,
   "metadata": {
    "scrolled": true
   },
   "outputs": [],
   "source": [
    "# look at the first 5 observations for select variables\n",
    "Converted_PIs[['PI_NAME', 'Total_Projects_2015', 'Total_Cost_All_2015', 'Total_NCI_Projects_2015', \n",
    "      'Total_NCI_Projects_2017', 'NCI_Total_Cost_2017', 'Most_common_IC_2015']].head()"
   ]
  },
  {
   "cell_type": "markdown",
   "metadata": {},
   "source": [
    "# Checkpoint 2 (Assignment 3 due March 10th) <a class=\"anchor\" id=\"checkpoint2\"></a>\n",
    "\n",
    "How many PIs had a NCI funded projects in 2017 but not 2015? (1point)\n",
    "\n",
    "For those who have at least one NCI funded project in 2015, how many NCI funded projects do they have on average? (1point)\n",
    "\n",
    "For those who have at least one NCI funded project in 2017, how many NCI funded projects do they have on average? (1point)\n",
    "\n",
    "For the PIs who only had non-NCI Project(s) in 2015 but had at least one NCI project in 2017, what are the 5 most common ICs they are moving from (in total, not per PI)? (2points)\n",
    "\n",
    "Can we sum the `Total_Cost_All_2015` column in the `DF` dataframe to get the total cost of projects in 2015? Why or why not? (2points)\n",
    "- This is not a question you need code to answer, instead, create a Markdown cell, and answer in a complete sentence. "
   ]
  },
  {
   "cell_type": "code",
   "execution_count": null,
   "metadata": {},
   "outputs": [],
   "source": []
  },
  {
   "cell_type": "code",
   "execution_count": null,
   "metadata": {},
   "outputs": [],
   "source": []
  },
  {
   "cell_type": "code",
   "execution_count": null,
   "metadata": {},
   "outputs": [],
   "source": []
  },
  {
   "cell_type": "markdown",
   "metadata": {},
   "source": []
  }
 ],
 "metadata": {
  "anaconda-cloud": {},
  "kernelspec": {
   "display_name": "Python 3 (ipykernel)",
   "language": "python",
   "name": "python3"
  },
  "language_info": {
   "codemirror_mode": {
    "name": "ipython",
    "version": 3
   },
   "file_extension": ".py",
   "mimetype": "text/x-python",
   "name": "python",
   "nbconvert_exporter": "python",
   "pygments_lexer": "ipython3",
   "version": "3.9.13"
  }
 },
 "nbformat": 4,
 "nbformat_minor": 4
}
