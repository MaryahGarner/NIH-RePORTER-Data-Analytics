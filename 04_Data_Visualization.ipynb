{
 "cells": [
  {
   "cell_type": "markdown",
   "metadata": {
    "id": "1B6StSr2I7Wl"
   },
   "source": [
    "# Data Visualization\n",
    "By Maryah Garner"
   ]
  },
  {
   "cell_type": "markdown",
   "metadata": {
    "id": "InBwAt7MI7Wn"
   },
   "source": [
    "## Table of Contents\n",
    "* [Choosing a Data Visualization Package](#Choosing_Package)\n",
    "* [Setup - Load Python Packages](#setup)\n",
    "* [Read in Projects Data from 2012-2021](#read)\n",
    "* [Checkpoint 1](#cp1) \n",
    "* [Visualizations](#visualizations)  \n",
    "* [Barplots](#barplots)\n",
    "* [Presentation Ready Figures](#presentation)    \n",
    "* [Checkpoint 2](#cp2)\n",
    "* [Percentage of Core Cancer projects over time](#cancer_pi)\n",
    "* [Stacked Barplot](#stacked)   \n",
    "* [Geopandas](#geopandas)\n",
    "* [Heat Map of the United States ](#hm)\n",
    "* [More visuals](#More)\n",
    "    * [Lineplots](#lineplots)\n",
    "    * [Histagram](#Histagram)\n",
    "    * [Layering in Matplotlib](#Layering)\n",
    "* [Checkpoint 3](#cp3)\n",
    "* [More Resources](#Resources)\n",
    "* [Other Python Visualization Libraries](#Other)"
   ]
  },
  {
   "cell_type": "markdown",
   "metadata": {
    "id": "VEb1J4CLI7Wn"
   },
   "source": [
    "## Choosing a Data Visualization Package <a class=\"anchor\" id=\"Choosing_Package\"></a>\n",
    "\n",
    "There are many excellent data visualiation modules available in Python, but for the tutorial we will stick to the tried and true combination of **matplotlib** and **seaborn**. You can read more about different options for data visualization in Python in the [More Resources](#More-Resources:) section at the bottom of this notebook. \n",
    "\n",
    "### Matplotlib\n",
    "**matplotlib** is very expressive, meaning it has functionality that can easily account for fine-tuned graph creation and adjustment. However, this also means that **matplotlib** is somewhat more complex to code. The basic steps to create graphs with this package are:\n",
    "1. Prepare your data\n",
    "2. Create the plot\n",
    "3. Plot the plot\n",
    "4. Customize plot\n",
    "5. Save and show plot\n",
    "\n",
    "More info can be found here:https://matplotlib.org/users/beginner.html\n",
    "\n",
    "### Seaborn\n",
    "**seaborn** is a higher-level visualization module, which means it is much less expressive and flexible than matplotlib, but far more concise and easier to code. In addition to matlab, this package makes it easier to\n",
    "1. Use default themes that are aesthetically pleasing\n",
    "2. Set custom color palettes\n",
    "3. Make attractive statistical plots\n",
    "4. Easily and flexibly displaying distributions\n",
    "5. Visualize information from matrices and DataFrames\n",
    "\n",
    "You can see it as a complement, not a substitute, for Matplotlib. There are some tweaks that still require Matplotlib.\n",
    "More info can be found here: http://seaborn.pydata.org/api.html#api-ref\n",
    "\n",
    "It may seem like we need to choose between these two approaches, but this is not the case! Since `seaborn` is itself written in **matplotlib** (you will sometimes see **seaborn** be called a **matplotlib** 'wrapper'), we can use **seaborn** for making graphs quickly and then **matplotlib** for specific adjustments. When you see `plt` referenced in the code below, we are using **matplotlib's** pyplot submodule.\n",
    "\n",
    "\n",
    "**seaborn** also improves on **matplotlib** in important ways, such as the ability to more easily visualize regression model results, creating small multiples, enabling better color palettes, and improve default aesthetics. From [**seaborn**'s documentation](https://seaborn.pydata.org/introduction.html):\n",
    "\n",
    "> If matplotlib 'tries to make easy things easy and hard things possible', seaborn tries to make a well-defined set of hard things easy too. "
   ]
  },
  {
   "cell_type": "markdown",
   "metadata": {
    "id": "dVj3H45bI7Wo"
   },
   "source": [
    "## Setup - Load Python Packages <a class=\"anchor\" id=\"setup\"></a>"
   ]
  },
  {
   "cell_type": "markdown",
   "metadata": {
    "id": "mCeRc1DoI7Wo"
   },
   "source": [
    "### Installation of Packages\n",
    "The enviroment has the most commonly used packages installed so you are able to directly import them. Other packages might not be installed so we need to install them before we can import them. In this notebook we will be using the plotnine package which is not pre-installed. We can use the pip install command to install the package. On your home computer you only have to do this once. As our environment is only active for the current session we have to do this everytime we open the binder."
   ]
  },
  {
   "cell_type": "code",
   "execution_count": null,
   "metadata": {
    "colab": {
     "base_uri": "https://localhost:8080/"
    },
    "id": "QH2bZrxpI7Wo",
    "outputId": "90329a65-652d-422e-b994-832f6775c078"
   },
   "outputs": [],
   "source": [
    "# Use pip to intall packages\n",
    "# We will use the geopandas package to make a beautiful heat map of the US and the us package\n",
    "%pip install geopandas\n",
    "%pip install us"
   ]
  },
  {
   "cell_type": "code",
   "execution_count": null,
   "metadata": {
    "id": "bTPqYfIKI7Wq"
   },
   "outputs": [],
   "source": [
    "import pandas as pd\n",
    "import numpy as np\n",
    "import os\n",
    "import glob\n",
    "#from plotnine import *\n",
    "\n",
    "import matplotlib as mplib\n",
    "import matplotlib.pyplot as plt # visualization package 1\n",
    "import seaborn as sns           # visualization package 2\n",
    "\n",
    "\n",
    "import geopandas          #  geospatial data package 1\n",
    "import us                 #  geospatial data package 2\n",
    "\n",
    "# so images get plotted in the notebook\n",
    "%matplotlib inline"
   ]
  },
  {
   "cell_type": "markdown",
   "metadata": {
    "id": "l4-IO-_VI7Wq"
   },
   "source": [
    "## Read in Projects Data from 2012-2021  <a class=\"anchor\" id=\"read\"></a>"
   ]
  },
  {
   "cell_type": "code",
   "execution_count": null,
   "metadata": {
    "id": "Eqc3vnwtI7Wq"
   },
   "outputs": [],
   "source": [
    "# Specify a path with the data folder\n",
    "# Change \"NAME\" to your name as recorded on your computer\n",
    "# path = 'C:/Users/NAME/PADM-GP_2505/Data/'\n",
    "Path = \"---/PADM-GP_2505/Data\"\n"
   ]
  },
  {
   "cell_type": "markdown",
   "metadata": {
    "id": "VLe2jkazI7Wq"
   },
   "source": [
    "#### Set working directory\n",
    "We will change the working directory to the Projects folder. We need to do this so we can read in all of the projects files at once."
   ]
  },
  {
   "cell_type": "code",
   "execution_count": null,
   "metadata": {
    "id": "kGS1JjO3I7Wq",
    "scrolled": true
   },
   "outputs": [],
   "source": [
    "# use the chdir funftion from the os package to sed your working directory \n",
    "os.chdir(Path + \"/Projects\")"
   ]
  },
  {
   "cell_type": "code",
   "execution_count": null,
   "metadata": {
    "colab": {
     "base_uri": "https://localhost:8080/"
    },
    "id": "EQDC9UB4I7Wr",
    "outputId": "589a07ac-64a1-4d5b-8061-67cbe420e9c1"
   },
   "outputs": [],
   "source": [
    "# Generate an empty dataframe that will hold all the patent data we have\n",
    "all_projects = pd.DataFrame([])\n",
    "\n",
    "# Now loop through each file in the folder that starts with RePORTER\n",
    "# Read that file using only the columns we need\n",
    "# And append it to the dataframe that we created above\n",
    "# This might take a little while to run (no more than 1 minute)\n",
    "for counter, file in enumerate(glob.glob(\"RePORTER*?\")):\n",
    "    print(counter,file)\n",
    "    projects = pd.read_csv(file, usecols=['APPLICATION_ID','TOTAL_COST','CORE_PROJECT_NUM','FULL_PROJECT_NUM', 'FY', 'IC_NAME', \n",
    "                                          'ORG_NAME', 'ORG_STATE','PI_NAMEs','PI_NAMEs','PROJECT_START',\n",
    "                                          'PROJECT_END','PROJECT_TITLE','NIH_SPENDING_CATS'], \n",
    "                           encoding='latin-1')\n",
    "    projects['ORG_STATE'] = projects['ORG_STATE'].astype(str)\n",
    "    projects['TOTAL_COST'] = projects['TOTAL_COST'].astype(str)\n",
    "    all_projects = all_projects.append(projects)"
   ]
  },
  {
   "cell_type": "code",
   "execution_count": null,
   "metadata": {
    "colab": {
     "base_uri": "https://localhost:8080/",
     "height": 687
    },
    "id": "AizqDh2wI7Wr",
    "outputId": "685a3a7d-94a4-4eae-fb79-7def8d50543d",
    "scrolled": true
   },
   "outputs": [],
   "source": [
    "# View the first 5 observations \n",
    "all_projects.head()"
   ]
  },
  {
   "cell_type": "markdown",
   "metadata": {
    "id": "zDh6k8D9I7Wr"
   },
   "source": [
    "#### Subset for Cancer Projects\n",
    "In this notebook we want to focus on Cancer research. In the previous notebooks we have focuesd on projects funded by the `NATIONAL CANCER INSTITUTE `. In this notebook we will select all Projects that have the worrd Cancer in the NIH_SPENDING_CATS. "
   ]
  },
  {
   "cell_type": "code",
   "execution_count": null,
   "metadata": {
    "colab": {
     "base_uri": "https://localhost:8080/",
     "height": 583
    },
    "id": "M5ONMbcsI7Wr",
    "outputId": "4533caf5-e612-4f3b-e43d-8ce83e9247f4"
   },
   "outputs": [],
   "source": [
    "# Subsetting by a keyword in a string using str.contains()\n",
    "# Show all projects which contain word \"Cancer\" in the NIH_SPENDING_CATS variable\n",
    "cancer_projects = all_projects[all_projects['NIH_SPENDING_CATS'].str.contains('Cancer', na = False)]\n",
    "\n",
    "# Reset index\n",
    "cancer_projects = cancer_projects.reset_index()\n",
    "\n",
    "# view the first 5 observations\n",
    "cancer_projects.head()"
   ]
  },
  {
   "cell_type": "markdown",
   "metadata": {
    "id": "6Hm_hKuDI7Wr"
   },
   "source": [
    "# Checkpoint 1: Subset data for your project  <a class=\"anchor\" id=\"cp1\"></a>\n",
    "\n",
    "Make a dataframe called Project_data that is a subset of the all_projects data frame where the NIH_SPENDING_CATS is equal to a specific spending category, or the string contains a specific key ward (as we did above with Cancer). (1 point)\n",
    "\n",
    "Use the FY variable to subset your Project_data dataframe to the fiscal years you would like to include in the analysis for your project. (Please keep this dataframe named Project_data). (1 point) "
   ]
  },
  {
   "cell_type": "markdown",
   "metadata": {
    "id": "gk3UAzQ3I7Wr"
   },
   "source": [
    "# Visualizations  <a class=\"anchor\" id=\"visualizations\"></a>\n",
    "Before generating the graph you first want to think about the information you are trying to convey and what your visualization should look like. It might help to draw a sketch on paper first. Once you know what type of graph is best suited to illustrate what you want to show, you will need to think about how to prepare the data you need for the graph. For your presentations, you should only include figures that serve a purpose, and convey important information to your audience."
   ]
  },
  {
   "cell_type": "markdown",
   "metadata": {
    "id": "RV4L9c0oI7Ws"
   },
   "source": [
    "## Barplots  <a class=\"anchor\" id=\"barplots \"></a>"
   ]
  },
  {
   "cell_type": "code",
   "execution_count": null,
   "metadata": {
    "colab": {
     "base_uri": "https://localhost:8080/",
     "height": 206
    },
    "id": "S3aHmW3zI7Ws",
    "outputId": "9bf01650-e5cd-4265-8937-0d83d48aba47"
   },
   "outputs": [],
   "source": [
    "# calculate how many Cancer Projects each IC has\n",
    "IC = cancer_projects.groupby(['IC_NAME'])['CORE_PROJECT_NUM'].nunique().sort_values(ascending=False)\n",
    "\n",
    "# Convert into a dataframe and reset index\n",
    "IC = IC.to_frame().reset_index()\n",
    "\n",
    "# Rename FULL_PROJECT_NUM to Total_Projects\n",
    "IC.rename(columns={'CORE_PROJECT_NUM':'Total_Cancer_Projects'}, inplace = True)\n",
    "\n",
    "# View the first 8 observations \n",
    "IC.head()"
   ]
  },
  {
   "cell_type": "markdown",
   "metadata": {
    "id": "xkwrzIIGI7Ws"
   },
   "source": [
    "We can see that the NATIONAL CANCER INSTITUTE sponsors the most Cancer projects by far, but we can create a visualization to process this information easier. This visualization will be used for data exploration, so we will not take time to make it pretty."
   ]
  },
  {
   "cell_type": "code",
   "execution_count": null,
   "metadata": {
    "colab": {
     "base_uri": "https://localhost:8080/",
     "height": 733
    },
    "id": "ySpFClnzI7Ws",
    "outputId": "4c413b2e-31df-4efd-8184-19664ffbb4f7"
   },
   "outputs": [],
   "source": [
    "## Barplot function\n",
    "# Note we can reference column names (in quotes) in the specified data:\n",
    "sns.barplot(x='IC_NAME', \n",
    "            y='Total_Cancer_Projects', \n",
    "            data = IC)\n",
    "\n",
    "# Rotate the CI names on the x-axis 90 degrees\n",
    "plt.xticks(rotation=90, ha='right')\n",
    "plt.show()"
   ]
  },
  {
   "cell_type": "markdown",
   "metadata": {
    "id": "jHMTYK4iI7Ws"
   },
   "source": [
    "From this visual, we can see that only looking at projects sponsored by the NCI will cover most Cancer projects, but we might not want to leave out those other projects. In this notebook we will not be subsetting for NCI projects.\n",
    "\n",
    "This visual is just used to help us understand our data, so we will not waste time on perfecting it. "
   ]
  },
  {
   "cell_type": "markdown",
   "metadata": {
    "id": "KPef_ECNI7Ws"
   },
   "source": [
    "### Number of Core Cancer Projects Annually \n",
    "Next we want to see how the number of Cancer projets changes over the years. \n",
    "We will begin with preparing the data, then we will make a quick and easy graph. After that, we will update the figure to get it presentation ready."
   ]
  },
  {
   "cell_type": "markdown",
   "metadata": {
    "id": "zfeelpjEI7Ws"
   },
   "source": [
    "#### Preparing the Annual Cancer data"
   ]
  },
  {
   "cell_type": "code",
   "execution_count": null,
   "metadata": {
    "colab": {
     "base_uri": "https://localhost:8080/",
     "height": 206
    },
    "id": "cbRH8GXVI7Ws",
    "outputId": "f457ba2f-2354-40ee-c80a-6c0a790262b3",
    "scrolled": true
   },
   "outputs": [],
   "source": [
    "# calculate how many Cancer Core Projects each fiscal year\n",
    "Cancer_Annual = cancer_projects.groupby(['FY'])['CORE_PROJECT_NUM'].nunique()\n",
    "\n",
    "# Convert into a dataframe and reset index\n",
    "Cancer_Annual = Cancer_Annual.to_frame().reset_index()\n",
    "\n",
    "# Rename CORE_PROJECT_NUM to Cancer_Core_Projects\n",
    "Cancer_Annual.rename(columns={'CORE_PROJECT_NUM':'Cancer_Core_Projects'}, inplace = True)\n",
    "\n",
    "# View the first 8 observations \n",
    "Cancer_Annual.head()"
   ]
  },
  {
   "cell_type": "markdown",
   "metadata": {
    "id": "cf772xr9I7Ws"
   },
   "source": [
    "#### Make a quick and eazy barplot"
   ]
  },
  {
   "cell_type": "code",
   "execution_count": null,
   "metadata": {
    "colab": {
     "base_uri": "https://localhost:8080/",
     "height": 279
    },
    "id": "OQL0WEQDI7Wt",
    "outputId": "f8dedf42-075f-46dc-b2f7-d2ca4b60bdf4",
    "scrolled": true
   },
   "outputs": [],
   "source": [
    "## Barplot function\n",
    "# Note we can reference column names (in quotes) in the specified data:\n",
    "sns.barplot(x = 'FY', \n",
    "            y = 'Cancer_Core_Projects', \n",
    "            data = Cancer_Annual)\n",
    "plt.show()"
   ]
  },
  {
   "cell_type": "markdown",
   "metadata": {
    "id": "8peG3pYNI7Wt"
   },
   "source": [
    "## Presentation Ready Figures <a class=\"anchor\" id=\"presentation\"></a>\n",
    "\n",
    "### An Important Note on Graph Titles:\n",
    "\n",
    "The title of a visualization occupies the most valuable real estate on the page. If nothing else, you can be reasonably sure a viewer will at least read the title and glance at your visualization. This is why you want to put thought into making a clear and effective title that acts as a **narrative** for your chart highlighting the **Important takeaway** of the figure. Many novice visualizers default to an **explanatory** title, something like: \"Average Projects over Time (2012-2021)\". This title is correct - it just isn't very useful. This is particularly true since any good graph will have explained what the visualization is through the axes and legends. Instead, use the title to reinforce and explain the core point of the visualization. It should answer the question \"Why is this graph important?\" and focus the viewer onto the most critical take-away.\n",
    "\n",
    "### A Note on Data Sourcing\n",
    "\n",
    "Data sourcing is a critical aspect of any data visualization. Although here we are simply referencing the agencies that created the data, it is ideal to provide as direct of a path as possible for the viewer to find the data the graph is based on. When this is not possible (e.g. the data is sequestered), directing the viewer to documentation or methodology for the data is a good alternative. Regardless, providing clear sourcing for the underlying data is an **absolutely requirement** of any respectable visualization, and further builds trusts and enables reproducibility.\n",
    "\n",
    "#### A Note on Colors Selection\n",
    "The colors used in your visualization should convey meaning. Using different colors without purpose can lead to un-necessary confusion where your audience will start looking for meaning in the colors. \n"
   ]
  },
  {
   "cell_type": "markdown",
   "metadata": {
    "id": "r8z_PhAqI7Wt"
   },
   "source": [
    "### Getting the barplot Presentation ready <a class=\"anchor\" id=\"barplot_presentation\"></a>\n",
    "You may want to include a figure like this in your presentation. As is, this figure is inadequate for conveying information to your audience.\n",
    "- First, we want to change the color\n",
    "- Second, We will change the x- and y-axis labels\n",
    "- Next, we will give the figure a title that tells the audience what you are trying to convey with the figure\n",
    "- Next, we will add a black line to indicate what year the Cancer Moonshot began.\n",
    "- Finally, we will add a source to the data"
   ]
  },
  {
   "cell_type": "code",
   "execution_count": null,
   "metadata": {
    "colab": {
     "base_uri": "https://localhost:8080/",
     "height": 310
    },
    "id": "c9pLSf0rI7Wt",
    "outputId": "ed116896-7ea4-4f18-b75a-5d863230c447"
   },
   "outputs": [],
   "source": [
    "## Barplot function\n",
    "# Note we can reference column names (in quotes) in the specified data:\n",
    "# Change the color to steelblue\n",
    "yearly_projects = sns.barplot(x = 'FY', \n",
    "                             y = 'Cancer_Core_Projects', \n",
    "                             data = Cancer_Annual, \n",
    "                             color='#7851A9')\n",
    "# Change the x-axis label\n",
    "yearly_projects.set(xlabel =\"Fiscal Year\", \n",
    "# Change the y-axis label\n",
    "                    ylabel = \"Number of Cancer Core Projects\",\n",
    "# Change the title\n",
    "                    title = \"The Number of Funded Cancer Projects were Decreasing Before the Cancer Moonshot and Increasing After\")\n",
    "\n",
    "# Add a vertical year in 2016\n",
    "plt.vlines(x = 4, ymin = 0, ymax = 11000, color = 'black', linewidth=5)\n",
    "\n",
    "# add a data source \n",
    "# xy are measured in percent of axes length, from bottom left of graph:\n",
    "plt.annotate('Source: NIH RePORTER', xy=(0.95,-0.20), xycoords=\"axes fraction\")\n",
    "\n",
    "plt.show()"
   ]
  },
  {
   "cell_type": "markdown",
   "metadata": {
    "id": "g5wCtxPUI7Wt"
   },
   "source": [
    "#### Using Hex Codes for Color\n",
    "In the graph above, you can see I set the color of the graph with pund sign `#` followed by a series of six numbers. This is a hexcode - which is short for hexadecimal code. A hexadecimal code lets you specify one of over 16 million colors using combinations of red, green, and blue. It first has two digits for red, then two digits for green, and lastly two digits for blue: `#RRGGBB`"
   ]
  },
  {
   "cell_type": "markdown",
   "metadata": {
    "id": "nWUoK7JCI7Wt"
   },
   "source": [
    "# Checkpoint 2: Make a Barplot  <a class=\"anchor\" id=\"cp2\"></a>\n",
    "Using your `Project_data` dataframe make a Presentation ready barplot.  \n",
    "- Prepare the data to make your barplot. You can graph the number of core projects each year as we did above, but you don't have to. You can be more creative with your barplot to depict an important aspect of your research project. (1 point)\n",
    "- Give your barplot a title that tells your audience the important take away of your visualization (1 point)\n",
    "- Change the color of the bars (1 point)\n",
    "- Change the x and y axis labels and make sure you include a data source. (1 point)\n"
   ]
  },
  {
   "cell_type": "code",
   "execution_count": null,
   "metadata": {
    "id": "G-84ku1cI7Wt"
   },
   "outputs": [],
   "source": []
  },
  {
   "cell_type": "code",
   "execution_count": null,
   "metadata": {
    "id": "3prw043vI7Wu"
   },
   "outputs": [],
   "source": []
  },
  {
   "cell_type": "markdown",
   "metadata": {
    "id": "GKm-xkvTI7Wu"
   },
   "source": [
    "### Percentage of Core Cancer projects over time  <a class=\"anchor\" id=\"cancer_pi\"></a>\n",
    "Next we will look at the number of PIs working on Cancer projects over time and how it compares to the number of PIs working on non-cancer projects"
   ]
  },
  {
   "cell_type": "markdown",
   "metadata": {
    "id": "TMiXIWGmI7Wu"
   },
   "source": [
    "### Cleaning PI_NAMEs  <a class=\"anchor\" id=\"pi\"></a>\n",
    "Using the same code in the `Record_Linkage_and_measurement.ipynb` notebook we will clean the PI names "
   ]
  },
  {
   "cell_type": "code",
   "execution_count": null,
   "metadata": {
    "colab": {
     "base_uri": "https://localhost:8080/",
     "height": 242
    },
    "id": "uDOfMDPcI7Wu",
    "outputId": "94856306-bfc9-4e3c-8bbd-dc7855eff432",
    "scrolled": true
   },
   "outputs": [],
   "source": [
    "# Make a temperary dataframe that creates an observation for each PI. \n",
    "# Use the explode function to split the PI_Names at the ;\n",
    "temp = cancer_projects['PI_NAMEs'].str.split(';').explode().reset_index()\n",
    "\n",
    "# Rename the PI_NAMEs variable\n",
    "temp = temp.rename(columns = {'PI_NAMEs': 'PI_NAME'})\n",
    "\n",
    "# Only keep observations in the temp dataframe where PI_NAME is not an empty string\n",
    "temp = temp[temp['PI_NAME'] !=\"\"]\n",
    "\n",
    "# For the the PI_NAME variable, use the str.replace fundtion to replace ` (contact)` with nothing \n",
    "temp['PI_NAME'] = temp['PI_NAME'].str.replace(' \\(contact\\)', '')\n",
    "\n",
    "# look at the first 5 observations\n",
    "temp.head()"
   ]
  },
  {
   "cell_type": "code",
   "execution_count": null,
   "metadata": {
    "colab": {
     "base_uri": "https://localhost:8080/",
     "height": 363
    },
    "id": "ebc3KFCRI7Wu",
    "outputId": "9a15fcf1-928d-4457-d83b-89f0a9cb1e51"
   },
   "outputs": [],
   "source": [
    "# Reset the index\n",
    "cancer_projects2 = cancer_projects.reset_index()\n",
    "\n",
    "cancer_projects2[['index','APPLICATION_ID','PI_NAMEs']].head(10)"
   ]
  },
  {
   "cell_type": "code",
   "execution_count": null,
   "metadata": {
    "id": "VOO1vJJtI7Wu"
   },
   "outputs": [],
   "source": [
    "cancer_projects2 = cancer_projects2.reset_index(drop=True)"
   ]
  },
  {
   "cell_type": "code",
   "execution_count": null,
   "metadata": {
    "colab": {
     "base_uri": "https://localhost:8080/",
     "height": 363
    },
    "id": "XF6kWm8YI7Wu",
    "outputId": "7b83bdf8-cd24-44bd-effb-8f54f5673e85"
   },
   "outputs": [],
   "source": [
    "cancer_projects2[['level_0','index','APPLICATION_ID','PI_NAMEs']].head(10)"
   ]
  },
  {
   "cell_type": "code",
   "execution_count": null,
   "metadata": {
    "colab": {
     "base_uri": "https://localhost:8080/",
     "height": 419
    },
    "id": "CcGgMuY8I7Wu",
    "outputId": "345ff0bb-82fa-42af-99e5-0c674833c97a"
   },
   "outputs": [],
   "source": [
    "# Merge this temperary dataframe with cancer_projects2\n",
    "# Reset the index\n",
    "cancer_projects3 = cancer_projects2.merge(temp, left_on = 'level_0', right_on='index') \n",
    "\n",
    "# look at the first 2 observations\n",
    "cancer_projects3.head(2)"
   ]
  },
  {
   "cell_type": "code",
   "execution_count": null,
   "metadata": {
    "colab": {
     "base_uri": "https://localhost:8080/",
     "height": 238
    },
    "id": "AAD9faN4I7Wu",
    "outputId": "1d3421c1-e488-4e65-e984-958dfb89362a"
   },
   "outputs": [],
   "source": [
    "# Look at the first 6 observations for select variables\n",
    "cancer_projects3[['APPLICATION_ID','PI_NAMEs','PI_NAME']].head(6)"
   ]
  },
  {
   "cell_type": "code",
   "execution_count": null,
   "metadata": {
    "id": "I7wcA4-eI7Wv"
   },
   "outputs": [],
   "source": [
    "# Convert scientific notation to a full float\n",
    "pd.set_option('display.float_format', '{:.2f}'.format)"
   ]
  },
  {
   "cell_type": "markdown",
   "metadata": {
    "id": "EeoAnbUwI7Wv"
   },
   "source": [
    "#### Number of PI's working on Cancer projects each yeah\n",
    "We will calculate the number of PI's working on Cancer projects each fiscal year"
   ]
  },
  {
   "cell_type": "code",
   "execution_count": null,
   "metadata": {
    "colab": {
     "base_uri": "https://localhost:8080/",
     "height": 206
    },
    "id": "lkTohclQI7Wv",
    "outputId": "6d8b3c48-4565-47fd-b4f1-faa61738f033"
   },
   "outputs": [],
   "source": [
    "# calculate how many PIs are working on Cancer Projects each fiscal year\n",
    "Cancer_PI = cancer_projects3.groupby(['FY'])['PI_NAMEs'].nunique()\n",
    "\n",
    "# Convert into a dataframe and reset index\n",
    "Cancer_PI = Cancer_PI.to_frame().reset_index()\n",
    "\n",
    "# Rename CORE_PROJECT_NUM to Cancer_Core_Projects\n",
    "Cancer_PI.rename(columns={'PI_NAMEs':'Cancer_PIs'}, inplace = True)\n",
    "\n",
    "# View the first 8 observations \n",
    "Cancer_PI.head()"
   ]
  },
  {
   "cell_type": "markdown",
   "metadata": {
    "id": "quFT_suMI7Wv"
   },
   "source": [
    "#### Number of PI's working on projects each yeah\n",
    "We will calculate the number of PI's working on any project each fiscal year"
   ]
  },
  {
   "cell_type": "code",
   "execution_count": null,
   "metadata": {
    "colab": {
     "base_uri": "https://localhost:8080/",
     "height": 206
    },
    "id": "lxb-WDEqI7Wv",
    "outputId": "3a3b301e-43bf-4846-b958-463bff1a8351"
   },
   "outputs": [],
   "source": [
    "# calculate how many PIs are working on all Projects each fiscal year\n",
    "All_PI = all_projects.groupby(['FY'])['PI_NAMEs'].nunique()\n",
    "\n",
    "# Convert into a dataframe and reset index\n",
    "All_PI = All_PI.to_frame().reset_index()\n",
    "\n",
    "# Rename CORE_PROJECT_NUM to Cancer_Core_Projects\n",
    "All_PI.rename(columns={'PI_NAMEs':'All_PIs'}, inplace = True)\n",
    "\n",
    "# View the first 8 observations \n",
    "All_PI.head()"
   ]
  },
  {
   "cell_type": "markdown",
   "metadata": {
    "id": "fWtY5cSNI7Wv"
   },
   "source": [
    "#### Percentage of PIs working on Cancer Progects each year\n",
    "First we are going to merge together the All_PI dataframe and the Cancer_PI data frame, then we will calculate the percentage of all projects that are cancer projects and the percentage of all projects that are not cancer projects."
   ]
  },
  {
   "cell_type": "code",
   "execution_count": null,
   "metadata": {
    "colab": {
     "base_uri": "https://localhost:8080/",
     "height": 363
    },
    "id": "UPJ72vtBI7Wv",
    "outputId": "7df45dad-f0ce-40d9-96e1-8951ac65404c"
   },
   "outputs": [],
   "source": [
    "# Marge together  `All_Annual` and `Cancer_Annual on PI_NAME`, creating a new data frame called `Annual.`\n",
    "# Use an outer merge. \n",
    "Annual_PI = pd.merge(All_PI, Cancer_PI, on='FY', how = 'outer')\n",
    "\n",
    "# View the dataframe\n",
    "Annual_PI "
   ]
  },
  {
   "cell_type": "markdown",
   "metadata": {
    "id": "9hVXsB6DI7Wv"
   },
   "source": [
    "We are going to add a new column that reports the percent of all core projects that are cancer related "
   ]
  },
  {
   "cell_type": "code",
   "execution_count": null,
   "metadata": {
    "colab": {
     "base_uri": "https://localhost:8080/",
     "height": 363
    },
    "id": "_tr9dxUXI7Wv",
    "outputId": "a38e2815-59ad-4dbb-d9da-fd0a22334437"
   },
   "outputs": [],
   "source": [
    "# Calculate the percent of PIs who work on cancer research and round to the tenth decimal place \n",
    "Annual_PI['Percent_Cancer'] = round((Annual_PI['Cancer_PIs']/Annual_PI['All_PIs'])*100,2)\n",
    "\n",
    "# Calculate the percent of PIs who did not work on cancer research \n",
    "Annual_PI['Percent_Not_Cancer'] = 100 - Annual_PI['Percent_Cancer']\n",
    "\n",
    "# Save only the FY, Percent_Cancer and Percent_Not_Cancer variables\n",
    "Annual_PI2 = Annual_PI[['FY','Percent_Cancer', 'Percent_Not_Cancer']]\n",
    "\n",
    "# View the data frame\n",
    "Annual_PI2"
   ]
  },
  {
   "cell_type": "markdown",
   "metadata": {
    "id": "vx8WOD-sI7Wv"
   },
   "source": [
    "## Stacked Barplot   <a class=\"anchor\" id=\"stacked\"></a>\n",
    "Below, we will produce a Stacked Barplot that depicts the percentage of PIs working on cancer projects in one color and the percentage of PIs not working on cancer progects in a different color."
   ]
  },
  {
   "cell_type": "code",
   "execution_count": null,
   "metadata": {
    "colab": {
     "base_uri": "https://localhost:8080/",
     "height": 326
    },
    "id": "atLBg7F8I7Ww",
    "outputId": "217085af-7c78-4ade-befb-de534358cbd0"
   },
   "outputs": [],
   "source": [
    "# Set the Background color (https://matplotlib.org/gallery/style_sheets/style_sheets_reference.html)\n",
    "plt.style.use('dark_background')\n",
    "\n",
    "# Create stacked bar chart\n",
    "yearly_PI = Annual_PI2.set_index('FY').plot(kind='bar', \n",
    "                                                  stacked=True, \n",
    "                                                  color=['#7851A9', 'Grey'])\n",
    "# Add the x label\n",
    "plt.xlabel('Fiscal Year', fontsize=12, labelpad=15)\n",
    "# Add the y label\n",
    "plt.ylabel('Percentage of PIs Working on Cancer Projects', fontsize=10, labelpad=15)\n",
    "# Add the tile\n",
    "plt.title('The Percentage of PIs Working on Cancer Projects Remained Consistant Over Time', fontsize=15, fontweight='bold')\n",
    "\n",
    "# add a data source \n",
    "plt.annotate('Source: NIH RePORTER', xy=(0.95,-0.20), xycoords=\"axes fraction\")\n",
    "\n",
    "#rotate x-axis labels\n",
    "plt.xticks(rotation=45)\n",
    "\n",
    "## create legend and put it to the right mid way up the graph\n",
    "plt.legend((\"Percent Cancer\", \"Percent Not Cancer\"), loc = (1.05,0.50)) \n",
    "\n",
    "\n",
    "plt.show()"
   ]
  },
  {
   "cell_type": "code",
   "execution_count": null,
   "metadata": {
    "id": "UHASWvRPI7Ww"
   },
   "outputs": [],
   "source": [
    "## Switch back to default style\n",
    "plt.rcParams.update(plt.rcParamsDefault)\n",
    "%matplotlib inline"
   ]
  },
  {
   "cell_type": "markdown",
   "metadata": {
    "id": "ytL5bmMBI7Ww"
   },
   "source": [
    "## Geopandas <a class=\"anchor\" id=\"geopandas\"></a>\n",
    "GeoPandas is an open-source project to make working with geospatial data in python easier. GeoPandas extends the datatypes used by pandas to allow spatial operations on geometric types. Geometric operations are performed by shapely. Geopandas further depends on fiona for file access and matplotlib for plotting.\n",
    "In this section we will use the geopandas along with matplotlib to produce geospatial heat maps."
   ]
  },
  {
   "cell_type": "markdown",
   "metadata": {
    "id": "pet3sg1qI7Ww"
   },
   "source": [
    "## Heat Map of the United States <a class=\"anchor\" id=\"hm\"></a>"
   ]
  },
  {
   "cell_type": "markdown",
   "metadata": {
    "id": "tPkINvkGI7Ww"
   },
   "source": [
    "#### Read in the Shape file\n",
    "Please download the [tl_rd22_us_state.zip](https://drive.google.com/file/d/1M01wosaxtywlT8ss3lS04GPkR4zogIuz/view?usp=share_link) folder from the google drive, un-zip it and move it to the Data folder inside the PADM-GP_2505 folder you made for this class. Note, while we only read in the .shp file, you need all of the files in this folder to make geospatial images. "
   ]
  },
  {
   "cell_type": "code",
   "execution_count": null,
   "metadata": {
    "id": "T0bSoexrI7Ww",
    "outputId": "ebdf9201-9762-4d6b-ad3d-28f7942a4f14"
   },
   "outputs": [],
   "source": [
    "# Use geopandas to read in the .shp file\n",
    "states = geopandas.read_file(Path + '/tl_rd22_us_state/tl_rd22_us_state.shp')\n",
    "type(states)"
   ]
  },
  {
   "cell_type": "code",
   "execution_count": null,
   "metadata": {
    "colab": {
     "base_uri": "https://localhost:8080/",
     "height": 240
    },
    "id": "dvJ8n3C5I7Ww",
    "outputId": "3b4bfcae-96c2-4320-a468-836770ae9f43"
   },
   "outputs": [],
   "source": [
    "# Look at the first 3 observations\n",
    "states.head(3)"
   ]
  },
  {
   "cell_type": "markdown",
   "metadata": {
    "id": "JSxUqB1HI7Ww"
   },
   "source": [
    "### Number of projects by State\n",
    "We are going to creata a geospatial heat map of the U.S. where the color of each state depicts the nukber of Core Projects from the state. First we meed to prepair the data. "
   ]
  },
  {
   "cell_type": "code",
   "execution_count": null,
   "metadata": {
    "colab": {
     "base_uri": "https://localhost:8080/",
     "height": 112
    },
    "id": "aD723cxAI7Ww",
    "outputId": "a024e0c8-4f35-470d-a458-cb1713214531",
    "scrolled": true
   },
   "outputs": [],
   "source": [
    "# Calculate how many Projects each state\n",
    "cancer_st = cancer_projects.groupby(['ORG_STATE'])['CORE_PROJECT_NUM'].nunique().sort_values(ascending=False)\n",
    "# Convert into a dataframe and reset index\n",
    "cancer_st = cancer_st.to_frame().reset_index()\n",
    "\n",
    "# Rename APPLICATION_ID to Total_Projects_2015\n",
    "cancer_st.rename(columns={'CORE_PROJECT_NUM':'Total_Core_Projects'}, inplace = True)\n",
    "\n",
    "# View the first 2 observations \n",
    "cancer_st.head(2)"
   ]
  },
  {
   "cell_type": "markdown",
   "metadata": {
    "id": "w4Veau2bI7Wx"
   },
   "source": [
    "We need to link this data to the state geodataframe. Note, if we start with the `states` data and merge in the cancer_st data we end up with a geodataframe, however if we start with the cancer_st and merge in the states data we end up with a normal dataframe and not a geodataframe. This is important because we need a geodataframe to produce geospatial heat maps."
   ]
  },
  {
   "cell_type": "code",
   "execution_count": null,
   "metadata": {
    "colab": {
     "base_uri": "https://localhost:8080/",
     "height": 398
    },
    "id": "ajbZzQjRI7Wx",
    "outputId": "f9c88a36-5dfb-40a0-adc7-b76efb5d46cd",
    "scrolled": true
   },
   "outputs": [],
   "source": [
    "# Merge the cancer_st into the states data \n",
    "# where we use the STUSPS variable for the states data equals the ORG_STATE variable from the cancer_st data\n",
    "cancer_st2 = pd.merge(states, cancer_st, left_on=  ['STUSPS'],\n",
    "                   right_on= ['ORG_STATE'], how = 'inner')\n",
    "\n",
    "# View the first 3 observations \n",
    "cancer_st2.head(3)           "
   ]
  },
  {
   "cell_type": "markdown",
   "metadata": {
    "id": "3Vp35G_pI7Wx"
   },
   "source": [
    "#### Make a quick heat map of the us"
   ]
  },
  {
   "cell_type": "code",
   "execution_count": null,
   "metadata": {
    "colab": {
     "base_uri": "https://localhost:8080/",
     "height": 370
    },
    "id": "C-Zk-jNJI7Wx",
    "outputId": "4647972c-bf1d-4798-d7ec-f8ea2ab67733",
    "scrolled": true
   },
   "outputs": [],
   "source": [
    "# Indicate the variable that should be used for the colors for the heat map\n",
    "col = 'Total_Core_Projects'\n",
    "\n",
    "# Create figure and axes for Matplotlib\n",
    "fig, ax = plt.subplots(1, figsize=(20, 8))\n",
    "\n",
    "# Create the heat map of the US\n",
    "cancer_st2.plot(column = col, ax = ax, edgecolor='0.8', linewidth=1, cmap='viridis')\n"
   ]
  },
  {
   "cell_type": "markdown",
   "metadata": {
    "id": "DIld3-bKI7Wx"
   },
   "source": [
    "#### Focus on the continental U.S. \n",
    "When including the entire U.S. and all of its territories in the visual, it is difficult to make out specific states. Depending on your research question, it may be sufficient to focus on the continental U.S.."
   ]
  },
  {
   "cell_type": "code",
   "execution_count": null,
   "metadata": {
    "id": "ipz-KbWeI7Wx"
   },
   "outputs": [],
   "source": [
    "# Remove all of the small islands\n",
    "cancer_st3 = cancer_st2[cancer_st2['REGION'] != '9']\n",
    "# Remove Hawaii\n",
    "cancer_st3 = cancer_st3[cancer_st3['STUSPS'] != 'HI']\n",
    "# Remove Alaska\n",
    "cancer_st3 = cancer_st3[cancer_st3['STUSPS'] != 'AK']"
   ]
  },
  {
   "cell_type": "markdown",
   "metadata": {
    "id": "o_Zb9UcQI7Wx"
   },
   "source": [
    "### Make a Presentation Ready heat map of the us <a class=\"anchor\" id=\"presentation_hm\"></a>"
   ]
  },
  {
   "cell_type": "code",
   "execution_count": null,
   "metadata": {
    "colab": {
     "base_uri": "https://localhost:8080/",
     "height": 580
    },
    "id": "90JaM7YwI7Wx",
    "outputId": "d7fc5696-b6b9-47c5-ea70-774fb6423bdf"
   },
   "outputs": [],
   "source": [
    "# Indicate the variable that should be used for the colors for the heat map\n",
    "col = 'Total_Core_Projects'\n",
    "\n",
    "\n",
    "# Create figure and axes for Matplotlib\n",
    "fig, ax = plt.subplots(1, figsize=(20, 8))\n",
    "\n",
    "# Remove the axis\n",
    "ax.axis('off')\n",
    "\n",
    "# Create the heat map of the US, use the viridis color palette \n",
    "cancer_st3.plot(column=col, ax = ax, edgecolor = '0.8', linewidth = 1, cmap = 'viridis')\n",
    "\n",
    "# Give your figure a title\n",
    "title = 'California has the Most Core Cancer Projects'\n",
    "ax.set_title(title, fontdict={'fontsize': '25', 'fontweight': '3'})\n",
    "\n",
    "\n",
    "# add a data source \n",
    "# xy are measured in percent of axes length, from bottom left of graph:\n",
    "plt.annotate('Source: NIH RePORTER', xy=(0.95,-0.20), xycoords=\"axes fraction\")\n",
    "\n",
    "# identify the max and min number of Cancer projects \n",
    "vmin = cancer_st3[col].min()\n",
    "vmax = cancer_st3[col].max()\n",
    "            \n",
    "# Create colorbar as a legend\n",
    "sm = plt.cm.ScalarMappable(norm=plt.Normalize(vmin=vmin, vmax=vmax), cmap='viridis')\n",
    "\n",
    "\n",
    "# Add the colorbar to the figure\n",
    "cbaxes = fig.add_axes([0.15, 0.25, 0.01, 0.4])\n",
    "cbar = fig.colorbar(sm, cax=cbaxes)"
   ]
  },
  {
   "cell_type": "markdown",
   "metadata": {
    "id": "i-8ZvHLWI7Wx"
   },
   "source": [
    "## More visuals  <a class=\"anchor\" id=\"More\"></a>\n",
    "Below are a few visual types you might want to include in your projects. These are just quick and easy graphs, but you can add the same code we added to the bar plot to make presentation ready."
   ]
  },
  {
   "cell_type": "markdown",
   "metadata": {
    "id": "ugxQLob0I7Wx"
   },
   "source": [
    "### Lineplots  <a class=\"anchor\" id=\"lineplots\"></a>"
   ]
  },
  {
   "cell_type": "code",
   "execution_count": null,
   "metadata": {
    "colab": {
     "base_uri": "https://localhost:8080/",
     "height": 279
    },
    "id": "l3htLUavI7Wy",
    "outputId": "b0d1f26b-8a4c-4477-ce43-5cd3af782e59"
   },
   "outputs": [],
   "source": [
    "sns.lineplot(x = 'FY', \n",
    "             y = 'Cancer_Core_Projects', \n",
    "             data = Cancer_Annual)\n",
    "plt.show()"
   ]
  },
  {
   "cell_type": "markdown",
   "metadata": {
    "id": "blukCgLBI7Wy"
   },
   "source": [
    "### Histogram   <a class=\"anchor\" id=\"Histagram\"></a>"
   ]
  },
  {
   "cell_type": "code",
   "execution_count": null,
   "metadata": {
    "id": "lreEYGQqI7Wy"
   },
   "outputs": [],
   "source": [
    "#### plt.hist(fund_lim[fund_lim[\"FY\"] == 2010].FY_TOTAL_COST, facecolor=\"y\", bins=50, alpha=0.5)"
   ]
  },
  {
   "cell_type": "code",
   "execution_count": null,
   "metadata": {
    "colab": {
     "base_uri": "https://localhost:8080/"
    },
    "id": "xT_N87sJI7Wy",
    "outputId": "05561885-1442-4725-feff-9d768a4ec26b"
   },
   "outputs": [],
   "source": [
    "cancer_projects.columns"
   ]
  },
  {
   "cell_type": "code",
   "execution_count": null,
   "metadata": {
    "id": "g-Z1s4ObI7Wy"
   },
   "outputs": [],
   "source": [
    "# Remove all \n",
    "hist_data = cancer_projects[cancer_projects[\"TOTAL_COST\"].notnull()]\n",
    "hist_data_15 = hist_data[hist_data[\"FY\"] == 2015]\n",
    "hist_data_19 = hist_data[hist_data[\"FY\"] == 2019]"
   ]
  },
  {
   "cell_type": "code",
   "execution_count": null,
   "metadata": {
    "colab": {
     "base_uri": "https://localhost:8080/",
     "height": 265
    },
    "id": "dLTpHg_AI7Wy",
    "outputId": "916c1d9c-088a-4db1-b3d9-746c1e478784"
   },
   "outputs": [],
   "source": [
    "# Make a simple histogram:\n",
    "# The plt.hist function draws histograms. You have to give it the dataframe and variable you want to plot\n",
    "plt.hist(hist_data_15.TOTAL_COST)\n",
    "plt.show()"
   ]
  },
  {
   "cell_type": "markdown",
   "metadata": {
    "id": "yi533eDZI7Wy"
   },
   "source": [
    "### Layering in Matplotlib  <a class=\"anchor\" id=\"Layering\"></a>\n",
    "This functionality - where we can make consecutive changes to the same plot - also allows us to layer on multiple plots. By default, the first graph you create will be at the bottom, with ensuing graphs on top.\n",
    "\n",
    "Below, we see the 2010 histogram is beneath the 2015 histogram. You might also notice that the distribution of grant funding has shifted a bit over the years. "
   ]
  },
  {
   "cell_type": "code",
   "execution_count": null,
   "metadata": {
    "colab": {
     "base_uri": "https://localhost:8080/",
     "height": 265
    },
    "id": "FaXs8tLJI7Wy",
    "outputId": "0a3ab2fb-c8bc-4caa-b6c2-949d86b141a7"
   },
   "outputs": [],
   "source": [
    "## Layering plots\n",
    "plt.hist(hist_data_19.TOTAL_COST, facecolor=\"y\", bins=50, alpha=0.5)\n",
    "plt.hist(hist_data_15.TOTAL_COST, facecolor=\"olive\", bins=50, alpha=0.8)\n",
    "\n",
    "## create legend\n",
    "plt.legend((\"2019\", \"2015\"), loc='upper right') \n",
    "\n",
    "plt.show()"
   ]
  },
  {
   "cell_type": "markdown",
   "metadata": {
    "id": "TTvjUwcQI7Wy"
   },
   "source": [
    "# Checkpoint 3 Visualization of you choice  <a class=\"anchor\" id=\"cp3\"></a>\n",
    "Create another presentation ready visualization using your `projects_data` (any type of graph except a barplot (because you have already done that) or a pie chart (because they are not good at conveying information). \n",
    "- Prepare the data for your visualization (1 point)\n",
    "- Give your barplot a title that tells your audience the important take away of your visualization (1 point)\n",
    "- Change the color of the visualization (1 point)\n",
    "- Change the x and y axis labels and make sure you include a data source. (1 point)\n"
   ]
  },
  {
   "cell_type": "markdown",
   "metadata": {
    "id": "EMhoe52rI7Wy"
   },
   "source": [
    "## More Resources  <a class=\"anchor\" id=\"Resources\"></a>\n",
    "\n",
    "* [A Thorough Comparison of Python's DataViz Modules](https://dsaber.com/2016/10/02/a-dramatic-tour-through-pythons-data-visualization-landscape-including-ggplot-and-altair)\n",
    "\n",
    "* [Seaborn Documentation](http://seaborn.pydata.org)\n",
    "\n",
    "* [Matplotlib Documentation](https://matplotlib.org)\n",
    "\n",
    "* [Advanced Functionality in Seaborn](blog.insightdatalabs.com/advanced-functionality-in-seaborn)"
   ]
  },
  {
   "cell_type": "markdown",
   "metadata": {
    "id": "0WVWRKYdI7Wy"
   },
   "source": [
    "## Other Python Visualization Libraries  <a class=\"anchor\" id=\"Other\"></a>\n",
    "\n",
    "* [Bokeh](http://bokeh.pydata.org)\n",
    "\n",
    "* [Altair](https://altair-viz.github.io)\n",
    "\n",
    "* [ggplot](http://ggplot.yhathq.com.com)\n",
    "\n",
    "* [Plotly](https://plot.ly)"
   ]
  },
  {
   "cell_type": "markdown",
   "metadata": {
    "id": "B4boHs_ZI7Wz"
   },
   "source": [
    "### Exporting Completed Graphs\n",
    "\n",
    "When you are satisfied with your visualization, you may want to save a a copy outside of your notebook. You can do this with `matplotlib`'s savefig function. You simply need to run:\n",
    "\n",
    "plt.savefig(\"fileName.fileExtension\")\n",
    "\n",
    "The file extension is actually surprisingly important. Image formats like png and jpeg are actually **not ideal**. These file formats store your graph as a giant grid of pixels, which is space-efficient, but can't be edited later. Saving your visualizations instead as a PDF is strongly advised. PDFs are a type of vector image, which means all the component of the graph will be maintained.\n",
    "\n",
    "With PDFs, you can later open the image in a program like Adobe Illustrator and make changes like the size or typeface of your text, move your legends, or adjust the colors of your visual encodings. All of this would be impossible with a png or jpeg."
   ]
  }
 ],
 "metadata": {
  "colab": {
   "provenance": []
  },
  "kernelspec": {
   "display_name": "Python 3 (ipykernel)",
   "language": "python",
   "name": "python3"
  },
  "language_info": {
   "codemirror_mode": {
    "name": "ipython",
    "version": 3
   },
   "file_extension": ".py",
   "mimetype": "text/x-python",
   "name": "python",
   "nbconvert_exporter": "python",
   "pygments_lexer": "ipython3",
   "version": "3.9.13"
  }
 },
 "nbformat": 4,
 "nbformat_minor": 1
}
