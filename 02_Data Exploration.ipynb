{
 "cells": [
  {
   "cell_type": "markdown",
   "metadata": {},
   "source": [
    "# Data Exploration: Federal RePORTER"
   ]
  },
  {
   "cell_type": "markdown",
   "metadata": {},
   "source": [
    "Written by: Maryah Garner"
   ]
  },
  {
   "cell_type": "markdown",
   "metadata": {},
   "source": [
    "## Table of Contents\n",
    "* [Load projects data](#load-data)\n",
    "* [Data glimpse](#data-glimpse)\n",
    "* [Columns](#columns)\n",
    "* [Grouping and aggregating data](#grouping-aggregating)\n",
    "* [Merge dataframes](#merge-dataframes)\n",
    "* [Subsetting data](#subsetting-data)\n",
    "* [Descriptive stats](#descriptive-stats)\n",
    "* [Abstracts](#abstracts)\n",
    "* [Checkpoint](#checkpoint)"
   ]
  },
  {
   "cell_type": "markdown",
   "metadata": {},
   "source": [
    "## Import necessary libraries"
   ]
  },
  {
   "cell_type": "code",
   "execution_count": null,
   "metadata": {},
   "outputs": [],
   "source": [
    "import pandas as pd"
   ]
  },
  {
   "cell_type": "markdown",
   "metadata": {},
   "source": [
    "# Projects Data"
   ]
  },
  {
   "cell_type": "markdown",
   "metadata": {},
   "source": [
    "## Load projects data <a class=\"anchor\" id=\"load-data\"></a>"
   ]
  },
  {
   "cell_type": "code",
   "execution_count": null,
   "metadata": {},
   "outputs": [],
   "source": [
    "# Specify a path with the data folder\n",
    "# Change \"NAME\" to your name as recorded on your computer\n",
    "# path = 'C:/Users/NAME/PADM-GP_2505/Data/'\n",
    "Path = '.../PADM-GP_2505/Data'"
   ]
  },
  {
   "cell_type": "code",
   "execution_count": null,
   "metadata": {},
   "outputs": [],
   "source": [
    "# Read-in a CSV file\n",
    "grants_2016 = pd.read_csv(Path + '/Projects/RePORTER_PRJ_C_FY2016_new.csv', encoding='latin-1')"
   ]
  },
  {
   "cell_type": "markdown",
   "metadata": {},
   "source": [
    "## Data glimpse <a class=\"anchor\" id=\"data-glimpse\"></a>"
   ]
  },
  {
   "cell_type": "code",
   "execution_count": null,
   "metadata": {},
   "outputs": [],
   "source": [
    "# We can see how many (rows, columns) there are in the dataframe by using .shape\n",
    "grants_2016.shape"
   ]
  },
  {
   "cell_type": "code",
   "execution_count": null,
   "metadata": {},
   "outputs": [],
   "source": [
    "# See first 5 rows with head() function\n",
    "grants_2016.head(5)"
   ]
  },
  {
   "cell_type": "markdown",
   "metadata": {},
   "source": [
    "## Columns <a class=\"anchor\" id=\"columns\"></a>"
   ]
  },
  {
   "cell_type": "code",
   "execution_count": null,
   "metadata": {},
   "outputs": [],
   "source": [
    "# Check the column names\n",
    "grants_2016.columns"
   ]
  },
  {
   "cell_type": "markdown",
   "metadata": {},
   "source": [
    "### Columns, rows, data selection"
   ]
  },
  {
   "cell_type": "markdown",
   "metadata": {},
   "source": [
    "#### Single column selection\n",
    "If we want to select a specific column, we can use the following syntax:"
   ]
  },
  {
   "cell_type": "code",
   "execution_count": null,
   "metadata": {},
   "outputs": [],
   "source": [
    "# select a single column: the dataframe variable name, followed by square brackets, and then put the\n",
    "# the column name between quotes (either single or double). \n",
    "grants_2016['IC_NAME'].head()"
   ]
  },
  {
   "cell_type": "markdown",
   "metadata": {},
   "source": [
    "#### Multiple-column selection\n",
    "To select multiple columns, wrap the column names in double brackets `[[` and `]]`\n",
    "- The interior brackets are for the list of variable names, and the outside brackets are indexing operator"
   ]
  },
  {
   "cell_type": "code",
   "execution_count": null,
   "metadata": {},
   "outputs": [],
   "source": [
    "# here we selected the columns and assigned them to a new dataframe called \"df\"\n",
    "df = grants_2016[['IC_NAME','ORG_NAME', 'PI_NAMEs', 'ORG_STATE','APPLICATION_TYPE', 'PROJECT_START', 'PROJECT_END','TOTAL_COST']]\n",
    "df.head()"
   ]
  },
  {
   "cell_type": "markdown",
   "metadata": {},
   "source": [
    "## Grouping and Aggregating Data <a class=\"anchor\" id=\"grouping-aggregating\"></a>"
   ]
  },
  {
   "cell_type": "markdown",
   "metadata": {},
   "source": [
    "#### Group by and aggregation functions\n",
    "It is possible to group the dataframe by a column, and use aggregation function on them, and sort the result.\n",
    "\n",
    "For example, we would like to know: how many NIH grants were awarded by each administering agency, Institute, or Center?"
   ]
  },
  {
   "cell_type": "code",
   "execution_count": null,
   "metadata": {
    "scrolled": true
   },
   "outputs": [],
   "source": [
    "# calculate how many grants (unique application ids) that were awarded by each administering agency, Institute, or Center (IC_NAME)\n",
    "# step1: in the groupby() method, we pass the column we want to group by\n",
    "# step2: use the nunique() method to count the number of unique values (in this case, number of unique application ids by each entity)\n",
    "# step3: sort the results in descending order (set the ascending parameter to False)\n",
    "\n",
    "df_group = grants_2016.groupby('IC_NAME')['APPLICATION_ID'].nunique().sort_values(ascending=False)\n",
    "df_group.head()"
   ]
  },
  {
   "cell_type": "markdown",
   "metadata": {},
   "source": [
    "#### Create dataframe"
   ]
  },
  {
   "cell_type": "code",
   "execution_count": null,
   "metadata": {
    "scrolled": true
   },
   "outputs": [],
   "source": [
    "# Note that the aggregation function didn't return a dataframe. \n",
    "# So we have to convert it into a dataframe if we want to process it further\n",
    "df_group = df_group.to_frame().reset_index()\n",
    "df_group.head()"
   ]
  },
  {
   "cell_type": "markdown",
   "metadata": {},
   "source": [
    "#### Remane columns"
   ]
  },
  {
   "cell_type": "code",
   "execution_count": null,
   "metadata": {
    "scrolled": true
   },
   "outputs": [],
   "source": [
    "# Let's correct the columns names, this shouldn't be project_id but a number of all funded projects\n",
    "df_group.rename(columns={'APPLICATION_ID':'number of funded projects'}, inplace = True)\n",
    "df_group.head(10)"
   ]
  },
  {
   "cell_type": "markdown",
   "metadata": {},
   "source": [
    "Instead of just looking at the total number of projects funded by each intity, you might also want to know the sum ot the total cost of these projects"
   ]
  },
  {
   "cell_type": "code",
   "execution_count": null,
   "metadata": {},
   "outputs": [],
   "source": [
    "# calculate how the sum of the total costs for each administering agency, Institute, or Center (IC_NAME)\n",
    "# step1: in the groupby() method, we pass the column we want to group by\n",
    "# step2: use the sum() method to add together the total costs (in this case, number of unique application ids by each entity)\n",
    "# step3: sort the results in descending order (set the ascending parameter to False)\n",
    "\n",
    "Cost = grants_2016.groupby('IC_NAME')['TOTAL_COST'].sum().sort_values(ascending = False)\n",
    "\n",
    "# step3: convert into a dataframe and reset index\n",
    "\n",
    "Cost = Cost.to_frame().reset_index()\n",
    "Cost.head()"
   ]
  },
  {
   "cell_type": "markdown",
   "metadata": {},
   "source": [
    "Other useful aggregation functions are: sum(): sum, mean(): average, agg(): use a python dictionary to specify aggregation function based on each column"
   ]
  },
  {
   "cell_type": "markdown",
   "metadata": {},
   "source": [
    "## Merge Dataframes <a class=\"anchor\" id=\"merge-dataframes\"></a>\n",
    "Pandas provides an ability to merge (join) two datasets together. You can store the results in a new dataframe. There are different ways of merging data: left, right, outer, inner (https://pandas.pydata.org/pandas-docs/stable/reference/api/pandas.DataFrame.merge.html).\n",
    "\n",
    "Join together the two dataframes we just created suinf the common identifier (`IC_NAME`)\n"
   ]
  },
  {
   "cell_type": "code",
   "execution_count": null,
   "metadata": {},
   "outputs": [],
   "source": [
    "# Merge the first dataframe \"df_group\" with the count of projects per funding entity with the Cost datafrome\n",
    "# how='inter' means use the intersection of the same project ids between the two dataframes\n",
    "\n",
    "merge_df = pd.merge(df_group, Cost, on='IC_NAME', how = 'inner')\n",
    "merge_df.head(5)\n"
   ]
  },
  {
   "cell_type": "markdown",
   "metadata": {},
   "source": [
    "## Subsetting Data <a class=\"anchor\" id=\"subsetting-data\"></a>\n",
    "#### Subsetting numerical data\n",
    "For your project you might only want to look at projects funded by a spacific Institute. In these notebooks we will be exploring projects funded by the NATIONAL CANCER INSTITUTE"
   ]
  },
  {
   "cell_type": "code",
   "execution_count": null,
   "metadata": {},
   "outputs": [],
   "source": [
    "merge_df2 = pd.merge(df_group, Cost, on='IC_NAME', how='inner')\n",
    "merge_df.head()"
   ]
  },
  {
   "cell_type": "code",
   "execution_count": null,
   "metadata": {
    "scrolled": true
   },
   "outputs": [],
   "source": [
    "# conditional subsetting: put the conditional statement within the square brackets \n",
    "# the conditional statement here is that we want the IC_NAME to be NATIONAL CANCER INSTITUTE. \n",
    "\n",
    "df_NCI = grants_2016[grants_2016['IC_NAME'] == 'NATIONAL CANCER INSTITUTE']\n",
    "df_NCI.head()"
   ]
  },
  {
   "cell_type": "markdown",
   "metadata": {},
   "source": [
    "#### Subsetting string/categorical data\n",
    "If you are interested in studying all NIH funded projects focused on Cancer research, only looking at projects funded by the National Cancer Institute might be too narrow of a search. \n",
    "We will use the `isin` method to select both projects funded by the NATIONAL CANCER INSTITUTE and the NATIONAL INSTITUTE OF GENERAL MEDICAL SCIENCES."
   ]
  },
  {
   "cell_type": "code",
   "execution_count": null,
   "metadata": {},
   "outputs": [],
   "source": [
    "# select specific institutes\n",
    "# we specify the target list within the parentheses of the `isin` method\n",
    "\n",
    "df = grants_2016[grants_2016['IC_NAME'].isin(['NATIONAL CANCER INSTITUTE', 'NATIONAL INSTITUTE OF GENERAL MEDICAL SCIENCES'])]\n",
    "df.head()"
   ]
  },
  {
   "cell_type": "markdown",
   "metadata": {},
   "source": [
    "#### Subsetting with multiple conditions\n",
    "If we want to subset the data with more than one condition, we can specify all the conditions and concatenate them with the python keyword `&`. Remember to put every single condition within a pair of parentheses."
   ]
  },
  {
   "cell_type": "code",
   "execution_count": null,
   "metadata": {},
   "outputs": [],
   "source": [
    "# use the notnull function to Select observations that have a Total cost recorrded (i.e., the total cost is not null)\n",
    "# also select specific institutes\n",
    "\n",
    "df2 = grants_2016[(grants_2016['TOTAL_COST'].notnull()) &\n",
    "                  (df['IC_NAME'].isin(['NATIONAL CANCER INSTITUTE', 'NATIONAL INSTITUTE OF GENERAL MEDICAL SCIENCES']))]\n",
    "df2.head()"
   ]
  },
  {
   "cell_type": "markdown",
   "metadata": {},
   "source": [
    "## Descriptive stats <a class=\"anchor\" id=\"descriptive-stats\"></a>\n",
    "Pandas has integrated some very useful tools to help us understand the distribution of the data. The `describe` method computes the most commonly used descriptive statistics, such as count, mean, standard deviation and quantiles for a dataframe.\n",
    "We well select out meaningfull numeric values and look at their distribution.\n",
    "Using the df_NCI data frame we created earlier, will look at the summary statistics for projects funded by the National Cancer Institute."
   ]
  },
  {
   "cell_type": "code",
   "execution_count": null,
   "metadata": {},
   "outputs": [],
   "source": [
    "# see the descriptive statistics of selected numeric variables (using our original dataframe)\n",
    "df_NCI[['DIRECT_COST_AMT', 'INDIRECT_COST_AMT','TOTAL_COST', 'TOTAL_COST_SUB_PROJECT']].describe()\n"
   ]
  },
  {
   "cell_type": "markdown",
   "metadata": {},
   "source": [
    "### scientific notation \n",
    "Turn of scientific notation"
   ]
  },
  {
   "cell_type": "code",
   "execution_count": null,
   "metadata": {
    "scrolled": true
   },
   "outputs": [],
   "source": [
    "# Convert scientific notation to a full float\n",
    "pd.set_option('display.float_format', '{:.2f}'.format)\n",
    "# see the descriptive statistics of selected numeric variables (using our original dataframe)\n",
    "df_NCI[['DIRECT_COST_AMT', 'INDIRECT_COST_AMT','TOTAL_COST', 'TOTAL_COST_SUB_PROJECT']].describe()\n"
   ]
  },
  {
   "cell_type": "markdown",
   "metadata": {},
   "source": [
    "# Abstracts <a class=\"anchor\" id=\"abstracts\"></a>\n",
    "We are just goin to read in and view the Grant abstracts for now. "
   ]
  },
  {
   "cell_type": "code",
   "execution_count": null,
   "metadata": {},
   "outputs": [],
   "source": [
    "# Read-in a CSV file\n",
    "abstracts_2016 = pd.read_csv(Path + '/Abstracts/RePORTER_PRJABS_C_FY2016_new.csv', encoding='latin-1')\n",
    "\n",
    "\n",
    "# look at the first 2 rows with head() function\n",
    "abstracts_2016.head(2)"
   ]
  },
  {
   "cell_type": "code",
   "execution_count": null,
   "metadata": {
    "scrolled": true
   },
   "outputs": [],
   "source": [
    "# Show full text in a cell\n",
    "pd.set_option('display.max_colwidth', -1)\n",
    "# look at the first 2 rows again\n",
    "abstracts_2016.head(2)"
   ]
  },
  {
   "cell_type": "markdown",
   "metadata": {},
   "source": [
    "# Checkpoint (Assignment 2, due Febuary 24th) <a class=\"anchor\" id=\"checkpoint\"></a>\n",
    "### 1. Read in projects data for a year of your choice (other then 2016)\n",
    "### 2 Subset the data for a specific administering agency, Institute, or Center (IC)\n",
    "### 2. What are the top 5 organizations (by number of projects) who have received funding from this entity? \n",
    "### 3. How many projects were funded by each of the top 5 organizations, and what is the total cost? \n",
    "### 4. Who are the top five PIs from the organizations with the most projects, and how many projects were they the PI for? \n",
    "Note, you are not expected to clean the PI_names variable yet (the next notebook will walk you through that process)."
   ]
  },
  {
   "cell_type": "code",
   "execution_count": null,
   "metadata": {},
   "outputs": [],
   "source": []
  },
  {
   "cell_type": "code",
   "execution_count": null,
   "metadata": {},
   "outputs": [],
   "source": []
  },
  {
   "cell_type": "code",
   "execution_count": null,
   "metadata": {},
   "outputs": [],
   "source": []
  }
 ],
 "metadata": {
  "kernelspec": {
   "display_name": "Python 3 (ipykernel)",
   "language": "python",
   "name": "python3"
  },
  "language_info": {
   "codemirror_mode": {
    "name": "ipython",
    "version": 3
   },
   "file_extension": ".py",
   "mimetype": "text/x-python",
   "name": "python",
   "nbconvert_exporter": "python",
   "pygments_lexer": "ipython3",
   "version": "3.9.13"
  }
 },
 "nbformat": 4,
 "nbformat_minor": 4
}
