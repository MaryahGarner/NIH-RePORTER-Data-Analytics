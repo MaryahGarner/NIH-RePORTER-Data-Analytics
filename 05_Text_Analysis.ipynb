{
 "cells": [
  {
   "cell_type": "markdown",
   "metadata": {},
   "source": [
    "# Text Analysis\n",
    "By Maryah Garner\n",
    "\n",
    "## Table of Contents\n",
    "* [Learning Outcomes](#CLearningOutcomes)\n",
    "* [Glossary of Terms](#Glossary)\n",
    "* [Setup - Load Python Packages](#setup)\n",
    "* [Motivation: Grant Proposal Abstracts ](#Motivation)\n",
    "    * [Load the Data](#Load)\n",
    "* [Prepair the Data](#Prepairing)\n",
    "* [Preparing Text Data for Natural Language Processing (NLP)](#Topic)\n",
    "* [Latent Dirichlet Allocation (LDA)](#LDA)\n",
    "* [N-grams](#N-grams)\n",
    "* [TF-IDF : Weighting terms based on frequency  ](#TF-IDF)\n",
    "* [Visualize the project by topic ](#Visualize)\n",
    "* [Checkpoints](#Checkpoints)"
   ]
  },
  {
   "cell_type": "markdown",
   "metadata": {},
   "source": [
    "In this notebook, we are going to analyze abstracts of grants using topic modeling to examine the type of work that is being funded by the National Cancer Institute (NCI). \n",
    "\n",
    "## Learning Outcomes <a class=\"anchor\" id=\"CLearningOutcomes\"></a>\n",
    "\n",
    "\n",
    "In this notebook, you will...\n",
    "* Learn how to transform a corpus of text into a structured matrix format so that we can apply natural language processing (NLP) methods\n",
    "* Learn the basics and applications of topic modeling\n",
    "* Learn how to do document tagging and evaluate the results\n",
    "* Learn how to visualize your data by topics \n",
    "\n",
    " \n",
    "## Glossary of Terms <a class=\"anchor\" id=\"Glossary\"></a>\n",
    "\n",
    "Glossary of Terms:\n",
    "\n",
    "* **Corpus**: A corpus is the set of all text documents used in your analysis; for example, your corpus of text may include hundreds of research articles.\n",
    "\n",
    "* **Tokenize**: Tokenization is the process by which text is separated into meaningful terms or phrases. In English this is easy to do for individual words, as they are separated by whitespace; however, it can get more complicated to  automate determining which groups of words constitute meaningful phrases. \n",
    "\n",
    "* **Stemming**: Stemming is normalizing text by reducing all forms or conjugations of a word to the word's most basic form. In English, this can mean making a rule of removing the suffixes \"ed\" or \"ing\" from the end of all words, but it gets more complex. For example, \"to go\" is irregular, so you need to tell the algorithm that \"went\" and \"goes\" stem from a common lemma, and should be considered alternate forms of the word \"go.\"\n",
    "\n",
    "* **TF-IDF**: TF-IDF (term frequency-inverse document frequency) is an example of feature engineering where the most important words are extracted by taking into account their frequency in documents and the entire corpus of documents as a whole.\n",
    "\n",
    "* **Topic Modeling**: Topic modeling is an unsupervised learning method where groups of words that often appear together are clustered into topics. Typically, the words in one topic should be related and make sense (e.g. boat, ship, captain). Individual documents can fall under one topic or multiple topics. \n",
    "\n",
    "* **LDA**: LDA (Latent Dirichlet Allocation) is a type of probabilistic model commonly used for topic modeling. \n",
    "\n",
    "* **Stop Words**: Stop words are words that have little semantic meaning but occur very frequently, like prepositions, articles and common nouns. For example, every document (in English) will probably contain the words \"and\" and \"the\" many times. You will often remove them as part of preprocessing using a list of stop words.\n"
   ]
  },
  {
   "cell_type": "markdown",
   "metadata": {},
   "source": [
    "## Setup - Load Python Packages <a class=\"anchor\" id=\"setup\"></a>"
   ]
  },
  {
   "cell_type": "markdown",
   "metadata": {},
   "source": [
    "Install and import libraries"
   ]
  },
  {
   "cell_type": "code",
   "execution_count": 1,
   "metadata": {},
   "outputs": [
    {
     "name": "stdout",
     "output_type": "stream",
     "text": [
      "Requirement already satisfied: nltk in /Users/maryahhatherillgarner/opt/anaconda3/lib/python3.9/site-packages (3.7)\n",
      "Requirement already satisfied: joblib in /Users/maryahhatherillgarner/opt/anaconda3/lib/python3.9/site-packages (from nltk) (1.1.0)\n",
      "Requirement already satisfied: click in /Users/maryahhatherillgarner/opt/anaconda3/lib/python3.9/site-packages (from nltk) (8.0.4)\n",
      "Requirement already satisfied: regex>=2021.8.3 in /Users/maryahhatherillgarner/opt/anaconda3/lib/python3.9/site-packages (from nltk) (2022.7.9)\n",
      "Requirement already satisfied: tqdm in /Users/maryahhatherillgarner/opt/anaconda3/lib/python3.9/site-packages (from nltk) (4.64.1)\n",
      "Note: you may need to restart the kernel to use updated packages.\n"
     ]
    }
   ],
   "source": [
    "# Install package for natural language processing\n",
    "%pip install nltk\n",
    "\n",
    "# data manipulation\n",
    "import pandas as pd\n",
    "import numpy as np\n",
    "import os\n",
    "\n",
    "# text analysis tools\n",
    "import nltk\n",
    "from sklearn.feature_extraction.text import CountVectorizer, TfidfTransformer\n",
    "from sklearn.decomposition import LatentDirichletAllocation\n",
    "from sklearn import preprocessing\n",
    "from nltk import SnowballStemmer\n",
    "import string\n",
    "\n",
    "# visualization tools\n",
    "import matplotlib as mplib\n",
    "import matplotlib.pyplot as plt \n",
    "import seaborn as sns  "
   ]
  },
  {
   "cell_type": "markdown",
   "metadata": {},
   "source": [
    "## Motivation: Grant Proposal Abstracts <a class=\"anchor\" id=\"Motivation\"></a>\n",
    "\n",
    "In this notebook, we will use text analysis on the grant proposal abstracts funded by NCI in order to determine what types of topics the NCI is Funding. Note that we do not have a pre-compiled list of topics that we are matching to the abstracts. Instead, we want to explore the data and use unsupervised learning in order to generate the topics.\n",
    "\n",
    "### Load the Data<a class=\"anchor\" id=\"Load\"></a>\n",
    "\n",
    "To start, we'll load the data into a pandas DataFrame from our class folder. We will be analyzing the abstracts of grant proposals. For demonstration purposes of this class we will only use year 2016 and we will filter for projects that are funded by the National Cancer Institute."
   ]
  },
  {
   "cell_type": "code",
   "execution_count": 2,
   "metadata": {},
   "outputs": [],
   "source": [
    "# Specify a path with the data folder\n",
    "# Change \"NAME\" to your name as recorded on your computer\n",
    "# path = 'C:/Users/NAME/PADM-GP_2505/Data/'\n",
    "Path = \"/Users/maryahhatherillgarner/Desktop/2023 Spring NYU Data Analytics/PADM-GP_2505/Data\""
   ]
  },
  {
   "cell_type": "code",
   "execution_count": 3,
   "metadata": {},
   "outputs": [],
   "source": [
    "# Read-in a CSV file\n",
    "Abstracts_2016 = pd.read_csv(Path + '/Abstracts/RePORTER_PRJABS_C_FY2016_new.csv', encoding='latin-1')"
   ]
  },
  {
   "cell_type": "markdown",
   "metadata": {},
   "source": [
    "### Explore the Abstract Data <a class=\"anchor\" id=\"Explore\"></a>\n",
    "Our text data table has 2 fields:\n",
    "\n",
    "- `APPLICATION_ID` - The Unique identifier of the project record .\n",
    "- `ABSTRACT_TEX` - text of abstract.\n",
    "\n",
    "Let's take a look at examples of the values:"
   ]
  },
  {
   "cell_type": "code",
   "execution_count": 4,
   "metadata": {
    "scrolled": true
   },
   "outputs": [
    {
     "name": "stderr",
     "output_type": "stream",
     "text": [
      "/var/folders/75/wl43s0z50w90g_t4ln1tm9680000gn/T/ipykernel_8566/2702094089.py:2: FutureWarning: Passing a negative integer is deprecated in version 1.0 and will not be supported in future version. Instead, use None to not limit the column width.\n",
      "  pd.set_option('display.max_colwidth', -1)\n"
     ]
    },
    {
     "data": {
      "text/html": [
       "<div>\n",
       "<style scoped>\n",
       "    .dataframe tbody tr th:only-of-type {\n",
       "        vertical-align: middle;\n",
       "    }\n",
       "\n",
       "    .dataframe tbody tr th {\n",
       "        vertical-align: top;\n",
       "    }\n",
       "\n",
       "    .dataframe thead th {\n",
       "        text-align: right;\n",
       "    }\n",
       "</style>\n",
       "<table border=\"1\" class=\"dataframe\">\n",
       "  <thead>\n",
       "    <tr style=\"text-align: right;\">\n",
       "      <th></th>\n",
       "      <th>APPLICATION_ID</th>\n",
       "      <th>ABSTRACT_TEXT</th>\n",
       "    </tr>\n",
       "  </thead>\n",
       "  <tbody>\n",
       "    <tr>\n",
       "      <th>0</th>\n",
       "      <td>8002706</td>\n",
       "      <td>Abstract  Title: Measuring the quality of genomic health services in the VA: A pilot  PI: Mark Meterko, PhD  Background: The rate at which clinically relevant genomic tests are being developed is  accelerating, particularly for chronic adult-onset conditions such as heart disease, mental illness  and cancer. These test results can affect medical management and long-term health.  Consistent with this trend, the VA is increasing its delivery of genomic services including testing  for diagnostic and predictive purposes. Research to compare the clinical effectiveness of  genomic service delivery models is critical to ensure that VA develops, implements and  disseminates genomic services that are both effective and veteran-centered.  Objectives(s): The overall objective of this pilot study is to adapt and augment measures of  genomics care process and patient outcomes to address the unique characteristics and  needs of veteran patients receiving genomic medical services. Specifically, the proposed  study has four aims: (1) Identify in detail the key process steps and patient outcomes of VA  genomic services, (2) Develop two data collection instruments to measure those (a) process  characteristics and (b) outcome dimensions, (3) Rigorously test those instruments for  comprehension (content) and ease of administration (format), and (4) Revise the  instruments based on that testing for use in a future comparative clinical effectiveness study  of genomics medical service model.  Research Design &amp; Methodology: The proposed pilot study will use classical scale  development methodology including a review of the literature, in-depth provider interviews,  patient focus groups, as well as cognitive interviewing to develop process and patient  outcome measurement instruments. Each study aim will be the focus of its own phase of the  pilot and will employ specific, appropriate methodologies following the overall model outlined  by Dillman. [31]</td>\n",
       "    </tr>\n",
       "    <tr>\n",
       "      <th>1</th>\n",
       "      <td>8005208</td>\n",
       "      <td>Project Summary - Demand, Cost, and Access of Radiotherapy in VA, Fee, &amp; Non-VA  Facilities  Project Background: Radiotherapy is a treatment provided by the Veterans Health  Administration (VA) to patients as a result of the diagnosis of certain cancers. Radiotherapy  services may be provided directly by the VA, or payment for these services may be made to  non-VA providers in the community under certain circumstances (fee-basis or contracted care in  non-VA sites). Additionally, veterans that are dually eligible (e.g., VA and Medicare) may also  choose to receive care at non-VA facilities that is paid for by the Medicare program. Veterans  (independent of age) may also carry private insurance, though care received in such  circumstances is difficult for the VA to track. Circumstances that may necessitate the use of the  VA-fee basis program include when VA facilities are not capable of furnishing economical  hospital care or medical services because of geographic inaccessibility, or are not capable of  furnishing the care or services required. Because radiotherapy is a limited resource within the  VA's health care system, nationally, much of this care is purchased by the VA from community  resources. Preliminary cost and utilization data demonstrate considerable growth in the demand  and expenditures for radiotherapy services provided under VA auspices over the past 8 years.  The current economic downturn, expansion of benefits to veterans (e.g., categories 6, 7, 8), and  Medicare payment reductions for radiotherapy have raised access and capacity concerns of VA  radiotherapy. In turn these are important planning questions for the VA national purchased care  (VA Fee) director, Patricia J. Gheen and the VA national director radiation oncology led by Dr.  Michael P. Hagan, both of whom are key advisors on this study.  Project Objectives: 1) Identify trends (2000 to 2008) in the fiscal year-specific use and  expenditures in radiotherapy services across the VA that are provided in VA (salaried and  contracted) and Non-VA (Fee Basis and Medicare) facilities. 2) Identify and track over time the  proportion and magnitude of radiotherapy services for VA enrolled veterans that is paid for by  the Medicare program when the veteran is dually eligible. 3) Determine if patient access to VA  care is associated with the location of radiation treatment delivery when the veteran is dually  eligible. 4) Forecast future needs for VA and Non-VA (Fee Basis) care for radiotherapy services  after accounting for the potential influx of Medicare dually enrolled veterans.  Project Methods: We will identify major sources of variation in the demand and expenditures  for radiotherapy clinical services at the system level with a special emphasis on radiotherapy  services provided by non-VA providers (Medicare and VA-Fee). We propose to trend at least 9  years of data (FY 2000-2008). We shall use quantitative methods common to epidemiology and  economics to examine volumes of radiotherapy services provided, and geographic variation.</td>\n",
       "    </tr>\n",
       "  </tbody>\n",
       "</table>\n",
       "</div>"
      ],
      "text/plain": [
       "   APPLICATION_ID  \\\n",
       "0  8002706          \n",
       "1  8005208          \n",
       "\n",
       "                                                                                                                                                                                                                                                                                                                                                                                                                                                                                                                                                                                                                                                                                                                                                                                                                                                                                                                                                                                                                                                                                                                                                                                                                                                                                                                                                                                                                                                                                                                                                                                                                                                                                                                                                                                                                                                                                                                                                                                                                                                                                                                                                                                                                                                                                                                                                                                                                                                                                                                                                                                                                                                                                                                                                                                                                                                                                                                                                                                                                                                                                                                                                                        ABSTRACT_TEXT  \n",
       "0  Abstract  Title: Measuring the quality of genomic health services in the VA: A pilot  PI: Mark Meterko, PhD  Background: The rate at which clinically relevant genomic tests are being developed is  accelerating, particularly for chronic adult-onset conditions such as heart disease, mental illness  and cancer. These test results can affect medical management and long-term health.  Consistent with this trend, the VA is increasing its delivery of genomic services including testing  for diagnostic and predictive purposes. Research to compare the clinical effectiveness of  genomic service delivery models is critical to ensure that VA develops, implements and  disseminates genomic services that are both effective and veteran-centered.  Objectives(s): The overall objective of this pilot study is to adapt and augment measures of  genomics care process and patient outcomes to address the unique characteristics and  needs of veteran patients receiving genomic medical services. Specifically, the proposed  study has four aims: (1) Identify in detail the key process steps and patient outcomes of VA  genomic services, (2) Develop two data collection instruments to measure those (a) process  characteristics and (b) outcome dimensions, (3) Rigorously test those instruments for  comprehension (content) and ease of administration (format), and (4) Revise the  instruments based on that testing for use in a future comparative clinical effectiveness study  of genomics medical service model.  Research Design & Methodology: The proposed pilot study will use classical scale  development methodology including a review of the literature, in-depth provider interviews,  patient focus groups, as well as cognitive interviewing to develop process and patient  outcome measurement instruments. Each study aim will be the focus of its own phase of the  pilot and will employ specific, appropriate methodologies following the overall model outlined  by Dillman. [31]                                                                                                                                                                                                                                                                                                                                                                                                                                                                                                                                                                                                                                                                                                                                                                                                                                                                                                                                                                                                                                                                                                                                           \n",
       "1  Project Summary - Demand, Cost, and Access of Radiotherapy in VA, Fee, & Non-VA  Facilities  Project Background: Radiotherapy is a treatment provided by the Veterans Health  Administration (VA) to patients as a result of the diagnosis of certain cancers. Radiotherapy  services may be provided directly by the VA, or payment for these services may be made to  non-VA providers in the community under certain circumstances (fee-basis or contracted care in  non-VA sites). Additionally, veterans that are dually eligible (e.g., VA and Medicare) may also  choose to receive care at non-VA facilities that is paid for by the Medicare program. Veterans  (independent of age) may also carry private insurance, though care received in such  circumstances is difficult for the VA to track. Circumstances that may necessitate the use of the  VA-fee basis program include when VA facilities are not capable of furnishing economical  hospital care or medical services because of geographic inaccessibility, or are not capable of  furnishing the care or services required. Because radiotherapy is a limited resource within the  VA's health care system, nationally, much of this care is purchased by the VA from community  resources. Preliminary cost and utilization data demonstrate considerable growth in the demand  and expenditures for radiotherapy services provided under VA auspices over the past 8 years.  The current economic downturn, expansion of benefits to veterans (e.g., categories 6, 7, 8), and  Medicare payment reductions for radiotherapy have raised access and capacity concerns of VA  radiotherapy. In turn these are important planning questions for the VA national purchased care  (VA Fee) director, Patricia J. Gheen and the VA national director radiation oncology led by Dr.  Michael P. Hagan, both of whom are key advisors on this study.  Project Objectives: 1) Identify trends (2000 to 2008) in the fiscal year-specific use and  expenditures in radiotherapy services across the VA that are provided in VA (salaried and  contracted) and Non-VA (Fee Basis and Medicare) facilities. 2) Identify and track over time the  proportion and magnitude of radiotherapy services for VA enrolled veterans that is paid for by  the Medicare program when the veteran is dually eligible. 3) Determine if patient access to VA  care is associated with the location of radiation treatment delivery when the veteran is dually  eligible. 4) Forecast future needs for VA and Non-VA (Fee Basis) care for radiotherapy services  after accounting for the potential influx of Medicare dually enrolled veterans.  Project Methods: We will identify major sources of variation in the demand and expenditures  for radiotherapy clinical services at the system level with a special emphasis on radiotherapy  services provided by non-VA providers (Medicare and VA-Fee). We propose to trend at least 9  years of data (FY 2000-2008). We shall use quantitative methods common to epidemiology and  economics to examine volumes of radiotherapy services provided, and geographic variation.  "
      ]
     },
     "execution_count": 4,
     "metadata": {},
     "output_type": "execute_result"
    }
   ],
   "source": [
    "# Show full text in a cell\n",
    "pd.set_option('display.max_colwidth', -1)\n",
    "# look at the first 2 rows again\n",
    "Abstracts_2016.head(2)"
   ]
  },
  {
   "cell_type": "markdown",
   "metadata": {},
   "source": [
    "### Read in the Projects data\n",
    "For this notebook we will focus on projects funded by the NATIONAL CANCER INSTITUTE as we have in previous notebooks. To do this we must first join the Abstracts data with the projects data to filter for NCI projects. "
   ]
  },
  {
   "cell_type": "code",
   "execution_count": 5,
   "metadata": {},
   "outputs": [
    {
     "data": {
      "text/html": [
       "<div>\n",
       "<style scoped>\n",
       "    .dataframe tbody tr th:only-of-type {\n",
       "        vertical-align: middle;\n",
       "    }\n",
       "\n",
       "    .dataframe tbody tr th {\n",
       "        vertical-align: top;\n",
       "    }\n",
       "\n",
       "    .dataframe thead th {\n",
       "        text-align: right;\n",
       "    }\n",
       "</style>\n",
       "<table border=\"1\" class=\"dataframe\">\n",
       "  <thead>\n",
       "    <tr style=\"text-align: right;\">\n",
       "      <th></th>\n",
       "      <th>APPLICATION_ID</th>\n",
       "      <th>IC_NAME</th>\n",
       "      <th>TOTAL_COST</th>\n",
       "    </tr>\n",
       "  </thead>\n",
       "  <tbody>\n",
       "    <tr>\n",
       "      <th>0</th>\n",
       "      <td>9041629</td>\n",
       "      <td>NATIONAL INSTITUTE OF GENERAL MEDICAL SCIENCES</td>\n",
       "      <td>296953.0</td>\n",
       "    </tr>\n",
       "    <tr>\n",
       "      <th>1</th>\n",
       "      <td>9039665</td>\n",
       "      <td>NATIONAL INSTITUTE OF MENTAL HEALTH</td>\n",
       "      <td>438750.0</td>\n",
       "    </tr>\n",
       "    <tr>\n",
       "      <th>2</th>\n",
       "      <td>9036357</td>\n",
       "      <td>NATIONAL CANCER INSTITUTE</td>\n",
       "      <td>554053.0</td>\n",
       "    </tr>\n",
       "    <tr>\n",
       "      <th>3</th>\n",
       "      <td>9067675</td>\n",
       "      <td>NATIONAL CENTER FOR INJURY PREVENTION AND CONTROL</td>\n",
       "      <td>1410000.0</td>\n",
       "    </tr>\n",
       "    <tr>\n",
       "      <th>4</th>\n",
       "      <td>9067537</td>\n",
       "      <td>NATIONAL INSTITUTE OF DIABETES AND DIGESTIVE AND KIDNEY DISEASES</td>\n",
       "      <td>362133.0</td>\n",
       "    </tr>\n",
       "    <tr>\n",
       "      <th>5</th>\n",
       "      <td>9069029</td>\n",
       "      <td>NATIONAL HEART, LUNG, AND BLOOD INSTITUTE</td>\n",
       "      <td>354161.0</td>\n",
       "    </tr>\n",
       "    <tr>\n",
       "      <th>6</th>\n",
       "      <td>9042378</td>\n",
       "      <td>NATIONAL INSTITUTE OF GENERAL MEDICAL SCIENCES</td>\n",
       "      <td>369716.0</td>\n",
       "    </tr>\n",
       "    <tr>\n",
       "      <th>7</th>\n",
       "      <td>9468933</td>\n",
       "      <td>NATIONAL INSTITUTE OF GENERAL MEDICAL SCIENCES</td>\n",
       "      <td>25623.0</td>\n",
       "    </tr>\n",
       "    <tr>\n",
       "      <th>8</th>\n",
       "      <td>9058021</td>\n",
       "      <td>NATIONAL INSTITUTE ON DRUG ABUSE</td>\n",
       "      <td>191812.0</td>\n",
       "    </tr>\n",
       "    <tr>\n",
       "      <th>9</th>\n",
       "      <td>9068350</td>\n",
       "      <td>NATIONAL INSTITUTE OF NEUROLOGICAL DISORDERS AND STROKE</td>\n",
       "      <td>59970.0</td>\n",
       "    </tr>\n",
       "  </tbody>\n",
       "</table>\n",
       "</div>"
      ],
      "text/plain": [
       "   APPLICATION_ID  \\\n",
       "0  9041629          \n",
       "1  9039665          \n",
       "2  9036357          \n",
       "3  9067675          \n",
       "4  9067537          \n",
       "5  9069029          \n",
       "6  9042378          \n",
       "7  9468933          \n",
       "8  9058021          \n",
       "9  9068350          \n",
       "\n",
       "                                                            IC_NAME  \\\n",
       "0  NATIONAL INSTITUTE OF GENERAL MEDICAL SCIENCES                     \n",
       "1  NATIONAL INSTITUTE OF MENTAL HEALTH                                \n",
       "2  NATIONAL CANCER INSTITUTE                                          \n",
       "3  NATIONAL CENTER FOR INJURY PREVENTION AND CONTROL                  \n",
       "4  NATIONAL INSTITUTE OF DIABETES AND DIGESTIVE AND KIDNEY DISEASES   \n",
       "5  NATIONAL HEART, LUNG, AND BLOOD INSTITUTE                          \n",
       "6  NATIONAL INSTITUTE OF GENERAL MEDICAL SCIENCES                     \n",
       "7  NATIONAL INSTITUTE OF GENERAL MEDICAL SCIENCES                     \n",
       "8  NATIONAL INSTITUTE ON DRUG ABUSE                                   \n",
       "9  NATIONAL INSTITUTE OF NEUROLOGICAL DISORDERS AND STROKE            \n",
       "\n",
       "   TOTAL_COST  \n",
       "0  296953.0    \n",
       "1  438750.0    \n",
       "2  554053.0    \n",
       "3  1410000.0   \n",
       "4  362133.0    \n",
       "5  354161.0    \n",
       "6  369716.0    \n",
       "7  25623.0     \n",
       "8  191812.0    \n",
       "9  59970.0     "
      ]
     },
     "execution_count": 5,
     "metadata": {},
     "output_type": "execute_result"
    }
   ],
   "source": [
    "# Read-in the 2016 projects data\n",
    "grants_2016 = pd.read_csv('/Users/maryahhatherillgarner/Desktop/2023 Spring NYU Data Analytics/PADM-GP_2505/Data/Projects/RePORTER_PRJ_C_FY2016_new.csv',\n",
    "                          usecols=['APPLICATION_ID','IC_NAME', 'TOTAL_COST'], encoding='latin-1')\n",
    "\n",
    "# View the first 5 observations \n",
    "grants_2016.head(10)"
   ]
  },
  {
   "cell_type": "markdown",
   "metadata": {},
   "source": [
    "## Prepair the Data  <a class=\"anchor\" id=\"Prepairing\"></a>\n",
    "\n",
    "###  Connect the Abstract data with the Projects data\n",
    "For this notebook we will focus on projects funded by the NATIONAL CANCER INSTITUTE as we have in the provious notebooks. To do this we must first join the Abstracts data with the projects data to filter to NCI projects. \n",
    "\n",
    "### Subset for Cancer Projects\n",
    "In this notebook we will select all Projects that have the word Cancer in the NIH_SPENDING_CATS. "
   ]
  },
  {
   "cell_type": "code",
   "execution_count": 6,
   "metadata": {},
   "outputs": [
    {
     "data": {
      "text/html": [
       "<div>\n",
       "<style scoped>\n",
       "    .dataframe tbody tr th:only-of-type {\n",
       "        vertical-align: middle;\n",
       "    }\n",
       "\n",
       "    .dataframe tbody tr th {\n",
       "        vertical-align: top;\n",
       "    }\n",
       "\n",
       "    .dataframe thead th {\n",
       "        text-align: right;\n",
       "    }\n",
       "</style>\n",
       "<table border=\"1\" class=\"dataframe\">\n",
       "  <thead>\n",
       "    <tr style=\"text-align: right;\">\n",
       "      <th></th>\n",
       "      <th>index</th>\n",
       "      <th>APPLICATION_ID</th>\n",
       "      <th>IC_NAME</th>\n",
       "      <th>TOTAL_COST</th>\n",
       "    </tr>\n",
       "  </thead>\n",
       "  <tbody>\n",
       "    <tr>\n",
       "      <th>0</th>\n",
       "      <td>2</td>\n",
       "      <td>9036357</td>\n",
       "      <td>NATIONAL CANCER INSTITUTE</td>\n",
       "      <td>554053.0</td>\n",
       "    </tr>\n",
       "    <tr>\n",
       "      <th>1</th>\n",
       "      <td>11</td>\n",
       "      <td>9047257</td>\n",
       "      <td>NATIONAL CANCER INSTITUTE</td>\n",
       "      <td>438929.0</td>\n",
       "    </tr>\n",
       "    <tr>\n",
       "      <th>2</th>\n",
       "      <td>13</td>\n",
       "      <td>9264070</td>\n",
       "      <td>NATIONAL CANCER INSTITUTE</td>\n",
       "      <td>54438.0</td>\n",
       "    </tr>\n",
       "    <tr>\n",
       "      <th>3</th>\n",
       "      <td>31</td>\n",
       "      <td>9057474</td>\n",
       "      <td>NATIONAL CANCER INSTITUTE</td>\n",
       "      <td>362601.0</td>\n",
       "    </tr>\n",
       "    <tr>\n",
       "      <th>4</th>\n",
       "      <td>44</td>\n",
       "      <td>9125588</td>\n",
       "      <td>NATIONAL CANCER INSTITUTE</td>\n",
       "      <td>712498.0</td>\n",
       "    </tr>\n",
       "  </tbody>\n",
       "</table>\n",
       "</div>"
      ],
      "text/plain": [
       "   index  APPLICATION_ID                    IC_NAME  TOTAL_COST\n",
       "0  2      9036357         NATIONAL CANCER INSTITUTE  554053.0  \n",
       "1  11     9047257         NATIONAL CANCER INSTITUTE  438929.0  \n",
       "2  13     9264070         NATIONAL CANCER INSTITUTE  54438.0   \n",
       "3  31     9057474         NATIONAL CANCER INSTITUTE  362601.0  \n",
       "4  44     9125588         NATIONAL CANCER INSTITUTE  712498.0  "
      ]
     },
     "execution_count": 6,
     "metadata": {},
     "output_type": "execute_result"
    }
   ],
   "source": [
    "# Use a conditional subset to select progects that have NATIONAL CANCER INSTITUTE as the IC_NAME\n",
    "NCI_projects = grants_2016[grants_2016['IC_NAME'] =='NATIONAL CANCER INSTITUTE']\n",
    "\n",
    "# Reset index\n",
    "NCI_projects = NCI_projects.reset_index()\n",
    "\n",
    "# view the first 5 observations\n",
    "NCI_projects.head()"
   ]
  },
  {
   "cell_type": "code",
   "execution_count": 7,
   "metadata": {},
   "outputs": [
    {
     "data": {
      "text/plain": [
       "(11291, 4)"
      ]
     },
     "execution_count": 7,
     "metadata": {},
     "output_type": "execute_result"
    }
   ],
   "source": [
    "NCI_projects.shape"
   ]
  },
  {
   "cell_type": "markdown",
   "metadata": {},
   "source": [
    "### Connect the Abstract data to the NCI_projects dataframe\n",
    "We will use a left join to merge the data, so that we only get abstracts for NCI projects. We are using a left join instead of a inner join because we want to know how many cancer projects do not have abstracts associated with them. "
   ]
  },
  {
   "cell_type": "code",
   "execution_count": 8,
   "metadata": {},
   "outputs": [
    {
     "data": {
      "text/plain": [
       "(11291, 5)"
      ]
     },
     "execution_count": 8,
     "metadata": {},
     "output_type": "execute_result"
    }
   ],
   "source": [
    "# Create a new dataframe by using an inn merge to merge the NCI_projects and Abstracts_2016 dataframes\n",
    "# merging on PI_NAME\n",
    "nci_abstracts = pd.merge(NCI_projects, Abstracts_2016, on='APPLICATION_ID', how = 'left')\n",
    "nci_abstracts.shape"
   ]
  },
  {
   "cell_type": "code",
   "execution_count": 9,
   "metadata": {
    "scrolled": true
   },
   "outputs": [
    {
     "data": {
      "text/html": [
       "<div>\n",
       "<style scoped>\n",
       "    .dataframe tbody tr th:only-of-type {\n",
       "        vertical-align: middle;\n",
       "    }\n",
       "\n",
       "    .dataframe tbody tr th {\n",
       "        vertical-align: top;\n",
       "    }\n",
       "\n",
       "    .dataframe thead th {\n",
       "        text-align: right;\n",
       "    }\n",
       "</style>\n",
       "<table border=\"1\" class=\"dataframe\">\n",
       "  <thead>\n",
       "    <tr style=\"text-align: right;\">\n",
       "      <th></th>\n",
       "      <th>index</th>\n",
       "      <th>APPLICATION_ID</th>\n",
       "      <th>IC_NAME</th>\n",
       "      <th>TOTAL_COST</th>\n",
       "      <th>ABSTRACT_TEXT</th>\n",
       "    </tr>\n",
       "  </thead>\n",
       "  <tbody>\n",
       "    <tr>\n",
       "      <th>0</th>\n",
       "      <td>2</td>\n",
       "      <td>9036357</td>\n",
       "      <td>NATIONAL CANCER INSTITUTE</td>\n",
       "      <td>554053.0</td>\n",
       "      <td>?    DESCRIPTION (provided by applicant): Loss of the tumor suppressor phosphatase and tensin homolog (PTEN), the key negative regulator of Phosphatidylinositol 3-Kinase (PI3K) activity, is one of the most common genetic events in primary prostate cancer (PCa). Moreover, its frequency further increases in metastatic PCa, indicating that hyperactivation of the PI3K pathway plays an important role in the pathogenesis of PCa and implicating PI3K as an attractive target in this tumor type. However, early clinical trials with PI3K inhibitors in multipe cancer types, including PCa, have been disappointing. The clinical efficacy of these early PI3K inhibitors, which were largely pan-PI3K inhibitors that block the action of all Class I PI3K isoforms, may have been limited by their lack of isoform specificity. Indeed, preclinical work and emerging clinical trials suggest that inhibitors of individual isoforms may achieve greater efficac with fewer side effects. For example, Cal101, an inhibitor of the p110d isoform of PI3K, has demonstrated remarkable clinical efficacy in certain B-cell malignancies. Early unpublished clinical results also suggest that p110a inhibitors are outperforming pan-PI3K inhibitors in luminal breast cancer. Because the PIK3CA gene encoding p110a is frequently mutated in tumors, p110a has garnered the bulk of the attention from pharmaceutical and basic researchers. However, using a murine genetic model we identified p110ß as a key target in PTEN-null prostate tumors. We and others have subsequently shown that human PTEN-null prostate cancer cell lines are selectively dependent on p110ß. We have further identified Kin-193, also known as AZD6482, as a potent and specific p110ß inhibitor suitable for studies in vitro and in mice. Notably, a new p110ß inhibitor, GSK2636771, is now in clinical trials in patients with PTEN-deficient advanced solid tumors (NCT01458067). Therefore, it is both imperative and timely to carefully investigate p110ß inhibitors in preclinical settings. In this gant we propose to evaluate the therapeutic potential of this novel class of inhibitors in prostate cancer in vitro and in vivo using human cancer cell lines, genetic mouse models as well as primary human prostate tumor explants, to develop biomarkers predictive of response to p110ß inhibition, and to identify optimal combination partner agents for p110ß-based therapy. The studies proposed in this grant will likely provide important information that will help to optimize the clinical impact of this class of inhibitors in PTEN-deficient tumors.</td>\n",
       "    </tr>\n",
       "    <tr>\n",
       "      <th>1</th>\n",
       "      <td>11</td>\n",
       "      <td>9047257</td>\n",
       "      <td>NATIONAL CANCER INSTITUTE</td>\n",
       "      <td>438929.0</td>\n",
       "      <td>?    DESCRIPTION (provided by applicant):  Soft tissue sarcomas (STS) are a heterogeneous group of mesenchymal tissue cancers, with over 50 histological sub-types. Regardless of type, virtually all STS are treated the same; i.e. with doxorubicin (DOX) followed by resection, if possible. More than 20% of STS are non-resectable and, of those that are, more than 20% recur. For non-resectable or recurring patients, median survival is a dismal 18 months. Perhaps because of its rarity, no new front-line agents have been developed for STS in decades. Among newer agents being developed for STS, TH-302 is showing exceptional promise. TH-302 is an alkylating pro-drug that is activated only in regions of severe hypoxia, and is currently in a phas III trial in combination with DOX in unresectable STS. The primary endpoint of this trial is overal survival with a secondary endpoint of objective radiological response with RECIST 1.1. RECIST responses rarely correlate with survival responses in soft tissue sarcomas, however. The purpose of this work is to develop MR imaging biomarkers that can predict response to DOX and/or TH-302, with the overarching hypothesis that distinct MRI-defined sub-regions of tumors will have differential responses to these agents. Because these sub-regions are defined by their distinct physiology illuminated by combining multiple MR scans, we have termed these as distinct habitats. Because TH-302 is active only in hypoxia, and hypoxia should be represented by a specific habitat, we specifically hypothesize that imaging of the hypoxic habitat can be used to predict and monitor responses to TH-302. The hypoxia habitat is classified as having low perfusion and high cell density. In contrast, the DOX-responsive habitat should be well perfused (yielding higher drug concentrations) and have high cell density (with more drug targets). This represents a conceptual advance as such habitats may provide a common predictive biomarker across the multiple histological sub-types of STS for patient stratification and therapeutic decision support. The approach will follow on preliminary work, wherein delineated habitats were quantitatively identified across multiple histological types and grades of STS by combining T1, contrast- enhanced T1, and T2 STIR MR images. The current proposal is entirely pre-clinical, with the expectation that findings herein can be rapidly translated to clinial care. Preclinical work is justified in that there is greater flexibility to interrogate a wider porfolio of MRI pulse sequences and treatment strategies that can be related to underlying histology and molecular profiling. Aim 1 will quantitatively compare MR-visible habitats to histology and molecular profiles of xenotransplanted tumors. Aim 2 will test the hypothesis that tumors with different habitat profiles will be differentially responsive to DOX and/or TH-302. In Aim 3, we wil investigate the effects of metabolic perturbations to affect the hypoxic habitat and thus improve response to TH-302. At the end of this study, we will have developed a new set of MR imaging biomarkers for predicting and monitoring response in this heterogeneous group of diseases, with the expectation that these finding will inform a follow-on study in the clinic.</td>\n",
       "    </tr>\n",
       "    <tr>\n",
       "      <th>2</th>\n",
       "      <td>13</td>\n",
       "      <td>9264070</td>\n",
       "      <td>NATIONAL CANCER INSTITUTE</td>\n",
       "      <td>54438.0</td>\n",
       "      <td>DESCRIPTION (provided by applicant): This proposal focuses on identifying natural compounds and combinations of natural compounds that behave as calorie restriction (CR) mimetics. Ursolic acid (UA), a pentacyclic triterpene compound found in rosemary, apples, berries, Perilla frutescens (P. frutescens) and other sources, as well as several other related triterpenoids have been shown to inhibit skin tumor promotion by TPA and to block both Akt signaling as well as NFkB signaling in other studies. Evidence exists that UA may also modulate activity of the glucocorticoid receptor (GR). In preliminary studies, including new data added to this application, we have found that UA had inhibitory effects on epidermal Akt, NFkB, p38 MAPK and JNK activation induced by TPA treatment. UA also inhibited TPA-induced epidermal hyperproliferation. Notably, UA, when given in combination with resveratrol (Res), appeared to produce synergistic inhibition of these signaling pathways, as well as TPA-induced epidermal hyperproliferation. Furthermore, combinations of UA and Res dramatically induced activation of epidermal AMPK following treatment with TPA. Preliminary experiments suggest that UA modulates the GR in a human keratinocyte cell line. Additional new data demonstrates that Rapa, UA, Res and the combination of UA+RES suppress the proliferation of putative stem cells from the bulge region of hair follicles. We have made significant progress in the synthesis/preparation of additional pentacyclic triterpenes found in P. frutescens. We propose to use the well-characterized two-stage skin carcinogenesis model to explore the mechanisms that underlie the chemopreventive properties of UA and a series of related pentacyclic triterpenes. In addition, we will explore the possibility that UA (or a more potent triterpene found in P. frutescens) when combined with other phytochemicals such as Res, curcumin (Curc), 6-shogaol (6Sho) or Rapa will produce either additive or possibly synergistic chemopreventive effects. We will test the hypothesis that UA alone or in combination with other phytochemicals acts as a CR mimetic by modulating growth factor signaling, inflammatory signaling and possibly other signaling pathways to suppress proliferation of initiated keratinocytes. The hypothesis that combinations of triterpenoid compounds (such as UA) together with other chemo- preventive chemicals/phytochemicals will produce additive or synergistic CR mimetic activity will also be tested. The specific aims are: i) Examine the effect of UA and a series of related pentacyclic triterpenes on epidermal signaling pathways induced by TPA; ii) Examine the ability of UA and a series of related pentacyclic triterpenes to modulate epidermal GR function during tumor promotion; iii) Examine the effect of UA and a series of related triterpenes on keratinocyte proliferation (including bulge region KSCs) and skin inflammation in relation to their ability to inhibit skin tumor promotion by TPA; iv) Examine whether UA combined with other anti-inflammatory chemicals can achieve synergistic inhibitory effects toward skin tumor promotion by TPA.</td>\n",
       "    </tr>\n",
       "    <tr>\n",
       "      <th>3</th>\n",
       "      <td>31</td>\n",
       "      <td>9057474</td>\n",
       "      <td>NATIONAL CANCER INSTITUTE</td>\n",
       "      <td>362601.0</td>\n",
       "      <td>DESCRIPTION (provided by applicant): A major clinical problem in prostate cancer is that of tumor recurrence following initial apparently successful therapy. It is widely believed that recurrent tumors may arise from a small number of cancer stem-like cells that survive the initial therapeutic intervention and which have the capacity to regenerate the tumor. However, this idea has been difficult to test in vivo without manipulation of the cancer cells outside their native environment in the animal. Here we propose a lineage-tracing strategy to examine the competence of specific prostate epithelial cell types (castration-resistant Nkx3.1-expressing cells or CARNs and Bmi1+ cells) to regenerate tumors following androgen ablation in mice (Aim 1). We will further examine whether recurrent tumors driven by specific oncogenic mutations preferentially arise from particular cell populations of stem-like cells within a regressed tumor and the role of the androgen receptor (Aim 2). Finally, we will employ lineage ablation of specific cell types within a regressed tumor to assess the relative contributions of specific stem-like cells (CARNs and Bmi1+ cells) to prostate cancer relapse (Aim 3). In these studies will use novel approaches to define the significance of specific prostate cell types in tumor relapse following androgen ablation. This proposal if successful will have a major impact on our understanding of the cellular origins of recurrent prostate cancer and will facilitate effors aimed at successfully eradicating the tumor.</td>\n",
       "    </tr>\n",
       "    <tr>\n",
       "      <th>4</th>\n",
       "      <td>44</td>\n",
       "      <td>9125588</td>\n",
       "      <td>NATIONAL CANCER INSTITUTE</td>\n",
       "      <td>712498.0</td>\n",
       "      <td>?     DESCRIPTION (provided by applicant): Our long-term goal is to improve spiritual care outcomes for elderly patients facing a cancer diagnosis. We will use a nurse-led or chaplain-led intervention, Dignity Therapy (DT), focused on dignity conservation tasks such as settling relationships, sharing words of love, and preparing for separation by death. These tasks are central needs for elderly patients with cancer, but it is not clear if DT should be led by nurses o chaplains, the two disciplines within palliative care most available to provide DT. We propose a 3-arm, pre/posttest, randomized, controlled 4-step, stepped-wedge design to compare the effects of usual outpatient palliative care and usual outpatient palliative care along with either nurse-led or chaplain-led DT on pilot tested patient outcomes (dignity impact, existential tasks, and cancer prognosis awareness). We will include 560 elderly patients with cancer from 6 outpatient palliative care services across the U.S. We will assign the 6 sites to usual care in the  first-step period (12 months), and randomly assign 2 sites per step to begin and continue DT led either by a nurse or a chaplain during each of the next three steps. During usual care steps, 280 patients will complete pretest measures (patient outcomes, processes, covariates [physical symptoms, spiritual distress]), receive usual chaplain care, and 4-6 weeks later will complete posttest measures. During experimental steps as part of routine palliative care, 280 patients will complete pretest measures, receive nurse-led or chaplain-led DT, and 4-6 weeks later will complete posttest measures. Process measures will be completed during all steps. Using mixed level analysis with site, provider (nurse, chaplain), and time (step) included in the model, we wil compare the usual care and DT groups for effects on patient outcomes and spiritual care processes and determine the moderating effects of physical symptoms and spiritual distress. Specific aims are to: Aim 1 Compare usual palliative care and usual palliative care with DT (nurse-led, chaplain-led) groups for effects on: a) patient outcomes (dignity impact, existential tasks, and cancer prognosis awareness). We hypothesize that, controlling for pretest scores, each of the DT groups will have higher scores on the dignity impact and existential tasks measures than the usual care group; each of the DT groups will have better peaceful awareness and treatment preference more consistent with their cancer prognosis than the usual care group; and b) processes of delivering palliative spiritual care services (satisfaction, unmet spiritual needs). We hypothesize that the DT groups will show increased patient satisfaction with spiritual care services and fewer unmet spiritual needs compared to the usual care group. Aim 2 Explore the influence of physical symptoms and spiritual distress on the dignity impact and existential tasks effects of usual palliative care and nurse-led or chaplain-led DT. We hypothesize that physical symptoms and spiritual distress will significantly affect intervention effects. This rigorous trial of DT will constitute a landmark step in palliative care and spiritual  health services research.</td>\n",
       "    </tr>\n",
       "  </tbody>\n",
       "</table>\n",
       "</div>"
      ],
      "text/plain": [
       "   index  APPLICATION_ID                    IC_NAME  TOTAL_COST  \\\n",
       "0  2      9036357         NATIONAL CANCER INSTITUTE  554053.0     \n",
       "1  11     9047257         NATIONAL CANCER INSTITUTE  438929.0     \n",
       "2  13     9264070         NATIONAL CANCER INSTITUTE  54438.0      \n",
       "3  31     9057474         NATIONAL CANCER INSTITUTE  362601.0     \n",
       "4  44     9125588         NATIONAL CANCER INSTITUTE  712498.0     \n",
       "\n",
       "                                                                                                                                                                                                                                                                                                                                                                                                                                                                                                                                                                                                                                                                                                                                                                                                                                                                                                                                                                                                                                                                                                                                                                                                                                                                                                                                                                                                                                                                                                                                                                                                                                                                                                                                                                                                                                                                                                                                                                                                                                                                                                                                                                                                                                                                                                                                                                                                                                                                                                                                                                                                                                                                                                                                                                                                                                                                                                                                                                                                                                                                                                                                                                                                                                                                                                                                                                                                       ABSTRACT_TEXT  \n",
       "0  ?    DESCRIPTION (provided by applicant): Loss of the tumor suppressor phosphatase and tensin homolog (PTEN), the key negative regulator of Phosphatidylinositol 3-Kinase (PI3K) activity, is one of the most common genetic events in primary prostate cancer (PCa). Moreover, its frequency further increases in metastatic PCa, indicating that hyperactivation of the PI3K pathway plays an important role in the pathogenesis of PCa and implicating PI3K as an attractive target in this tumor type. However, early clinical trials with PI3K inhibitors in multipe cancer types, including PCa, have been disappointing. The clinical efficacy of these early PI3K inhibitors, which were largely pan-PI3K inhibitors that block the action of all Class I PI3K isoforms, may have been limited by their lack of isoform specificity. Indeed, preclinical work and emerging clinical trials suggest that inhibitors of individual isoforms may achieve greater efficac with fewer side effects. For example, Cal101, an inhibitor of the p110d isoform of PI3K, has demonstrated remarkable clinical efficacy in certain B-cell malignancies. Early unpublished clinical results also suggest that p110a inhibitors are outperforming pan-PI3K inhibitors in luminal breast cancer. Because the PIK3CA gene encoding p110a is frequently mutated in tumors, p110a has garnered the bulk of the attention from pharmaceutical and basic researchers. However, using a murine genetic model we identified p110ß as a key target in PTEN-null prostate tumors. We and others have subsequently shown that human PTEN-null prostate cancer cell lines are selectively dependent on p110ß. We have further identified Kin-193, also known as AZD6482, as a potent and specific p110ß inhibitor suitable for studies in vitro and in mice. Notably, a new p110ß inhibitor, GSK2636771, is now in clinical trials in patients with PTEN-deficient advanced solid tumors (NCT01458067). Therefore, it is both imperative and timely to carefully investigate p110ß inhibitors in preclinical settings. In this gant we propose to evaluate the therapeutic potential of this novel class of inhibitors in prostate cancer in vitro and in vivo using human cancer cell lines, genetic mouse models as well as primary human prostate tumor explants, to develop biomarkers predictive of response to p110ß inhibition, and to identify optimal combination partner agents for p110ß-based therapy. The studies proposed in this grant will likely provide important information that will help to optimize the clinical impact of this class of inhibitors in PTEN-deficient tumors.                                                                                                                                                                                                                                                                                                                                                                                                                                                                                                                                                                                                                                                                                                                                \n",
       "1  ?    DESCRIPTION (provided by applicant):  Soft tissue sarcomas (STS) are a heterogeneous group of mesenchymal tissue cancers, with over 50 histological sub-types. Regardless of type, virtually all STS are treated the same; i.e. with doxorubicin (DOX) followed by resection, if possible. More than 20% of STS are non-resectable and, of those that are, more than 20% recur. For non-resectable or recurring patients, median survival is a dismal 18 months. Perhaps because of its rarity, no new front-line agents have been developed for STS in decades. Among newer agents being developed for STS, TH-302 is showing exceptional promise. TH-302 is an alkylating pro-drug that is activated only in regions of severe hypoxia, and is currently in a phas III trial in combination with DOX in unresectable STS. The primary endpoint of this trial is overal survival with a secondary endpoint of objective radiological response with RECIST 1.1. RECIST responses rarely correlate with survival responses in soft tissue sarcomas, however. The purpose of this work is to develop MR imaging biomarkers that can predict response to DOX and/or TH-302, with the overarching hypothesis that distinct MRI-defined sub-regions of tumors will have differential responses to these agents. Because these sub-regions are defined by their distinct physiology illuminated by combining multiple MR scans, we have termed these as distinct habitats. Because TH-302 is active only in hypoxia, and hypoxia should be represented by a specific habitat, we specifically hypothesize that imaging of the hypoxic habitat can be used to predict and monitor responses to TH-302. The hypoxia habitat is classified as having low perfusion and high cell density. In contrast, the DOX-responsive habitat should be well perfused (yielding higher drug concentrations) and have high cell density (with more drug targets). This represents a conceptual advance as such habitats may provide a common predictive biomarker across the multiple histological sub-types of STS for patient stratification and therapeutic decision support. The approach will follow on preliminary work, wherein delineated habitats were quantitatively identified across multiple histological types and grades of STS by combining T1, contrast- enhanced T1, and T2 STIR MR images. The current proposal is entirely pre-clinical, with the expectation that findings herein can be rapidly translated to clinial care. Preclinical work is justified in that there is greater flexibility to interrogate a wider porfolio of MRI pulse sequences and treatment strategies that can be related to underlying histology and molecular profiling. Aim 1 will quantitatively compare MR-visible habitats to histology and molecular profiles of xenotransplanted tumors. Aim 2 will test the hypothesis that tumors with different habitat profiles will be differentially responsive to DOX and/or TH-302. In Aim 3, we wil investigate the effects of metabolic perturbations to affect the hypoxic habitat and thus improve response to TH-302. At the end of this study, we will have developed a new set of MR imaging biomarkers for predicting and monitoring response in this heterogeneous group of diseases, with the expectation that these finding will inform a follow-on study in the clinic.  \n",
       "2  DESCRIPTION (provided by applicant): This proposal focuses on identifying natural compounds and combinations of natural compounds that behave as calorie restriction (CR) mimetics. Ursolic acid (UA), a pentacyclic triterpene compound found in rosemary, apples, berries, Perilla frutescens (P. frutescens) and other sources, as well as several other related triterpenoids have been shown to inhibit skin tumor promotion by TPA and to block both Akt signaling as well as NFkB signaling in other studies. Evidence exists that UA may also modulate activity of the glucocorticoid receptor (GR). In preliminary studies, including new data added to this application, we have found that UA had inhibitory effects on epidermal Akt, NFkB, p38 MAPK and JNK activation induced by TPA treatment. UA also inhibited TPA-induced epidermal hyperproliferation. Notably, UA, when given in combination with resveratrol (Res), appeared to produce synergistic inhibition of these signaling pathways, as well as TPA-induced epidermal hyperproliferation. Furthermore, combinations of UA and Res dramatically induced activation of epidermal AMPK following treatment with TPA. Preliminary experiments suggest that UA modulates the GR in a human keratinocyte cell line. Additional new data demonstrates that Rapa, UA, Res and the combination of UA+RES suppress the proliferation of putative stem cells from the bulge region of hair follicles. We have made significant progress in the synthesis/preparation of additional pentacyclic triterpenes found in P. frutescens. We propose to use the well-characterized two-stage skin carcinogenesis model to explore the mechanisms that underlie the chemopreventive properties of UA and a series of related pentacyclic triterpenes. In addition, we will explore the possibility that UA (or a more potent triterpene found in P. frutescens) when combined with other phytochemicals such as Res, curcumin (Curc), 6-shogaol (6Sho) or Rapa will produce either additive or possibly synergistic chemopreventive effects. We will test the hypothesis that UA alone or in combination with other phytochemicals acts as a CR mimetic by modulating growth factor signaling, inflammatory signaling and possibly other signaling pathways to suppress proliferation of initiated keratinocytes. The hypothesis that combinations of triterpenoid compounds (such as UA) together with other chemo- preventive chemicals/phytochemicals will produce additive or synergistic CR mimetic activity will also be tested. The specific aims are: i) Examine the effect of UA and a series of related pentacyclic triterpenes on epidermal signaling pathways induced by TPA; ii) Examine the ability of UA and a series of related pentacyclic triterpenes to modulate epidermal GR function during tumor promotion; iii) Examine the effect of UA and a series of related triterpenes on keratinocyte proliferation (including bulge region KSCs) and skin inflammation in relation to their ability to inhibit skin tumor promotion by TPA; iv) Examine whether UA combined with other anti-inflammatory chemicals can achieve synergistic inhibitory effects toward skin tumor promotion by TPA.                                                                                                                                          \n",
       "3  DESCRIPTION (provided by applicant): A major clinical problem in prostate cancer is that of tumor recurrence following initial apparently successful therapy. It is widely believed that recurrent tumors may arise from a small number of cancer stem-like cells that survive the initial therapeutic intervention and which have the capacity to regenerate the tumor. However, this idea has been difficult to test in vivo without manipulation of the cancer cells outside their native environment in the animal. Here we propose a lineage-tracing strategy to examine the competence of specific prostate epithelial cell types (castration-resistant Nkx3.1-expressing cells or CARNs and Bmi1+ cells) to regenerate tumors following androgen ablation in mice (Aim 1). We will further examine whether recurrent tumors driven by specific oncogenic mutations preferentially arise from particular cell populations of stem-like cells within a regressed tumor and the role of the androgen receptor (Aim 2). Finally, we will employ lineage ablation of specific cell types within a regressed tumor to assess the relative contributions of specific stem-like cells (CARNs and Bmi1+ cells) to prostate cancer relapse (Aim 3). In these studies will use novel approaches to define the significance of specific prostate cell types in tumor relapse following androgen ablation. This proposal if successful will have a major impact on our understanding of the cellular origins of recurrent prostate cancer and will facilitate effors aimed at successfully eradicating the tumor.                                                                                                                                                                                                                                                                                                                                                                                                                                                                                                                                                                                                                                                                                                                                                                                                                                                                                                                                                                                                                                                                                                                                                                                                                                                                                                                                                                                                                                                                                                                                                                                                                                                                                                                                                                                                        \n",
       "4  ?     DESCRIPTION (provided by applicant): Our long-term goal is to improve spiritual care outcomes for elderly patients facing a cancer diagnosis. We will use a nurse-led or chaplain-led intervention, Dignity Therapy (DT), focused on dignity conservation tasks such as settling relationships, sharing words of love, and preparing for separation by death. These tasks are central needs for elderly patients with cancer, but it is not clear if DT should be led by nurses o chaplains, the two disciplines within palliative care most available to provide DT. We propose a 3-arm, pre/posttest, randomized, controlled 4-step, stepped-wedge design to compare the effects of usual outpatient palliative care and usual outpatient palliative care along with either nurse-led or chaplain-led DT on pilot tested patient outcomes (dignity impact, existential tasks, and cancer prognosis awareness). We will include 560 elderly patients with cancer from 6 outpatient palliative care services across the U.S. We will assign the 6 sites to usual care in the  first-step period (12 months), and randomly assign 2 sites per step to begin and continue DT led either by a nurse or a chaplain during each of the next three steps. During usual care steps, 280 patients will complete pretest measures (patient outcomes, processes, covariates [physical symptoms, spiritual distress]), receive usual chaplain care, and 4-6 weeks later will complete posttest measures. During experimental steps as part of routine palliative care, 280 patients will complete pretest measures, receive nurse-led or chaplain-led DT, and 4-6 weeks later will complete posttest measures. Process measures will be completed during all steps. Using mixed level analysis with site, provider (nurse, chaplain), and time (step) included in the model, we wil compare the usual care and DT groups for effects on patient outcomes and spiritual care processes and determine the moderating effects of physical symptoms and spiritual distress. Specific aims are to: Aim 1 Compare usual palliative care and usual palliative care with DT (nurse-led, chaplain-led) groups for effects on: a) patient outcomes (dignity impact, existential tasks, and cancer prognosis awareness). We hypothesize that, controlling for pretest scores, each of the DT groups will have higher scores on the dignity impact and existential tasks measures than the usual care group; each of the DT groups will have better peaceful awareness and treatment preference more consistent with their cancer prognosis than the usual care group; and b) processes of delivering palliative spiritual care services (satisfaction, unmet spiritual needs). We hypothesize that the DT groups will show increased patient satisfaction with spiritual care services and fewer unmet spiritual needs compared to the usual care group. Aim 2 Explore the influence of physical symptoms and spiritual distress on the dignity impact and existential tasks effects of usual palliative care and nurse-led or chaplain-led DT. We hypothesize that physical symptoms and spiritual distress will significantly affect intervention effects. This rigorous trial of DT will constitute a landmark step in palliative care and spiritual  health services research.                                                 "
      ]
     },
     "execution_count": 9,
     "metadata": {},
     "output_type": "execute_result"
    }
   ],
   "source": [
    "nci_abstracts.head()"
   ]
  },
  {
   "cell_type": "markdown",
   "metadata": {},
   "source": [
    "#### How many cancer projects to not have an abstract?"
   ]
  },
  {
   "cell_type": "code",
   "execution_count": 10,
   "metadata": {
    "scrolled": false
   },
   "outputs": [
    {
     "data": {
      "text/plain": [
       "index             52\n",
       "APPLICATION_ID    52\n",
       "IC_NAME           52\n",
       "TOTAL_COST        12\n",
       "ABSTRACT_TEXT     0 \n",
       "dtype: int64"
      ]
     },
     "execution_count": 10,
     "metadata": {},
     "output_type": "execute_result"
    }
   ],
   "source": [
    "nci_abstracts[pd.isnull(nci_abstracts['ABSTRACT_TEXT'])].count()"
   ]
  },
  {
   "cell_type": "markdown",
   "metadata": {},
   "source": [
    "Out of the 11291 Cancer projects, 52 of them to not have an abstract. This is about 2% of the total projects. For the purposes of this notebook, we will just remove these projects, but in your ownn projects I would would recommend investigating the projects you have to drop from your text analysis due to missing abstracts. "
   ]
  },
  {
   "cell_type": "markdown",
   "metadata": {},
   "source": [
    "### Remove the projects with missing abstracts "
   ]
  },
  {
   "cell_type": "code",
   "execution_count": 11,
   "metadata": {},
   "outputs": [
    {
     "data": {
      "text/plain": [
       "(11239, 5)"
      ]
     },
     "execution_count": 11,
     "metadata": {},
     "output_type": "execute_result"
    }
   ],
   "source": [
    "# Drop the projects with missing abstracts\n",
    "nci_abstracts = nci_abstracts.dropna(subset = ['ABSTRACT_TEXT'])\n",
    "\n",
    "# Look at the number of rowa and columns of the data frame\n",
    "nci_abstracts.shape"
   ]
  },
  {
   "cell_type": "markdown",
   "metadata": {},
   "source": [
    "### Save the abstracts to a list\n",
    "In order to properly process the data for text analysis, we need to convert it from a dataframe to a list, so we will save the values of the column `ABSTRACT_TEXT` to a list."
   ]
  },
  {
   "cell_type": "code",
   "execution_count": 12,
   "metadata": {},
   "outputs": [
    {
     "data": {
      "text/plain": [
       "'?    DESCRIPTION (provided by applicant): Loss of the tumor suppressor phosphatase and tensin homolog (PTEN), the key negative regulator of Phosphatidylinositol 3-Kinase (PI3K) activity, is one of the most common genetic events in primary prostate cancer (PCa). Moreover, its frequency further increases in metastatic PCa, indicating that hyperactivation of the PI3K pathway plays an important role in the pathogenesis of PCa and implicating PI3K as an attractive target in this tumor type. However, early clinical trials with PI3K inhibitors in multipe cancer types, including PCa, have been disappointing. The clinical efficacy of these early PI3K inhibitors, which were largely pan-PI3K inhibitors that block the action of all Class I PI3K isoforms, may have been limited by their lack of isoform specificity. Indeed, preclinical work and emerging clinical trials suggest that inhibitors of individual isoforms may achieve greater efficac with fewer side effects. For example, Cal101, an inhibitor of the p110d isoform of PI3K, has demonstrated remarkable clinical efficacy in certain B-cell malignancies. Early unpublished clinical results also suggest that p110a inhibitors are outperforming pan-PI3K inhibitors in luminal breast cancer. Because the PIK3CA gene encoding p110a is frequently mutated in tumors, p110a has garnered the bulk of the attention from pharmaceutical and basic researchers. However, using a murine genetic model we identified p110ß as a key target in PTEN-null prostate tumors. We and others have subsequently shown that human PTEN-null prostate cancer cell lines are selectively dependent on p110ß. We have further identified Kin-193, also known as AZD6482, as a potent and specific p110ß inhibitor suitable for studies in vitro and in mice. Notably, a new p110ß inhibitor, GSK2636771, is now in clinical trials in patients with PTEN-deficient advanced solid tumors (NCT01458067). Therefore, it is both imperative and timely to carefully investigate p110ß inhibitors in preclinical settings. In this gant we propose to evaluate the therapeutic potential of this novel class of inhibitors in prostate cancer in vitro and in vivo using human cancer cell lines, genetic mouse models as well as primary human prostate tumor explants, to develop biomarkers predictive of response to p110ß inhibition, and to identify optimal combination partner agents for p110ß-based therapy. The studies proposed in this grant will likely provide important information that will help to optimize the clinical impact of this class of inhibitors in PTEN-deficient tumors.'"
      ]
     },
     "execution_count": 12,
     "metadata": {},
     "output_type": "execute_result"
    }
   ],
   "source": [
    "abstracts_list = nci_abstracts['ABSTRACT_TEXT'].values.tolist()\n",
    "\n",
    "# look at the first element of the list, which is the first abstract\n",
    "abstracts_list[0]"
   ]
  },
  {
   "cell_type": "markdown",
   "metadata": {},
   "source": [
    "## Topic Modeling <a class=\"anchor\" id=\"Topic\"></a>\n",
    "\n",
    "We are going to apply topic modeling, an unsupervised learning method, to our corpus to find the high-level topics in our corpus. Through this process, we'll discuss how to clean and preprocess our data to get the best results. Topic modeling is a broad subfield of machine learning and natural language processing. We are going to focus on a common modeling approach called Latent Dirichlet Allocation (LDA).\n",
    "\n",
    "To use topic modeling, we first have to assume that topics exist in our corpus, and that some small number of these topics can \"explain\" the corpus. Topics in this context refer to words from the corpus, in a list that is ranked by probability. A single document can be explained by multiple topics. For instance, an article on net neutrality would fall under the topic \"technology\" as well as the topic \"politics\". The set of topics used by a document is known as the document's allocation, hence, the name Latent Dirichlet Allocation, each document has an allocation of latent topics allocated by Dirichlet distribution. Latent (or hidden) stands for topics in the documents that are existing but not yet developed or manifest and which can be discovered based on observed data, such as words in the documents. Dirichlet refers to distributions that are taken into account when creating topics: a distribution of words in the topic (which words are more or less probable to belong to a given topic) and a distribution of topics in documents (which topic is more or less probable for a given document). \n",
    "\n",
    "We will use topic modeling in order to determine what types of research is done based on the grants' abstracts."
   ]
  },
  {
   "cell_type": "markdown",
   "metadata": {},
   "source": [
    "LDA model takes as input a corpus (a collection of text documents). Every text document is tokenized to become a sequence of words (tokens). All unique words across a given corpus are saved as a vocabulary. Text documents are then converted to a matrix of token counts (how often a given unique word from a vocabulary appears in a given text document), e.g.:\n",
    "\n",
    "|doc# / unique words | 'science' | 'research' | 'cell' | 'DNA' | 'gene' |\n",
    "|-----------|--------|---------|-------|-------|------|\n",
    "|document 1 |    0   |    0    |   1   |   5   |  7   |\n",
    "|document 2 |    1   |    2    |   0   |   1   |  0   |\n",
    "|document 3 |    1   |    5    |   2   |   0   |  0   |\n",
    "\n",
    "\n",
    "The LDA model finds the probability of a word appearing in a given topic, and then maps a probability of a topic being assigned to a given document."
   ]
  },
  {
   "cell_type": "markdown",
   "metadata": {},
   "source": [
    "## Preparing Text Data for Natural Language Processing (NLP) <a class=\"anchor\" id=\"NLP\"></a>\n",
    "\n",
    "The first important step in working with text data is cleaning and processing the data, which includes (but is not limited to):\n",
    "- forming a corpus of text\n",
    "- stemming and lemmatization\n",
    "- tokenization\n",
    "- removing stopwords\n",
    "- finding words co-located together (N-grams)\n",
    "\n",
    "The ultimate goal is to transform our text data into a form an algorithm can work with, because a document or a corpus of text cannot be fed directly into an algorithm. Algorithms expect numerical feature vectors with certain fixed sizes, and can't handle documents, which are basically sequences of symbols with variable length. We will be transforming our text corpus into a _bag of n-grams_ to be further analyzed. In this form our text data is represented as a matrix where each row refers to a specific job description (document) and each column is the occurence of a word (feature).\n",
    "\n",
    "First we will walk through the process for removing punctuation, stemming, and tokenizing, one at a time, using the first abstarct as an example then we will write a funstion to apply these three steps on the entire data set."
   ]
  },
  {
   "cell_type": "markdown",
   "metadata": {},
   "source": [
    "### Stemming and Lemmatization - Distilling text data\n",
    "We want to process our text through _stemming and lemmatization_, or replacing words with their root or simplest form. For example, \"systems\", \"systematic\", and \"system\" are all different words, but we can replace all these words with \"system\" without sacrificing much meaning. \n",
    "- A **lemma** is the original dictionary form of a word (e.g. the lemma for \"lies\", \"lied\", and \"lying\" is \"lie\").\n",
    "- The process of turning a word into its simplest form is **stemming**. There are several well-known stemming algorithms -- Porter, Snowball, Lancaster - that all have their respective strengths and weaknesses.\n",
    "\n",
    "#### Set stemmer at SnowballStemmer\n",
    "In this notebook, we will use the Snowball Stemmer:"
   ]
  },
  {
   "cell_type": "code",
   "execution_count": 13,
   "metadata": {},
   "outputs": [
    {
     "name": "stdout",
     "output_type": "stream",
     "text": [
      "lie\n",
      "lie\n",
      "systemat\n",
      "run\n"
     ]
    }
   ],
   "source": [
    "# Examples of how a Stemmer works:\n",
    "stemmer = SnowballStemmer(\"english\")\n",
    "print(stemmer.stem('lies'))\n",
    "print(stemmer.stem('lying'))\n",
    "print(stemmer.stem('systematic'))\n",
    "print(stemmer.stem('running'))"
   ]
  },
  {
   "cell_type": "markdown",
   "metadata": {},
   "source": [
    "### Removing Punctuation\n",
    "For some purposes, we might want to preserve punctuation. For example, if we wanted to be able to detect sentiment of text, we might want to keep exclamation points, because they signify something about the text. For our purposes, however, we will simply strip the punctuation so that it does not affect our analysis. To do this, we use `string` package, creating a translator that takes any string and \"translates\" it into a string without any punctuation."
   ]
  },
  {
   "cell_type": "code",
   "execution_count": 14,
   "metadata": {},
   "outputs": [
    {
     "data": {
      "text/plain": [
       "'?    DESCRIPTION (provided by applicant): Loss of the tumor suppressor phosphatase and tensin homolog (PTEN), the key negative regulator of Phosphatidylinositol 3-Kinase (PI3K) activity, is one of the most common genetic events in primary prostate cancer (PCa). Moreover, its frequency further increases in metastatic PCa, indicating that hyperactivation of the PI3K pathway plays an important role in the pathogenesis of PCa and implicating PI3K as an attractive target in this tumor type. However, early clinical trials with PI3K inhibitors in multipe cancer types, including PCa, have been disappointing. The clinical efficacy of these early PI3K inhibitors, which were largely pan-PI3K inhibitors that block the action of all Class I PI3K isoforms, may have been limited by their lack of isoform specificity. Indeed, preclinical work and emerging clinical trials suggest that inhibitors of individual isoforms may achieve greater efficac with fewer side effects. For example, Cal101, an inhibitor of the p110d isoform of PI3K, has demonstrated remarkable clinical efficacy in certain B-cell malignancies. Early unpublished clinical results also suggest that p110a inhibitors are outperforming pan-PI3K inhibitors in luminal breast cancer. Because the PIK3CA gene encoding p110a is frequently mutated in tumors, p110a has garnered the bulk of the attention from pharmaceutical and basic researchers. However, using a murine genetic model we identified p110ß as a key target in PTEN-null prostate tumors. We and others have subsequently shown that human PTEN-null prostate cancer cell lines are selectively dependent on p110ß. We have further identified Kin-193, also known as AZD6482, as a potent and specific p110ß inhibitor suitable for studies in vitro and in mice. Notably, a new p110ß inhibitor, GSK2636771, is now in clinical trials in patients with PTEN-deficient advanced solid tumors (NCT01458067). Therefore, it is both imperative and timely to carefully investigate p110ß inhibitors in preclinical settings. In this gant we propose to evaluate the therapeutic potential of this novel class of inhibitors in prostate cancer in vitro and in vivo using human cancer cell lines, genetic mouse models as well as primary human prostate tumor explants, to develop biomarkers predictive of response to p110ß inhibition, and to identify optimal combination partner agents for p110ß-based therapy. The studies proposed in this grant will likely provide important information that will help to optimize the clinical impact of this class of inhibitors in PTEN-deficient tumors.'"
      ]
     },
     "execution_count": 14,
     "metadata": {},
     "output_type": "execute_result"
    }
   ],
   "source": [
    "# Before removing punctuation\n",
    "abstracts_list[0]"
   ]
  },
  {
   "cell_type": "markdown",
   "metadata": {},
   "source": [
    "As you can see, the first abstrate starts with a **?**, once we create a translator that replaces punctuation with empty spaces, this **?** along with all other punctuation will be replaced with an empty space."
   ]
  },
  {
   "cell_type": "code",
   "execution_count": 15,
   "metadata": {},
   "outputs": [
    {
     "data": {
      "text/plain": [
       "'!\"#$%&\\'()*+,-./:;<=>?@[\\\\]^_`{|}~'"
      ]
     },
     "execution_count": 15,
     "metadata": {},
     "output_type": "execute_result"
    }
   ],
   "source": [
    "# Create translator that replaces punctuation with empty spaces\n",
    "translator = str.maketrans(string.punctuation, ' ' * len(string.punctuation))\n",
    "\n",
    "# Look at the punctuation characters ww will be replacing\n",
    "string.punctuation"
   ]
  },
  {
   "cell_type": "code",
   "execution_count": 16,
   "metadata": {},
   "outputs": [
    {
     "data": {
      "text/plain": [
       "'     DESCRIPTION  provided by applicant   Loss of the tumor suppressor phosphatase and tensin homolog  PTEN   the key negative regulator of Phosphatidylinositol 3 Kinase  PI3K  activity  is one of the most common genetic events in primary prostate cancer  PCa   Moreover  its frequency further increases in metastatic PCa  indicating that hyperactivation of the PI3K pathway plays an important role in the pathogenesis of PCa and implicating PI3K as an attractive target in this tumor type  However  early clinical trials with PI3K inhibitors in multipe cancer types  including PCa  have been disappointing  The clinical efficacy of these early PI3K inhibitors  which were largely pan PI3K inhibitors that block the action of all Class I PI3K isoforms  may have been limited by their lack of isoform specificity  Indeed  preclinical work and emerging clinical trials suggest that inhibitors of individual isoforms may achieve greater efficac with fewer side effects  For example  Cal101  an inhibitor of the p110d isoform of PI3K  has demonstrated remarkable clinical efficacy in certain B cell malignancies  Early unpublished clinical results also suggest that p110a inhibitors are outperforming pan PI3K inhibitors in luminal breast cancer  Because the PIK3CA gene encoding p110a is frequently mutated in tumors  p110a has garnered the bulk of the attention from pharmaceutical and basic researchers  However  using a murine genetic model we identified p110ß as a key target in PTEN null prostate tumors  We and others have subsequently shown that human PTEN null prostate cancer cell lines are selectively dependent on p110ß  We have further identified Kin 193  also known as AZD6482  as a potent and specific p110ß inhibitor suitable for studies in vitro and in mice  Notably  a new p110ß inhibitor  GSK2636771  is now in clinical trials in patients with PTEN deficient advanced solid tumors  NCT01458067   Therefore  it is both imperative and timely to carefully investigate p110ß inhibitors in preclinical settings  In this gant we propose to evaluate the therapeutic potential of this novel class of inhibitors in prostate cancer in vitro and in vivo using human cancer cell lines  genetic mouse models as well as primary human prostate tumor explants  to develop biomarkers predictive of response to p110ß inhibition  and to identify optimal combination partner agents for p110ß based therapy  The studies proposed in this grant will likely provide important information that will help to optimize the clinical impact of this class of inhibitors in PTEN deficient tumors '"
      ]
     },
     "execution_count": 16,
     "metadata": {},
     "output_type": "execute_result"
    }
   ],
   "source": [
    "# After removing punctuation\n",
    "abstracts_list[0].translate(translator)"
   ]
  },
  {
   "cell_type": "markdown",
   "metadata": {},
   "source": [
    "### Tokenizing"
   ]
  },
  {
   "cell_type": "markdown",
   "metadata": {},
   "source": [
    "We want to separate text into individual tokens (generally individual words). To do this, we will first write a function that takes a string and splits it up into individual words.\n",
    "\n",
    "To tokenize, we will use a `.split()` function."
   ]
  },
  {
   "cell_type": "code",
   "execution_count": 17,
   "metadata": {
    "scrolled": true
   },
   "outputs": [
    {
     "data": {
      "text/plain": [
       "['?',\n",
       " 'DESCRIPTION',\n",
       " '(provided',\n",
       " 'by',\n",
       " 'applicant):',\n",
       " 'Loss',\n",
       " 'of',\n",
       " 'the',\n",
       " 'tumor',\n",
       " 'suppressor']"
      ]
     },
     "execution_count": 17,
     "metadata": {},
     "output_type": "execute_result"
    }
   ],
   "source": [
    "abstracts_list[0].split()[:10]"
   ]
  },
  {
   "cell_type": "markdown",
   "metadata": {},
   "source": [
    "#### Create a tokenize function\n",
    "We will create a `tokenize` function that does several things at the same time. \n",
    "- First, it removes any punctuation using the `translate` method. \n",
    "- Then, the `split` method breaks it apart into individual words. \n",
    "- Then, using `stemmer.stem`, it creates a list of the stemmed versions of each of those individual words."
   ]
  },
  {
   "cell_type": "code",
   "execution_count": 18,
   "metadata": {},
   "outputs": [],
   "source": [
    "# Create a tokenize function\n",
    "def tokenize(text):\n",
    " # translator that replaces punctuation with empty spaces\n",
    "    translator = str.maketrans(string.punctuation, ' ' * len(string.punctuation)) \n",
    " # stemmer and tokenizing into words\n",
    "    return [stemmer.stem(i) for i in text.translate(translator).split()]  "
   ]
  },
  {
   "cell_type": "markdown",
   "metadata": {},
   "source": [
    "Let's take a look at an example of how this works using the first abstract in our corpus."
   ]
  },
  {
   "cell_type": "code",
   "execution_count": 19,
   "metadata": {},
   "outputs": [
    {
     "data": {
      "text/plain": [
       "['descript',\n",
       " 'provid',\n",
       " 'by',\n",
       " 'applic',\n",
       " 'loss',\n",
       " 'of',\n",
       " 'the',\n",
       " 'tumor',\n",
       " 'suppressor',\n",
       " 'phosphatas']"
      ]
     },
     "execution_count": 19,
     "metadata": {},
     "output_type": "execute_result"
    }
   ],
   "source": [
    "tokenize(abstracts_list[0])[:10]"
   ]
  },
  {
   "cell_type": "markdown",
   "metadata": {},
   "source": [
    "What we get out of it is something called a **bag of words**. This is a list of all of the words that are in the abstract, cleaned of all punctuation and stemmed. The paragraph is now represented as as vector of individual words rather than as one whole entity."
   ]
  },
  {
   "cell_type": "markdown",
   "metadata": {},
   "source": [
    "#### Create the vectorizer object\n",
    "\n",
    "We can apply the `tokenize` function to each abstract in our corpus using `CountVectorizer`. This will not only do the tokenizing, but it will also count any duplicates of words and create a matrix that contains the frequency of each word. This will be quite a large matrix (number of columns will be number of unique words), so it outputs the data as a sparse matrix.\n",
    "\n",
    "We will first create the `vectorizer` object, and then fit it with our abstracts. This should give us back our overall corpus bag of words, as well as a list of features (that is, the unique words in all the abstracts)."
   ]
  },
  {
   "cell_type": "code",
   "execution_count": 20,
   "metadata": {},
   "outputs": [],
   "source": [
    "vectorizer = CountVectorizer(analyzer=\"word\",        # unit of features are single words rather than characters\n",
    "                            tokenizer=tokenize,      # function to create tokens\n",
    "                            ngram_range=(0,1),       # unigrams - single words\n",
    "                            strip_accents='unicode', # remove accent characters\n",
    "                            min_df = 0.05,           # only include words with minimum frequency of 0.05\n",
    "                            max_df = 0.95)           # only include words with maximum frequency of 0.95"
   ]
  },
  {
   "cell_type": "markdown",
   "metadata": {},
   "source": [
    "#### Bag of words\n",
    "\n",
    "**This Next sections or code may take a time to run** "
   ]
  },
  {
   "cell_type": "code",
   "execution_count": 21,
   "metadata": {},
   "outputs": [
    {
     "name": "stderr",
     "output_type": "stream",
     "text": [
      "/Users/maryahhatherillgarner/opt/anaconda3/lib/python3.9/site-packages/sklearn/utils/deprecation.py:87: FutureWarning: Function get_feature_names is deprecated; get_feature_names is deprecated in 1.0 and will be removed in 1.2. Please use get_feature_names_out instead.\n",
      "  warnings.warn(msg, category=FutureWarning)\n"
     ]
    }
   ],
   "source": [
    "# transform our corpus as a bag of words\n",
    "bag_of_words = vectorizer.fit_transform(abstracts_list) \n",
    "\n",
    "# get features (words)\n",
    "features = vectorizer.get_feature_names()"
   ]
  },
  {
   "cell_type": "markdown",
   "metadata": {},
   "source": [
    "Let's print some of these objects to get an idea of what they look like. We'll just print the first row of the `bag_of_words` matrix as well as the feature names (that is, the column names). Note that because this matrix can get quite large and be quite sparse, the data are stored in a slightly different format, and so the output will look a little different from what you might be used to."
   ]
  },
  {
   "cell_type": "code",
   "execution_count": 51,
   "metadata": {},
   "outputs": [
    {
     "name": "stdout",
     "output_type": "stream",
     "text": [
      "  (0, 9)\t1\n",
      "  (0, 24)\t1\n",
      "  (0, 28)\t1\n",
      "  (0, 29)\t1\n",
      "  (0, 35)\t1\n",
      "  (0, 39)\t1\n",
      "  (0, 46)\t2\n",
      "  (0, 62)\t1\n",
      "  (0, 76)\t1\n",
      "  (0, 77)\t1\n",
      "  (0, 79)\t1\n",
      "  (0, 88)\t1\n",
      "  (0, 90)\t1\n",
      "  (0, 92)\t1\n",
      "  (0, 93)\t1\n",
      "  (0, 98)\t6\n",
      "  (0, 100)\t2\n",
      "  (0, 112)\t1\n",
      "  (0, 117)\t3\n",
      "  (0, 118)\t2\n",
      "  (0, 129)\t3\n",
      "  (0, 131)\t7\n",
      "  (0, 132)\t3\n",
      "  (0, 138)\t1\n",
      "  (0, 140)\t1\n",
      "  :\t:\n",
      "  (11238, 154)\t1\n",
      "  (11238, 157)\t1\n",
      "  (11238, 163)\t2\n",
      "  (11238, 166)\t1\n",
      "  (11238, 188)\t1\n",
      "  (11238, 209)\t4\n",
      "  (11238, 221)\t1\n",
      "  (11238, 236)\t1\n",
      "  (11238, 242)\t1\n",
      "  (11238, 250)\t1\n",
      "  (11238, 260)\t1\n",
      "  (11238, 270)\t1\n",
      "  (11238, 288)\t2\n",
      "  (11238, 300)\t1\n",
      "  (11238, 337)\t1\n",
      "  (11238, 380)\t1\n",
      "  (11238, 403)\t2\n",
      "  (11238, 417)\t1\n",
      "  (11238, 500)\t2\n",
      "  (11238, 558)\t2\n",
      "  (11238, 563)\t1\n",
      "  (11238, 566)\t1\n",
      "  (11238, 592)\t1\n",
      "  (11238, 601)\t1\n",
      "  (11238, 668)\t2\n"
     ]
    }
   ],
   "source": [
    "print(bag_of_words)"
   ]
  },
  {
   "cell_type": "code",
   "execution_count": 23,
   "metadata": {},
   "outputs": [
    {
     "data": {
      "text/plain": [
       "['abstract',\n",
       " 'academ',\n",
       " 'access',\n",
       " 'accomplish',\n",
       " 'achiev',\n",
       " 'acquir',\n",
       " 'across',\n",
       " 'act',\n",
       " 'action',\n",
       " 'activ']"
      ]
     },
     "execution_count": 23,
     "metadata": {},
     "output_type": "execute_result"
    }
   ],
   "source": [
    "# Display features 20-30\n",
    "features[20:30]"
   ]
  },
  {
   "cell_type": "markdown",
   "metadata": {},
   "source": [
    "Now that we have our bag of words, we can start using models such as Latent Dirichlet Allocation."
   ]
  },
  {
   "cell_type": "markdown",
   "metadata": {},
   "source": [
    "## Latent Dirichlet Allocation (LDA)  <a class=\"anchor\" id=\"LDA\"></a>\n",
    "\n",
    "Latent Dirichlet Allocation (LDA) is a statistical model that generates groups based on similarities. This is an example of an **unsupervised machine learning model**. That is, we don't have any sort of outcome variable - we are just trying to group the abstracts into rough categories.\n",
    "\n",
    "Let's try fitting an LDA model. We first create a `LatentDirichletAllocation` object, then fit it using our corpus bag of words."
   ]
  },
  {
   "cell_type": "code",
   "execution_count": 24,
   "metadata": {},
   "outputs": [],
   "source": [
    "# Create an LDA object\n",
    "lda = LatentDirichletAllocation(learning_method='online')\n",
    "\n",
    "# fit the LDA object to the bag or words\n",
    "doctopic = lda.fit_transform(bag_of_words)"
   ]
  },
  {
   "cell_type": "markdown",
   "metadata": {},
   "source": [
    "#### Pull out the top keywords in each topic\n",
    "We will use a for-loop to store the top 8 keywords for each topic"
   ]
  },
  {
   "cell_type": "code",
   "execution_count": 25,
   "metadata": {},
   "outputs": [
    {
     "name": "stdout",
     "output_type": "stream",
     "text": [
      "0 research, cancer, will, train, for, program, this, develop\n",
      "1 core, for, project, provid, research, support, resourc, data\n",
      "2 imag, breast, cancer, for, tumor, is, will, tissu\n",
      "3 cell, tumor, that, we, t, immun, with, by\n",
      "4 cancer, risk, with, studi, for, is, are, that\n",
      "5 that, we, for, protein, is, are, dna, with\n",
      "6 patient, with, clinic, for, will, treatment, trial, is\n",
      "7 will, for, genom, develop, cancer, use, be, we\n",
      "8 that, cancer, cell, is, we, by, will, tumor\n",
      "9 cancer, program, research, clinic, fund, center, member, is\n"
     ]
    }
   ],
   "source": [
    "# Create an empty list to store the key words for each topic\n",
    "ls_keywords = []\n",
    "for i,topic in enumerate(lda.components_):\n",
    " #arrange topics in decending order and save the top 8 for word_idx\n",
    "    word_idx = np.argsort(topic)[::-1][:8]\n",
    " # Join the features with the word_idx for each lda component\n",
    "    keywords = ', '.join(features[i] for i in word_idx)\n",
    "    ls_keywords.append(keywords)\n",
    "    print(i, keywords)"
   ]
  },
  {
   "cell_type": "markdown",
   "metadata": {},
   "source": [
    "Not all of these look very helpful! There are way too many common words in the corpus, such as 'for', 'this', 'is' and so on. We need to remove them, because they don't actually have any interesting information about the documents."
   ]
  },
  {
   "cell_type": "markdown",
   "metadata": {},
   "source": [
    "### Removing meaningless text - Stopwords\n",
    "\n",
    "Stopwords are words that are found commonly throughout a text and carry little semantic meaning. Examples of common stopwords are prepositions (\"to\", \"on\", \"in\"), articles (\"the\", \"an\", \"a\"), conjunctions (\"and\", \"or\", \"but\") and common nouns. For example, the words _the_ and _of_ are ubiquitous, so they won't serve as meaningful features, whether to distinguish documents from each other or to tell what a given document is about. You may also run into words that you want to remove based on where you obtained your corpus of text or what it is about. There are many lists of common stopwords available for you to use, both for general documents and for specific contexts, so you don't have to start from scratch.\n",
    "\n",
    "We can eliminate stopwords by checking all the words in our corpus against a list of commonly occuring stopwords that comes with NLTK.\n",
    "\n",
    "#### Import and download stopwords form nltk.corpus"
   ]
  },
  {
   "cell_type": "code",
   "execution_count": 26,
   "metadata": {},
   "outputs": [
    {
     "name": "stderr",
     "output_type": "stream",
     "text": [
      "[nltk_data] Downloading package stopwords to\n",
      "[nltk_data]     /Users/maryahhatherillgarner/nltk_data...\n",
      "[nltk_data]   Package stopwords is already up-to-date!\n"
     ]
    },
    {
     "data": {
      "text/plain": [
       "True"
      ]
     },
     "execution_count": 26,
     "metadata": {},
     "output_type": "execute_result"
    }
   ],
   "source": [
    "# Import stopwords form ltk.corpus\n",
    "from nltk.corpus import stopwords\n",
    "# Download the stopwords\n",
    "nltk.download('stopwords')"
   ]
  },
  {
   "cell_type": "markdown",
   "metadata": {},
   "source": [
    "#### Set the correct stop words and Tokenize them"
   ]
  },
  {
   "cell_type": "code",
   "execution_count": 27,
   "metadata": {},
   "outputs": [],
   "source": [
    "# Set the correct stop words \n",
    "stop_words = set(stopwords.words('english'))\n",
    "\n",
    "# Tokenize stop words and store them a stop_words list\n",
    "stop_words = [tokenize(s)[0] for s in stop_words]"
   ]
  },
  {
   "cell_type": "code",
   "execution_count": 46,
   "metadata": {},
   "outputs": [
    {
     "data": {
      "text/plain": [
       "list"
      ]
     },
     "execution_count": 46,
     "metadata": {},
     "output_type": "execute_result"
    }
   ],
   "source": [
    "type(stop_words)"
   ]
  },
  {
   "cell_type": "markdown",
   "metadata": {},
   "source": [
    "#### Create Vectorizer"
   ]
  },
  {
   "cell_type": "code",
   "execution_count": 28,
   "metadata": {},
   "outputs": [],
   "source": [
    "# Create Vectorizer\n",
    "vectorizer = CountVectorizer(analyzer=\"word\",           # unit of features are single words rather than characters\n",
    "                            tokenizer=tokenize,         # function to create tokens\n",
    "                            ngram_range=(0,1),          # unigrams - single words\n",
    "                            strip_accents='unicode',    # remove accent characters\n",
    "                            stop_words = stop_words,    # remove stopwords\n",
    "                            min_df = 0.05,              # only include words with minimum frequency of 0.05\n",
    "                            max_df = 0.95)              # only include words with maximum frequency of 0.95"
   ]
  },
  {
   "cell_type": "markdown",
   "metadata": {},
   "source": [
    "#### Create a bag of words"
   ]
  },
  {
   "cell_type": "code",
   "execution_count": 29,
   "metadata": {},
   "outputs": [],
   "source": [
    "# Create a bag of words\n",
    "bag_of_words = vectorizer.fit_transform(abstracts_list) # transform our corpus as a bag of words\n",
    "features = vectorizer.get_feature_names()               # get features (words)"
   ]
  },
  {
   "cell_type": "markdown",
   "metadata": {},
   "source": [
    "#### Fitting LDA model"
   ]
  },
  {
   "cell_type": "code",
   "execution_count": 30,
   "metadata": {},
   "outputs": [],
   "source": [
    "# establish LDA model. set n_components = 10 to identify 10 topics\n",
    "lda = LatentDirichletAllocation(n_components = 10, learning_method='online')\n",
    "\n",
    "# Fitting LDA model and store your results \n",
    "doctopic = lda.fit_transform(bag_of_words)"
   ]
  },
  {
   "cell_type": "markdown",
   "metadata": {},
   "source": [
    "#### Extract the top keywords (unigrams) in each topic"
   ]
  },
  {
   "cell_type": "code",
   "execution_count": 31,
   "metadata": {},
   "outputs": [
    {
     "name": "stdout",
     "output_type": "stream",
     "text": [
      "0 cancer, target, resist, inhibitor, activ, aim, pathway, therapeut, prostat, inhibit\n",
      "1 cancer, risk, studi, breast, patient, use, intervent, health, treatment, associ\n",
      "2 research, cancer, train, develop, dr, program, career, provid, mentor, biolog\n",
      "3 immun, 1, b, respons, infect, 2, leukemia, project, product, specif\n",
      "4 core, project, provid, data, resourc, servic, support, research, investig, share\n",
      "5 imag, clinic, develop, use, patient, biomark, method, detect, data, studi\n",
      "6 cell, regul, activ, express, tumor, signal, role, function, cancer, protein\n",
      "7 tumor, cell, patient, therapi, cancer, treatment, clinic, target, model, respons\n",
      "8 gene, dna, genom, mutat, cancer, genet, identifi, protein, sequenc, use\n",
      "9 cancer, research, program, clinic, center, support, fund, trial, member, institut\n"
     ]
    }
   ],
   "source": [
    "# Extract the top 10 keywords in each topic\n",
    "ls_keywords = []\n",
    "for i,topic in enumerate(lda.components_):\n",
    "    word_idx = np.argsort(topic)[::-1][:10]\n",
    "    keywords = ', '.join(features[i] for i in word_idx)\n",
    "    ls_keywords.append(keywords)\n",
    "    print(i, keywords)"
   ]
  },
  {
   "cell_type": "markdown",
   "metadata": {},
   "source": [
    "## N-grams <a class=\"anchor\" id=\"N-grams\"></a>\n",
    "We can add more context by creating N-grams. Reducing a document to a bag of words means losing much of its meaning - we put words in certain orders, and group words together in phrases and sentences, precisely to give  them more meaning. If you follow the processing steps we have gone through so far, splitting your document into individual words and then removing stopwords, you will completely lose all phrases like \"commander in chief\".\n",
    "\n",
    "One way to address this is to break down each document similarly, but rather than treating each word as an individual unit, treat each group of 2 words, or 3 words, or _n_ words, as a unit. We call is a \"bag on _n_-grams\", where _n_ is the number of words in each chunk. Then you can analyze which groups of words commonly occur together (in a fixed order).\n",
    "\n",
    "We will need to change the `ngram_range` variable from `(0,1)` to `(0,2)` to get the  bigrams, to `(0,3)` to get the trigrams, and so on.\n",
    "\n",
    "##### Create the vectorizer object using bigrams"
   ]
  },
  {
   "cell_type": "code",
   "execution_count": 32,
   "metadata": {},
   "outputs": [],
   "source": [
    "vectorizer = CountVectorizer(analyzer=\"word\",           # unit of features are single words rather than characters\n",
    "                            tokenizer=tokenize,         # function to create tokens\n",
    "                            ngram_range=(0,2),          # allow for bigrams\n",
    "                            strip_accents='unicode',    # remove accent characters\n",
    "                            stop_words = stop_words,    # remove stopwords\n",
    "                            min_df = 0.05,              # only include words with minimum frequency of 0.05\n",
    "                            max_df = 0.95)              # only include words with maximum frequency of 0.95"
   ]
  },
  {
   "cell_type": "markdown",
   "metadata": {},
   "source": [
    "#### Create a bag of words/bigrams"
   ]
  },
  {
   "cell_type": "code",
   "execution_count": null,
   "metadata": {},
   "outputs": [],
   "source": [
    "# Creating bag of words\n",
    "bag_of_words = vectorizer.fit_transform(abstracts_list)  # transform our corpus as a bag of words\n",
    "features = vectorizer.get_feature_names()                # get features (words)"
   ]
  },
  {
   "cell_type": "markdown",
   "metadata": {},
   "source": [
    "Note that it's entirely possible to not have any bigrams or other n-grams. This just means that there aren't many very common phrases in the corpus."
   ]
  },
  {
   "cell_type": "markdown",
   "metadata": {},
   "source": [
    "## TF-IDF : Weighting terms based on frequency  <a class=\"anchor\" id=\"TF-IDF\"></a>\n",
    "\n",
    "A final step in cleaning and processing our text data is **Term Frequency-Inverse Document Frequency (TF-IDF)**. TF-IDF is based on the idea that the words (or terms) that are most related to a certain topic will occur frequently in documents on that topic, and infrequently in unrelated documents. TF-IDF re-weights words so that we emphasize words that are unique to a document and suppress words that are common throughout the corpus by inversely weighting terms based on their frequency within the document and across the corpus."
   ]
  },
  {
   "cell_type": "markdown",
   "metadata": {},
   "source": [
    "#### Create a list other stopwords\n",
    "We can also try adding to the stopwords list other stopwords that you think might be useful to remove in order to create more meaningful topics:"
   ]
  },
  {
   "cell_type": "code",
   "execution_count": 33,
   "metadata": {},
   "outputs": [],
   "source": [
    "stop = stop_words + ['provid', 'use', 'studi', 'research', 'genom', 'gene', 'program', 'abstract', 'project', 'e', 'g']\n",
    "full_stopwords = [tokenize(s)[0] for s in stop]"
   ]
  },
  {
   "cell_type": "markdown",
   "metadata": {},
   "source": [
    "#### Use TfidfTransformer to re-weight bag of words"
   ]
  },
  {
   "cell_type": "code",
   "execution_count": 53,
   "metadata": {},
   "outputs": [
    {
     "data": {
      "text/plain": [
       "sklearn.feature_extraction.text.TfidfTransformer"
      ]
     },
     "execution_count": 53,
     "metadata": {},
     "output_type": "execute_result"
    }
   ],
   "source": [
    "type(transformer)"
   ]
  },
  {
   "cell_type": "code",
   "execution_count": 34,
   "metadata": {
    "scrolled": false
   },
   "outputs": [
    {
     "name": "stdout",
     "output_type": "stream",
     "text": [
      "0 immun, cell, anti, tumor, dose, antibodi, toxic, therapi\n",
      "1 dna, prostat, prostat cancer, mutat, protein, bind, rna, damag\n",
      "2 resist, therapi, patient, lung, inhibitor, target, treatment, tumor\n",
      "3 risk, women, intervent, cohort, cancer, incid, breast, popul\n",
      "4 technolog, biolog, tool, throughput, sequenc, high throughput, comput, approach\n",
      "5 member, fund, share, share resourc, center, resourc, cancer center, facil\n",
      "6 cell, signal, regul, role, tumor, mechan, pathway, activ\n",
      "7 train, career, dr, core, mentor, administr, committe, meet\n",
      "8 trial, care, health, communiti, nation, clinic, clinic trial, dispar\n",
      "9 imag, tissu, sampl, analysi, data, core, detect, perform\n"
     ]
    }
   ],
   "source": [
    "# Use TfidfTransformer to re-weight bag of words\n",
    "transformer = TfidfTransformer(norm = None, smooth_idf = True, sublinear_tf = True)\n",
    "tfidf = transformer.fit_transform(bag_of_words)\n",
    "\n",
    "# Fitting LDA model to your data\n",
    "# We set n_components = 10 to produce 10 topics\n",
    "lda = LatentDirichletAllocation(n_components = 10, learning_method='online')\n",
    "\n",
    "# store your results \n",
    "doctopic = lda.fit_transform(tfidf)\n",
    "\n",
    "# Pull out the top 8 keywords in each topic\n",
    "ls_keywords = []\n",
    "for i,topic in enumerate(lda.components_):\n",
    "    word_idx = np.argsort(topic)[::-1][:8]\n",
    "    keywords = ', '.join(features[i] for i in word_idx)\n",
    "    ls_keywords.append(keywords)\n",
    "    print(i, keywords)"
   ]
  },
  {
   "cell_type": "markdown",
   "metadata": {},
   "source": [
    "### Save the topics to a dataframe"
   ]
  },
  {
   "cell_type": "code",
   "execution_count": 61,
   "metadata": {},
   "outputs": [
    {
     "data": {
      "text/html": [
       "<div>\n",
       "<style scoped>\n",
       "    .dataframe tbody tr th:only-of-type {\n",
       "        vertical-align: middle;\n",
       "    }\n",
       "\n",
       "    .dataframe tbody tr th {\n",
       "        vertical-align: top;\n",
       "    }\n",
       "\n",
       "    .dataframe thead th {\n",
       "        text-align: right;\n",
       "    }\n",
       "</style>\n",
       "<table border=\"1\" class=\"dataframe\">\n",
       "  <thead>\n",
       "    <tr style=\"text-align: right;\">\n",
       "      <th></th>\n",
       "      <th>Topics</th>\n",
       "    </tr>\n",
       "  </thead>\n",
       "  <tbody>\n",
       "    <tr>\n",
       "      <th>0</th>\n",
       "      <td>immun, cell, anti, tumor, dose, antibodi, toxic, therapi</td>\n",
       "    </tr>\n",
       "    <tr>\n",
       "      <th>1</th>\n",
       "      <td>dna, prostat, prostat cancer, mutat, protein, bind, rna, damag</td>\n",
       "    </tr>\n",
       "    <tr>\n",
       "      <th>2</th>\n",
       "      <td>resist, therapi, patient, lung, inhibitor, target, treatment, tumor</td>\n",
       "    </tr>\n",
       "    <tr>\n",
       "      <th>3</th>\n",
       "      <td>risk, women, intervent, cohort, cancer, incid, breast, popul</td>\n",
       "    </tr>\n",
       "    <tr>\n",
       "      <th>4</th>\n",
       "      <td>technolog, biolog, tool, throughput, sequenc, high throughput, comput, approach</td>\n",
       "    </tr>\n",
       "    <tr>\n",
       "      <th>5</th>\n",
       "      <td>member, fund, share, share resourc, center, resourc, cancer center, facil</td>\n",
       "    </tr>\n",
       "    <tr>\n",
       "      <th>6</th>\n",
       "      <td>cell, signal, regul, role, tumor, mechan, pathway, activ</td>\n",
       "    </tr>\n",
       "    <tr>\n",
       "      <th>7</th>\n",
       "      <td>train, career, dr, core, mentor, administr, committe, meet</td>\n",
       "    </tr>\n",
       "    <tr>\n",
       "      <th>8</th>\n",
       "      <td>trial, care, health, communiti, nation, clinic, clinic trial, dispar</td>\n",
       "    </tr>\n",
       "    <tr>\n",
       "      <th>9</th>\n",
       "      <td>imag, tissu, sampl, analysi, data, core, detect, perform</td>\n",
       "    </tr>\n",
       "  </tbody>\n",
       "</table>\n",
       "</div>"
      ],
      "text/plain": [
       "                                                                            Topics\n",
       "0  immun, cell, anti, tumor, dose, antibodi, toxic, therapi                       \n",
       "1  dna, prostat, prostat cancer, mutat, protein, bind, rna, damag                 \n",
       "2  resist, therapi, patient, lung, inhibitor, target, treatment, tumor            \n",
       "3  risk, women, intervent, cohort, cancer, incid, breast, popul                   \n",
       "4  technolog, biolog, tool, throughput, sequenc, high throughput, comput, approach\n",
       "5  member, fund, share, share resourc, center, resourc, cancer center, facil      \n",
       "6  cell, signal, regul, role, tumor, mechan, pathway, activ                       \n",
       "7  train, career, dr, core, mentor, administr, committe, meet                     \n",
       "8  trial, care, health, communiti, nation, clinic, clinic trial, dispar           \n",
       "9  imag, tissu, sampl, analysi, data, core, detect, perform                       "
      ]
     },
     "execution_count": 61,
     "metadata": {},
     "output_type": "execute_result"
    }
   ],
   "source": [
    "# Save the topics to a dataframe\n",
    "Topics = pd.DataFrame(ls_keywords)\n",
    "\n",
    "# Rename the column Topics\n",
    "Topics.rename(columns={0:'Topics'}, inplace = True)\n",
    "\n",
    "# View the dataframe\n",
    "Topics"
   ]
  },
  {
   "cell_type": "markdown",
   "metadata": {},
   "source": [
    "**Are there any interesting patterns you can identify in these topics?**"
   ]
  },
  {
   "cell_type": "markdown",
   "metadata": {},
   "source": [
    "### Save the results as a data frame with the top words for each topic as the colunn names "
   ]
  },
  {
   "cell_type": "code",
   "execution_count": 35,
   "metadata": {
    "scrolled": false
   },
   "outputs": [
    {
     "data": {
      "text/html": [
       "<div>\n",
       "<style scoped>\n",
       "    .dataframe tbody tr th:only-of-type {\n",
       "        vertical-align: middle;\n",
       "    }\n",
       "\n",
       "    .dataframe tbody tr th {\n",
       "        vertical-align: top;\n",
       "    }\n",
       "\n",
       "    .dataframe thead th {\n",
       "        text-align: right;\n",
       "    }\n",
       "</style>\n",
       "<table border=\"1\" class=\"dataframe\">\n",
       "  <thead>\n",
       "    <tr style=\"text-align: right;\">\n",
       "      <th></th>\n",
       "      <th>immun, cell, anti, tumor, dose, antibodi, toxic, therapi</th>\n",
       "      <th>dna, prostat, prostat cancer, mutat, protein, bind, rna, damag</th>\n",
       "      <th>resist, therapi, patient, lung, inhibitor, target, treatment, tumor</th>\n",
       "      <th>risk, women, intervent, cohort, cancer, incid, breast, popul</th>\n",
       "      <th>technolog, biolog, tool, throughput, sequenc, high throughput, comput, approach</th>\n",
       "      <th>member, fund, share, share resourc, center, resourc, cancer center, facil</th>\n",
       "      <th>cell, signal, regul, role, tumor, mechan, pathway, activ</th>\n",
       "      <th>train, career, dr, core, mentor, administr, committe, meet</th>\n",
       "      <th>trial, care, health, communiti, nation, clinic, clinic trial, dispar</th>\n",
       "      <th>imag, tissu, sampl, analysi, data, core, detect, perform</th>\n",
       "    </tr>\n",
       "  </thead>\n",
       "  <tbody>\n",
       "    <tr>\n",
       "      <th>0</th>\n",
       "      <td>0.116539</td>\n",
       "      <td>0.200054</td>\n",
       "      <td>0.428083</td>\n",
       "      <td>0.000258</td>\n",
       "      <td>0.000258</td>\n",
       "      <td>0.000258</td>\n",
       "      <td>0.253777</td>\n",
       "      <td>0.000258</td>\n",
       "      <td>0.000258</td>\n",
       "      <td>0.000258</td>\n",
       "    </tr>\n",
       "    <tr>\n",
       "      <th>1</th>\n",
       "      <td>0.000261</td>\n",
       "      <td>0.134683</td>\n",
       "      <td>0.538542</td>\n",
       "      <td>0.152780</td>\n",
       "      <td>0.000261</td>\n",
       "      <td>0.000261</td>\n",
       "      <td>0.000261</td>\n",
       "      <td>0.000261</td>\n",
       "      <td>0.000261</td>\n",
       "      <td>0.172428</td>\n",
       "    </tr>\n",
       "    <tr>\n",
       "      <th>2</th>\n",
       "      <td>0.370180</td>\n",
       "      <td>0.014304</td>\n",
       "      <td>0.000286</td>\n",
       "      <td>0.000286</td>\n",
       "      <td>0.046706</td>\n",
       "      <td>0.000286</td>\n",
       "      <td>0.567095</td>\n",
       "      <td>0.000286</td>\n",
       "      <td>0.000286</td>\n",
       "      <td>0.000286</td>\n",
       "    </tr>\n",
       "    <tr>\n",
       "      <th>3</th>\n",
       "      <td>0.000417</td>\n",
       "      <td>0.265039</td>\n",
       "      <td>0.213177</td>\n",
       "      <td>0.093632</td>\n",
       "      <td>0.000417</td>\n",
       "      <td>0.000417</td>\n",
       "      <td>0.425647</td>\n",
       "      <td>0.000417</td>\n",
       "      <td>0.000417</td>\n",
       "      <td>0.000417</td>\n",
       "    </tr>\n",
       "    <tr>\n",
       "      <th>4</th>\n",
       "      <td>0.000284</td>\n",
       "      <td>0.000283</td>\n",
       "      <td>0.000283</td>\n",
       "      <td>0.702629</td>\n",
       "      <td>0.000283</td>\n",
       "      <td>0.083097</td>\n",
       "      <td>0.000283</td>\n",
       "      <td>0.000283</td>\n",
       "      <td>0.155653</td>\n",
       "      <td>0.056919</td>\n",
       "    </tr>\n",
       "    <tr>\n",
       "      <th>...</th>\n",
       "      <td>...</td>\n",
       "      <td>...</td>\n",
       "      <td>...</td>\n",
       "      <td>...</td>\n",
       "      <td>...</td>\n",
       "      <td>...</td>\n",
       "      <td>...</td>\n",
       "      <td>...</td>\n",
       "      <td>...</td>\n",
       "      <td>...</td>\n",
       "    </tr>\n",
       "    <tr>\n",
       "      <th>11234</th>\n",
       "      <td>0.000658</td>\n",
       "      <td>0.000658</td>\n",
       "      <td>0.000658</td>\n",
       "      <td>0.000658</td>\n",
       "      <td>0.044667</td>\n",
       "      <td>0.487390</td>\n",
       "      <td>0.000658</td>\n",
       "      <td>0.000658</td>\n",
       "      <td>0.000658</td>\n",
       "      <td>0.463340</td>\n",
       "    </tr>\n",
       "    <tr>\n",
       "      <th>11235</th>\n",
       "      <td>0.127264</td>\n",
       "      <td>0.000328</td>\n",
       "      <td>0.077136</td>\n",
       "      <td>0.000328</td>\n",
       "      <td>0.115719</td>\n",
       "      <td>0.452609</td>\n",
       "      <td>0.000328</td>\n",
       "      <td>0.000328</td>\n",
       "      <td>0.000328</td>\n",
       "      <td>0.225633</td>\n",
       "    </tr>\n",
       "    <tr>\n",
       "      <th>11236</th>\n",
       "      <td>0.270036</td>\n",
       "      <td>0.000341</td>\n",
       "      <td>0.000341</td>\n",
       "      <td>0.000341</td>\n",
       "      <td>0.000341</td>\n",
       "      <td>0.017699</td>\n",
       "      <td>0.097793</td>\n",
       "      <td>0.000341</td>\n",
       "      <td>0.037513</td>\n",
       "      <td>0.575251</td>\n",
       "    </tr>\n",
       "    <tr>\n",
       "      <th>11237</th>\n",
       "      <td>0.457991</td>\n",
       "      <td>0.000285</td>\n",
       "      <td>0.000285</td>\n",
       "      <td>0.000285</td>\n",
       "      <td>0.000285</td>\n",
       "      <td>0.000285</td>\n",
       "      <td>0.539726</td>\n",
       "      <td>0.000285</td>\n",
       "      <td>0.000285</td>\n",
       "      <td>0.000285</td>\n",
       "    </tr>\n",
       "    <tr>\n",
       "      <th>11238</th>\n",
       "      <td>0.000900</td>\n",
       "      <td>0.238171</td>\n",
       "      <td>0.000900</td>\n",
       "      <td>0.169183</td>\n",
       "      <td>0.000900</td>\n",
       "      <td>0.200381</td>\n",
       "      <td>0.128582</td>\n",
       "      <td>0.000900</td>\n",
       "      <td>0.000900</td>\n",
       "      <td>0.259185</td>\n",
       "    </tr>\n",
       "  </tbody>\n",
       "</table>\n",
       "<p>11239 rows × 10 columns</p>\n",
       "</div>"
      ],
      "text/plain": [
       "       immun, cell, anti, tumor, dose, antibodi, toxic, therapi  \\\n",
       "0      0.116539                                                   \n",
       "1      0.000261                                                   \n",
       "2      0.370180                                                   \n",
       "3      0.000417                                                   \n",
       "4      0.000284                                                   \n",
       "...         ...                                                   \n",
       "11234  0.000658                                                   \n",
       "11235  0.127264                                                   \n",
       "11236  0.270036                                                   \n",
       "11237  0.457991                                                   \n",
       "11238  0.000900                                                   \n",
       "\n",
       "       dna, prostat, prostat cancer, mutat, protein, bind, rna, damag  \\\n",
       "0      0.200054                                                         \n",
       "1      0.134683                                                         \n",
       "2      0.014304                                                         \n",
       "3      0.265039                                                         \n",
       "4      0.000283                                                         \n",
       "...         ...                                                         \n",
       "11234  0.000658                                                         \n",
       "11235  0.000328                                                         \n",
       "11236  0.000341                                                         \n",
       "11237  0.000285                                                         \n",
       "11238  0.238171                                                         \n",
       "\n",
       "       resist, therapi, patient, lung, inhibitor, target, treatment, tumor  \\\n",
       "0      0.428083                                                              \n",
       "1      0.538542                                                              \n",
       "2      0.000286                                                              \n",
       "3      0.213177                                                              \n",
       "4      0.000283                                                              \n",
       "...         ...                                                              \n",
       "11234  0.000658                                                              \n",
       "11235  0.077136                                                              \n",
       "11236  0.000341                                                              \n",
       "11237  0.000285                                                              \n",
       "11238  0.000900                                                              \n",
       "\n",
       "       risk, women, intervent, cohort, cancer, incid, breast, popul  \\\n",
       "0      0.000258                                                       \n",
       "1      0.152780                                                       \n",
       "2      0.000286                                                       \n",
       "3      0.093632                                                       \n",
       "4      0.702629                                                       \n",
       "...         ...                                                       \n",
       "11234  0.000658                                                       \n",
       "11235  0.000328                                                       \n",
       "11236  0.000341                                                       \n",
       "11237  0.000285                                                       \n",
       "11238  0.169183                                                       \n",
       "\n",
       "       technolog, biolog, tool, throughput, sequenc, high throughput, comput, approach  \\\n",
       "0      0.000258                                                                          \n",
       "1      0.000261                                                                          \n",
       "2      0.046706                                                                          \n",
       "3      0.000417                                                                          \n",
       "4      0.000283                                                                          \n",
       "...         ...                                                                          \n",
       "11234  0.044667                                                                          \n",
       "11235  0.115719                                                                          \n",
       "11236  0.000341                                                                          \n",
       "11237  0.000285                                                                          \n",
       "11238  0.000900                                                                          \n",
       "\n",
       "       member, fund, share, share resourc, center, resourc, cancer center, facil  \\\n",
       "0      0.000258                                                                    \n",
       "1      0.000261                                                                    \n",
       "2      0.000286                                                                    \n",
       "3      0.000417                                                                    \n",
       "4      0.083097                                                                    \n",
       "...         ...                                                                    \n",
       "11234  0.487390                                                                    \n",
       "11235  0.452609                                                                    \n",
       "11236  0.017699                                                                    \n",
       "11237  0.000285                                                                    \n",
       "11238  0.200381                                                                    \n",
       "\n",
       "       cell, signal, regul, role, tumor, mechan, pathway, activ  \\\n",
       "0      0.253777                                                   \n",
       "1      0.000261                                                   \n",
       "2      0.567095                                                   \n",
       "3      0.425647                                                   \n",
       "4      0.000283                                                   \n",
       "...         ...                                                   \n",
       "11234  0.000658                                                   \n",
       "11235  0.000328                                                   \n",
       "11236  0.097793                                                   \n",
       "11237  0.539726                                                   \n",
       "11238  0.128582                                                   \n",
       "\n",
       "       train, career, dr, core, mentor, administr, committe, meet  \\\n",
       "0      0.000258                                                     \n",
       "1      0.000261                                                     \n",
       "2      0.000286                                                     \n",
       "3      0.000417                                                     \n",
       "4      0.000283                                                     \n",
       "...         ...                                                     \n",
       "11234  0.000658                                                     \n",
       "11235  0.000328                                                     \n",
       "11236  0.000341                                                     \n",
       "11237  0.000285                                                     \n",
       "11238  0.000900                                                     \n",
       "\n",
       "       trial, care, health, communiti, nation, clinic, clinic trial, dispar  \\\n",
       "0      0.000258                                                               \n",
       "1      0.000261                                                               \n",
       "2      0.000286                                                               \n",
       "3      0.000417                                                               \n",
       "4      0.155653                                                               \n",
       "...         ...                                                               \n",
       "11234  0.000658                                                               \n",
       "11235  0.000328                                                               \n",
       "11236  0.037513                                                               \n",
       "11237  0.000285                                                               \n",
       "11238  0.000900                                                               \n",
       "\n",
       "       imag, tissu, sampl, analysi, data, core, detect, perform  \n",
       "0      0.000258                                                  \n",
       "1      0.172428                                                  \n",
       "2      0.000286                                                  \n",
       "3      0.000417                                                  \n",
       "4      0.056919                                                  \n",
       "...         ...                                                  \n",
       "11234  0.463340                                                  \n",
       "11235  0.225633                                                  \n",
       "11236  0.575251                                                  \n",
       "11237  0.000285                                                  \n",
       "11238  0.259185                                                  \n",
       "\n",
       "[11239 rows x 10 columns]"
      ]
     },
     "execution_count": 35,
     "metadata": {},
     "output_type": "execute_result"
    }
   ],
   "source": [
    "# Save the results as a data frame with the top words for each topic as the colunn names \n",
    "topics_doc = pd.DataFrame(doctopic, columns = ls_keywords)\n",
    "\n",
    "# View the dataframe\n",
    "topics_doc"
   ]
  },
  {
   "cell_type": "markdown",
   "metadata": {},
   "source": [
    "### Join together the topics_doc with the nci_abstracts dataframe"
   ]
  },
  {
   "cell_type": "code",
   "execution_count": 36,
   "metadata": {
    "scrolled": true
   },
   "outputs": [
    {
     "data": {
      "text/html": [
       "<div>\n",
       "<style scoped>\n",
       "    .dataframe tbody tr th:only-of-type {\n",
       "        vertical-align: middle;\n",
       "    }\n",
       "\n",
       "    .dataframe tbody tr th {\n",
       "        vertical-align: top;\n",
       "    }\n",
       "\n",
       "    .dataframe thead th {\n",
       "        text-align: right;\n",
       "    }\n",
       "</style>\n",
       "<table border=\"1\" class=\"dataframe\">\n",
       "  <thead>\n",
       "    <tr style=\"text-align: right;\">\n",
       "      <th></th>\n",
       "      <th>immun, cell, anti, tumor, dose, antibodi, toxic, therapi</th>\n",
       "      <th>dna, prostat, prostat cancer, mutat, protein, bind, rna, damag</th>\n",
       "      <th>resist, therapi, patient, lung, inhibitor, target, treatment, tumor</th>\n",
       "      <th>risk, women, intervent, cohort, cancer, incid, breast, popul</th>\n",
       "      <th>technolog, biolog, tool, throughput, sequenc, high throughput, comput, approach</th>\n",
       "      <th>member, fund, share, share resourc, center, resourc, cancer center, facil</th>\n",
       "      <th>cell, signal, regul, role, tumor, mechan, pathway, activ</th>\n",
       "      <th>train, career, dr, core, mentor, administr, committe, meet</th>\n",
       "      <th>trial, care, health, communiti, nation, clinic, clinic trial, dispar</th>\n",
       "      <th>imag, tissu, sampl, analysi, data, core, detect, perform</th>\n",
       "      <th>index</th>\n",
       "      <th>APPLICATION_ID</th>\n",
       "      <th>IC_NAME</th>\n",
       "      <th>TOTAL_COST</th>\n",
       "      <th>ABSTRACT_TEXT</th>\n",
       "    </tr>\n",
       "  </thead>\n",
       "  <tbody>\n",
       "    <tr>\n",
       "      <th>0</th>\n",
       "      <td>0.116539</td>\n",
       "      <td>0.200054</td>\n",
       "      <td>0.428083</td>\n",
       "      <td>0.000258</td>\n",
       "      <td>0.000258</td>\n",
       "      <td>0.000258</td>\n",
       "      <td>0.253777</td>\n",
       "      <td>0.000258</td>\n",
       "      <td>0.000258</td>\n",
       "      <td>0.000258</td>\n",
       "      <td>2.0</td>\n",
       "      <td>9036357.0</td>\n",
       "      <td>NATIONAL CANCER INSTITUTE</td>\n",
       "      <td>554053.0</td>\n",
       "      <td>?    DESCRIPTION (provided by applicant): Loss...</td>\n",
       "    </tr>\n",
       "    <tr>\n",
       "      <th>1</th>\n",
       "      <td>0.000261</td>\n",
       "      <td>0.134683</td>\n",
       "      <td>0.538542</td>\n",
       "      <td>0.152780</td>\n",
       "      <td>0.000261</td>\n",
       "      <td>0.000261</td>\n",
       "      <td>0.000261</td>\n",
       "      <td>0.000261</td>\n",
       "      <td>0.000261</td>\n",
       "      <td>0.172428</td>\n",
       "      <td>11.0</td>\n",
       "      <td>9047257.0</td>\n",
       "      <td>NATIONAL CANCER INSTITUTE</td>\n",
       "      <td>438929.0</td>\n",
       "      <td>?    DESCRIPTION (provided by applicant):  Sof...</td>\n",
       "    </tr>\n",
       "    <tr>\n",
       "      <th>2</th>\n",
       "      <td>0.370180</td>\n",
       "      <td>0.014304</td>\n",
       "      <td>0.000286</td>\n",
       "      <td>0.000286</td>\n",
       "      <td>0.046706</td>\n",
       "      <td>0.000286</td>\n",
       "      <td>0.567095</td>\n",
       "      <td>0.000286</td>\n",
       "      <td>0.000286</td>\n",
       "      <td>0.000286</td>\n",
       "      <td>13.0</td>\n",
       "      <td>9264070.0</td>\n",
       "      <td>NATIONAL CANCER INSTITUTE</td>\n",
       "      <td>54438.0</td>\n",
       "      <td>DESCRIPTION (provided by applicant): This prop...</td>\n",
       "    </tr>\n",
       "    <tr>\n",
       "      <th>3</th>\n",
       "      <td>0.000417</td>\n",
       "      <td>0.265039</td>\n",
       "      <td>0.213177</td>\n",
       "      <td>0.093632</td>\n",
       "      <td>0.000417</td>\n",
       "      <td>0.000417</td>\n",
       "      <td>0.425647</td>\n",
       "      <td>0.000417</td>\n",
       "      <td>0.000417</td>\n",
       "      <td>0.000417</td>\n",
       "      <td>31.0</td>\n",
       "      <td>9057474.0</td>\n",
       "      <td>NATIONAL CANCER INSTITUTE</td>\n",
       "      <td>362601.0</td>\n",
       "      <td>DESCRIPTION (provided by applicant): A major c...</td>\n",
       "    </tr>\n",
       "    <tr>\n",
       "      <th>4</th>\n",
       "      <td>0.000284</td>\n",
       "      <td>0.000283</td>\n",
       "      <td>0.000283</td>\n",
       "      <td>0.702629</td>\n",
       "      <td>0.000283</td>\n",
       "      <td>0.083097</td>\n",
       "      <td>0.000283</td>\n",
       "      <td>0.000283</td>\n",
       "      <td>0.155653</td>\n",
       "      <td>0.056919</td>\n",
       "      <td>44.0</td>\n",
       "      <td>9125588.0</td>\n",
       "      <td>NATIONAL CANCER INSTITUTE</td>\n",
       "      <td>712498.0</td>\n",
       "      <td>?     DESCRIPTION (provided by applicant): Our...</td>\n",
       "    </tr>\n",
       "  </tbody>\n",
       "</table>\n",
       "</div>"
      ],
      "text/plain": [
       "   immun, cell, anti, tumor, dose, antibodi, toxic, therapi  \\\n",
       "0                                           0.116539          \n",
       "1                                           0.000261          \n",
       "2                                           0.370180          \n",
       "3                                           0.000417          \n",
       "4                                           0.000284          \n",
       "\n",
       "   dna, prostat, prostat cancer, mutat, protein, bind, rna, damag  \\\n",
       "0                                           0.200054                \n",
       "1                                           0.134683                \n",
       "2                                           0.014304                \n",
       "3                                           0.265039                \n",
       "4                                           0.000283                \n",
       "\n",
       "   resist, therapi, patient, lung, inhibitor, target, treatment, tumor  \\\n",
       "0                                           0.428083                     \n",
       "1                                           0.538542                     \n",
       "2                                           0.000286                     \n",
       "3                                           0.213177                     \n",
       "4                                           0.000283                     \n",
       "\n",
       "   risk, women, intervent, cohort, cancer, incid, breast, popul  \\\n",
       "0                                           0.000258              \n",
       "1                                           0.152780              \n",
       "2                                           0.000286              \n",
       "3                                           0.093632              \n",
       "4                                           0.702629              \n",
       "\n",
       "   technolog, biolog, tool, throughput, sequenc, high throughput, comput, approach  \\\n",
       "0                                           0.000258                                 \n",
       "1                                           0.000261                                 \n",
       "2                                           0.046706                                 \n",
       "3                                           0.000417                                 \n",
       "4                                           0.000283                                 \n",
       "\n",
       "   member, fund, share, share resourc, center, resourc, cancer center, facil  \\\n",
       "0                                           0.000258                           \n",
       "1                                           0.000261                           \n",
       "2                                           0.000286                           \n",
       "3                                           0.000417                           \n",
       "4                                           0.083097                           \n",
       "\n",
       "   cell, signal, regul, role, tumor, mechan, pathway, activ  \\\n",
       "0                                           0.253777          \n",
       "1                                           0.000261          \n",
       "2                                           0.567095          \n",
       "3                                           0.425647          \n",
       "4                                           0.000283          \n",
       "\n",
       "   train, career, dr, core, mentor, administr, committe, meet  \\\n",
       "0                                           0.000258            \n",
       "1                                           0.000261            \n",
       "2                                           0.000286            \n",
       "3                                           0.000417            \n",
       "4                                           0.000283            \n",
       "\n",
       "   trial, care, health, communiti, nation, clinic, clinic trial, dispar  \\\n",
       "0                                           0.000258                      \n",
       "1                                           0.000261                      \n",
       "2                                           0.000286                      \n",
       "3                                           0.000417                      \n",
       "4                                           0.155653                      \n",
       "\n",
       "   imag, tissu, sampl, analysi, data, core, detect, perform  index  \\\n",
       "0                                           0.000258           2.0   \n",
       "1                                           0.172428          11.0   \n",
       "2                                           0.000286          13.0   \n",
       "3                                           0.000417          31.0   \n",
       "4                                           0.056919          44.0   \n",
       "\n",
       "   APPLICATION_ID                    IC_NAME  TOTAL_COST  \\\n",
       "0       9036357.0  NATIONAL CANCER INSTITUTE    554053.0   \n",
       "1       9047257.0  NATIONAL CANCER INSTITUTE    438929.0   \n",
       "2       9264070.0  NATIONAL CANCER INSTITUTE     54438.0   \n",
       "3       9057474.0  NATIONAL CANCER INSTITUTE    362601.0   \n",
       "4       9125588.0  NATIONAL CANCER INSTITUTE    712498.0   \n",
       "\n",
       "                                       ABSTRACT_TEXT  \n",
       "0  ?    DESCRIPTION (provided by applicant): Loss...  \n",
       "1  ?    DESCRIPTION (provided by applicant):  Sof...  \n",
       "2  DESCRIPTION (provided by applicant): This prop...  \n",
       "3  DESCRIPTION (provided by applicant): A major c...  \n",
       "4  ?     DESCRIPTION (provided by applicant): Our...  "
      ]
     },
     "execution_count": 36,
     "metadata": {},
     "output_type": "execute_result"
    }
   ],
   "source": [
    "# Reset the display options\n",
    "pd.reset_option('^display.', silent=True)\n",
    "\n",
    "# join together the topics_doc with the nci_abstracts dataframe\n",
    "topics_project = pd.concat([topics_doc,nci_abstracts],axis=1)\n",
    "\n",
    "# View the first 5 observations \n",
    "topics_project.head(5)"
   ]
  },
  {
   "cell_type": "markdown",
   "metadata": {},
   "source": [
    "### Choose one topic per document with the highest score"
   ]
  },
  {
   "cell_type": "code",
   "execution_count": 37,
   "metadata": {
    "scrolled": true
   },
   "outputs": [
    {
     "data": {
      "text/plain": [
       "0        resist, therapi, patient, lung, inhibitor, tar...\n",
       "1        resist, therapi, patient, lung, inhibitor, tar...\n",
       "2        cell, signal, regul, role, tumor, mechan, path...\n",
       "3        cell, signal, regul, role, tumor, mechan, path...\n",
       "4        risk, women, intervent, cohort, cancer, incid,...\n",
       "                               ...                        \n",
       "11234    member, fund, share, share resourc, center, re...\n",
       "11235    member, fund, share, share resourc, center, re...\n",
       "11236    imag, tissu, sampl, analysi, data, core, detec...\n",
       "11237    cell, signal, regul, role, tumor, mechan, path...\n",
       "11238    imag, tissu, sampl, analysi, data, core, detec...\n",
       "Length: 11239, dtype: object"
      ]
     },
     "execution_count": 37,
     "metadata": {},
     "output_type": "execute_result"
    }
   ],
   "source": [
    "# Idxmax function and axis=1: return the column name of the max value in a row\n",
    "topics_doc.idxmax(axis=1)"
   ]
  },
  {
   "cell_type": "code",
   "execution_count": 38,
   "metadata": {},
   "outputs": [
    {
     "data": {
      "text/html": [
       "<div>\n",
       "<style scoped>\n",
       "    .dataframe tbody tr th:only-of-type {\n",
       "        vertical-align: middle;\n",
       "    }\n",
       "\n",
       "    .dataframe tbody tr th {\n",
       "        vertical-align: top;\n",
       "    }\n",
       "\n",
       "    .dataframe thead th {\n",
       "        text-align: right;\n",
       "    }\n",
       "</style>\n",
       "<table border=\"1\" class=\"dataframe\">\n",
       "  <thead>\n",
       "    <tr style=\"text-align: right;\">\n",
       "      <th></th>\n",
       "      <th>topic</th>\n",
       "      <th>index</th>\n",
       "      <th>APPLICATION_ID</th>\n",
       "      <th>IC_NAME</th>\n",
       "      <th>TOTAL_COST</th>\n",
       "      <th>ABSTRACT_TEXT</th>\n",
       "    </tr>\n",
       "  </thead>\n",
       "  <tbody>\n",
       "    <tr>\n",
       "      <th>0</th>\n",
       "      <td>resist, therapi, patient, lung, inhibitor, target, treatment, tumor</td>\n",
       "      <td>2.0</td>\n",
       "      <td>9036357.0</td>\n",
       "      <td>NATIONAL CANCER INSTITUTE</td>\n",
       "      <td>554053.0</td>\n",
       "      <td>?    DESCRIPTION (provided by applicant): Loss of the tumor suppressor phosphatase and tensin homolog (PTEN), the key negative regulator of Phosphatidylinositol 3-Kinase (PI3K) activity, is one of...</td>\n",
       "    </tr>\n",
       "    <tr>\n",
       "      <th>1</th>\n",
       "      <td>resist, therapi, patient, lung, inhibitor, target, treatment, tumor</td>\n",
       "      <td>11.0</td>\n",
       "      <td>9047257.0</td>\n",
       "      <td>NATIONAL CANCER INSTITUTE</td>\n",
       "      <td>438929.0</td>\n",
       "      <td>?    DESCRIPTION (provided by applicant):  Soft tissue sarcomas (STS) are a heterogeneous group of mesenchymal tissue cancers, with over 50 histological sub-types. Regardless of type, virtually al...</td>\n",
       "    </tr>\n",
       "    <tr>\n",
       "      <th>2</th>\n",
       "      <td>cell, signal, regul, role, tumor, mechan, pathway, activ</td>\n",
       "      <td>13.0</td>\n",
       "      <td>9264070.0</td>\n",
       "      <td>NATIONAL CANCER INSTITUTE</td>\n",
       "      <td>54438.0</td>\n",
       "      <td>DESCRIPTION (provided by applicant): This proposal focuses on identifying natural compounds and combinations of natural compounds that behave as calorie restriction (CR) mimetics. Ursolic acid (UA...</td>\n",
       "    </tr>\n",
       "    <tr>\n",
       "      <th>3</th>\n",
       "      <td>cell, signal, regul, role, tumor, mechan, pathway, activ</td>\n",
       "      <td>31.0</td>\n",
       "      <td>9057474.0</td>\n",
       "      <td>NATIONAL CANCER INSTITUTE</td>\n",
       "      <td>362601.0</td>\n",
       "      <td>DESCRIPTION (provided by applicant): A major clinical problem in prostate cancer is that of tumor recurrence following initial apparently successful therapy. It is widely believed that recurrent t...</td>\n",
       "    </tr>\n",
       "    <tr>\n",
       "      <th>4</th>\n",
       "      <td>risk, women, intervent, cohort, cancer, incid, breast, popul</td>\n",
       "      <td>44.0</td>\n",
       "      <td>9125588.0</td>\n",
       "      <td>NATIONAL CANCER INSTITUTE</td>\n",
       "      <td>712498.0</td>\n",
       "      <td>?     DESCRIPTION (provided by applicant): Our long-term goal is to improve spiritual care outcomes for elderly patients facing a cancer diagnosis. We will use a nurse-led or chaplain-led interven...</td>\n",
       "    </tr>\n",
       "  </tbody>\n",
       "</table>\n",
       "</div>"
      ],
      "text/plain": [
       "                                                                 topic  index  \\\n",
       "0  resist, therapi, patient, lung, inhibitor, target, treatment, tumor    2.0   \n",
       "1  resist, therapi, patient, lung, inhibitor, target, treatment, tumor   11.0   \n",
       "2             cell, signal, regul, role, tumor, mechan, pathway, activ   13.0   \n",
       "3             cell, signal, regul, role, tumor, mechan, pathway, activ   31.0   \n",
       "4         risk, women, intervent, cohort, cancer, incid, breast, popul   44.0   \n",
       "\n",
       "   APPLICATION_ID                    IC_NAME  TOTAL_COST  \\\n",
       "0       9036357.0  NATIONAL CANCER INSTITUTE    554053.0   \n",
       "1       9047257.0  NATIONAL CANCER INSTITUTE    438929.0   \n",
       "2       9264070.0  NATIONAL CANCER INSTITUTE     54438.0   \n",
       "3       9057474.0  NATIONAL CANCER INSTITUTE    362601.0   \n",
       "4       9125588.0  NATIONAL CANCER INSTITUTE    712498.0   \n",
       "\n",
       "                                                                                                                                                                                             ABSTRACT_TEXT  \n",
       "0  ?    DESCRIPTION (provided by applicant): Loss of the tumor suppressor phosphatase and tensin homolog (PTEN), the key negative regulator of Phosphatidylinositol 3-Kinase (PI3K) activity, is one of...  \n",
       "1  ?    DESCRIPTION (provided by applicant):  Soft tissue sarcomas (STS) are a heterogeneous group of mesenchymal tissue cancers, with over 50 histological sub-types. Regardless of type, virtually al...  \n",
       "2  DESCRIPTION (provided by applicant): This proposal focuses on identifying natural compounds and combinations of natural compounds that behave as calorie restriction (CR) mimetics. Ursolic acid (UA...  \n",
       "3  DESCRIPTION (provided by applicant): A major clinical problem in prostate cancer is that of tumor recurrence following initial apparently successful therapy. It is widely believed that recurrent t...  \n",
       "4  ?     DESCRIPTION (provided by applicant): Our long-term goal is to improve spiritual care outcomes for elderly patients facing a cancer diagnosis. We will use a nurse-led or chaplain-led interven...  "
      ]
     },
     "execution_count": 38,
     "metadata": {},
     "output_type": "execute_result"
    }
   ],
   "source": [
    "# Reset the display option to see more of the abstract\n",
    "pd.set_option('display.max_colwidth', 200)\n",
    "\n",
    "# join the abstract with the topic with the greatest waight\n",
    "# Rename the first column topic\n",
    "topics_project_max = pd.concat([topics_doc.idxmax(axis=1),nci_abstracts],axis=1).rename(columns={0:'topic'})\n",
    "\n",
    "topics_project_max.head()"
   ]
  },
  {
   "cell_type": "markdown",
   "metadata": {},
   "source": [
    "## Visualize the project by topic <a class=\"Visualize\" id=\"NLP\"></a>\n",
    "Note, these visualize are not presentation ready, visualization is not the focus of this notebook. "
   ]
  },
  {
   "cell_type": "markdown",
   "metadata": {},
   "source": [
    "### How many project where assigned to each topic?"
   ]
  },
  {
   "cell_type": "code",
   "execution_count": 39,
   "metadata": {
    "scrolled": true
   },
   "outputs": [
    {
     "name": "stderr",
     "output_type": "stream",
     "text": [
      "/var/folders/75/wl43s0z50w90g_t4ln1tm9680000gn/T/ipykernel_8566/307797383.py:11: FutureWarning: Passing a negative integer is deprecated in version 1.0 and will not be supported in future version. Instead, use None to not limit the column width.\n",
      "  pd.set_option('display.max_colwidth', -1)\n"
     ]
    },
    {
     "data": {
      "text/html": [
       "<div>\n",
       "<style scoped>\n",
       "    .dataframe tbody tr th:only-of-type {\n",
       "        vertical-align: middle;\n",
       "    }\n",
       "\n",
       "    .dataframe tbody tr th {\n",
       "        vertical-align: top;\n",
       "    }\n",
       "\n",
       "    .dataframe thead th {\n",
       "        text-align: right;\n",
       "    }\n",
       "</style>\n",
       "<table border=\"1\" class=\"dataframe\">\n",
       "  <thead>\n",
       "    <tr style=\"text-align: right;\">\n",
       "      <th></th>\n",
       "      <th>topic</th>\n",
       "      <th>Total_Projects</th>\n",
       "    </tr>\n",
       "  </thead>\n",
       "  <tbody>\n",
       "    <tr>\n",
       "      <th>0</th>\n",
       "      <td>cell, signal, regul, role, tumor, mechan, pathway, activ</td>\n",
       "      <td>2520</td>\n",
       "    </tr>\n",
       "    <tr>\n",
       "      <th>1</th>\n",
       "      <td>risk, women, intervent, cohort, cancer, incid, breast, popul</td>\n",
       "      <td>1395</td>\n",
       "    </tr>\n",
       "    <tr>\n",
       "      <th>2</th>\n",
       "      <td>member, fund, share, share resourc, center, resourc, cancer center, facil</td>\n",
       "      <td>1206</td>\n",
       "    </tr>\n",
       "    <tr>\n",
       "      <th>3</th>\n",
       "      <td>immun, cell, anti, tumor, dose, antibodi, toxic, therapi</td>\n",
       "      <td>1187</td>\n",
       "    </tr>\n",
       "    <tr>\n",
       "      <th>4</th>\n",
       "      <td>train, career, dr, core, mentor, administr, committe, meet</td>\n",
       "      <td>1014</td>\n",
       "    </tr>\n",
       "    <tr>\n",
       "      <th>5</th>\n",
       "      <td>resist, therapi, patient, lung, inhibitor, target, treatment, tumor</td>\n",
       "      <td>1013</td>\n",
       "    </tr>\n",
       "    <tr>\n",
       "      <th>6</th>\n",
       "      <td>dna, prostat, prostat cancer, mutat, protein, bind, rna, damag</td>\n",
       "      <td>750</td>\n",
       "    </tr>\n",
       "    <tr>\n",
       "      <th>7</th>\n",
       "      <td>imag, tissu, sampl, analysi, data, core, detect, perform</td>\n",
       "      <td>736</td>\n",
       "    </tr>\n",
       "    <tr>\n",
       "      <th>8</th>\n",
       "      <td>technolog, biolog, tool, throughput, sequenc, high throughput, comput, approach</td>\n",
       "      <td>701</td>\n",
       "    </tr>\n",
       "    <tr>\n",
       "      <th>9</th>\n",
       "      <td>trial, care, health, communiti, nation, clinic, clinic trial, dispar</td>\n",
       "      <td>666</td>\n",
       "    </tr>\n",
       "  </tbody>\n",
       "</table>\n",
       "</div>"
      ],
      "text/plain": [
       "                                                                             topic  \\\n",
       "0  cell, signal, regul, role, tumor, mechan, pathway, activ                          \n",
       "1  risk, women, intervent, cohort, cancer, incid, breast, popul                      \n",
       "2  member, fund, share, share resourc, center, resourc, cancer center, facil         \n",
       "3  immun, cell, anti, tumor, dose, antibodi, toxic, therapi                          \n",
       "4  train, career, dr, core, mentor, administr, committe, meet                        \n",
       "5  resist, therapi, patient, lung, inhibitor, target, treatment, tumor               \n",
       "6  dna, prostat, prostat cancer, mutat, protein, bind, rna, damag                    \n",
       "7  imag, tissu, sampl, analysi, data, core, detect, perform                          \n",
       "8  technolog, biolog, tool, throughput, sequenc, high throughput, comput, approach   \n",
       "9  trial, care, health, communiti, nation, clinic, clinic trial, dispar              \n",
       "\n",
       "   Total_Projects  \n",
       "0  2520            \n",
       "1  1395            \n",
       "2  1206            \n",
       "3  1187            \n",
       "4  1014            \n",
       "5  1013            \n",
       "6  750             \n",
       "7  736             \n",
       "8  701             \n",
       "9  666             "
      ]
     },
     "execution_count": 39,
     "metadata": {},
     "output_type": "execute_result"
    }
   ],
   "source": [
    "# Calculate how many Projects are associated with each topic\n",
    "topic_count = topics_project_max.groupby('topic')['APPLICATION_ID'].nunique().sort_values(ascending=False)\n",
    "\n",
    "# Convert into a dataframe and reset index\n",
    "topic_count = topic_count.to_frame().reset_index()\n",
    "\n",
    "# Rename APPLICATION_ID to Total_Projects_2015\n",
    "topic_count.rename(columns={'APPLICATION_ID':'Total_Projects'}, inplace = True)\n",
    "\n",
    "# Show full text in a cell\n",
    "pd.set_option('display.max_colwidth', -1)\n",
    "\n",
    "# View the data frame\n",
    "topic_count"
   ]
  },
  {
   "cell_type": "code",
   "execution_count": 40,
   "metadata": {},
   "outputs": [
    {
     "data": {
      "text/html": [
       "<div>\n",
       "<style scoped>\n",
       "    .dataframe tbody tr th:only-of-type {\n",
       "        vertical-align: middle;\n",
       "    }\n",
       "\n",
       "    .dataframe tbody tr th {\n",
       "        vertical-align: top;\n",
       "    }\n",
       "\n",
       "    .dataframe thead th {\n",
       "        text-align: right;\n",
       "    }\n",
       "</style>\n",
       "<table border=\"1\" class=\"dataframe\">\n",
       "  <thead>\n",
       "    <tr style=\"text-align: right;\">\n",
       "      <th></th>\n",
       "      <th>topic</th>\n",
       "      <th>Total_Projects</th>\n",
       "      <th>Topic</th>\n",
       "    </tr>\n",
       "  </thead>\n",
       "  <tbody>\n",
       "    <tr>\n",
       "      <th>0</th>\n",
       "      <td>cell, signal, regul, role, tumor, mechan, pathway, activ</td>\n",
       "      <td>2520</td>\n",
       "      <td>0</td>\n",
       "    </tr>\n",
       "    <tr>\n",
       "      <th>1</th>\n",
       "      <td>risk, women, intervent, cohort, cancer, incid, breast, popul</td>\n",
       "      <td>1395</td>\n",
       "      <td>1</td>\n",
       "    </tr>\n",
       "    <tr>\n",
       "      <th>2</th>\n",
       "      <td>member, fund, share, share resourc, center, resourc, cancer center, facil</td>\n",
       "      <td>1206</td>\n",
       "      <td>2</td>\n",
       "    </tr>\n",
       "    <tr>\n",
       "      <th>3</th>\n",
       "      <td>immun, cell, anti, tumor, dose, antibodi, toxic, therapi</td>\n",
       "      <td>1187</td>\n",
       "      <td>3</td>\n",
       "    </tr>\n",
       "    <tr>\n",
       "      <th>4</th>\n",
       "      <td>train, career, dr, core, mentor, administr, committe, meet</td>\n",
       "      <td>1014</td>\n",
       "      <td>4</td>\n",
       "    </tr>\n",
       "    <tr>\n",
       "      <th>5</th>\n",
       "      <td>resist, therapi, patient, lung, inhibitor, target, treatment, tumor</td>\n",
       "      <td>1013</td>\n",
       "      <td>5</td>\n",
       "    </tr>\n",
       "    <tr>\n",
       "      <th>6</th>\n",
       "      <td>dna, prostat, prostat cancer, mutat, protein, bind, rna, damag</td>\n",
       "      <td>750</td>\n",
       "      <td>6</td>\n",
       "    </tr>\n",
       "    <tr>\n",
       "      <th>7</th>\n",
       "      <td>imag, tissu, sampl, analysi, data, core, detect, perform</td>\n",
       "      <td>736</td>\n",
       "      <td>7</td>\n",
       "    </tr>\n",
       "    <tr>\n",
       "      <th>8</th>\n",
       "      <td>technolog, biolog, tool, throughput, sequenc, high throughput, comput, approach</td>\n",
       "      <td>701</td>\n",
       "      <td>8</td>\n",
       "    </tr>\n",
       "    <tr>\n",
       "      <th>9</th>\n",
       "      <td>trial, care, health, communiti, nation, clinic, clinic trial, dispar</td>\n",
       "      <td>666</td>\n",
       "      <td>9</td>\n",
       "    </tr>\n",
       "  </tbody>\n",
       "</table>\n",
       "</div>"
      ],
      "text/plain": [
       "                                                                             topic  \\\n",
       "0  cell, signal, regul, role, tumor, mechan, pathway, activ                          \n",
       "1  risk, women, intervent, cohort, cancer, incid, breast, popul                      \n",
       "2  member, fund, share, share resourc, center, resourc, cancer center, facil         \n",
       "3  immun, cell, anti, tumor, dose, antibodi, toxic, therapi                          \n",
       "4  train, career, dr, core, mentor, administr, committe, meet                        \n",
       "5  resist, therapi, patient, lung, inhibitor, target, treatment, tumor               \n",
       "6  dna, prostat, prostat cancer, mutat, protein, bind, rna, damag                    \n",
       "7  imag, tissu, sampl, analysi, data, core, detect, perform                          \n",
       "8  technolog, biolog, tool, throughput, sequenc, high throughput, comput, approach   \n",
       "9  trial, care, health, communiti, nation, clinic, clinic trial, dispar              \n",
       "\n",
       "   Total_Projects  Topic  \n",
       "0  2520            0      \n",
       "1  1395            1      \n",
       "2  1206            2      \n",
       "3  1187            3      \n",
       "4  1014            4      \n",
       "5  1013            5      \n",
       "6  750             6      \n",
       "7  736             7      \n",
       "8  701             8      \n",
       "9  666             9      "
      ]
     },
     "execution_count": 40,
     "metadata": {},
     "output_type": "execute_result"
    }
   ],
   "source": [
    "# Create a new column that is equal to the index\n",
    "topic_count['Topic'] = topic_count.reset_index().index\n",
    "topic_count"
   ]
  },
  {
   "cell_type": "code",
   "execution_count": 41,
   "metadata": {
    "scrolled": true
   },
   "outputs": [
    {
     "data": {
      "image/png": "[encoded data removed]",
      "text/plain": [
       "<Figure size 640x480 with 1 Axes>"
      ]
     },
     "metadata": {},
     "output_type": "display_data"
    }
   ],
   "source": [
    "## Barplot function\n",
    "# Note we can reference column names (in quotes) in the specified data:\n",
    "# Change the color to steelblue\n",
    "topic_count_graph = sns.barplot(x = 'Topic', \n",
    "                             y = 'Total_Projects', \n",
    "                             data = topic_count, \n",
    "                             color='#7851A9')\n",
    "\n",
    "\n",
    "# add a data source \n",
    "# xy are measured in percent of axes length, from bottom left of graph:\n",
    "plt.annotate('Source: NIH RePORTER', xy=(0.95,-0.20), xycoords=\"axes fraction\")\n",
    "\n",
    "plt.show()"
   ]
  },
  {
   "cell_type": "markdown",
   "metadata": {},
   "source": [
    "### What is the average total cost per project?"
   ]
  },
  {
   "cell_type": "code",
   "execution_count": 42,
   "metadata": {
    "scrolled": true
   },
   "outputs": [
    {
     "data": {
      "text/html": [
       "<div>\n",
       "<style scoped>\n",
       "    .dataframe tbody tr th:only-of-type {\n",
       "        vertical-align: middle;\n",
       "    }\n",
       "\n",
       "    .dataframe tbody tr th {\n",
       "        vertical-align: top;\n",
       "    }\n",
       "\n",
       "    .dataframe thead th {\n",
       "        text-align: right;\n",
       "    }\n",
       "</style>\n",
       "<table border=\"1\" class=\"dataframe\">\n",
       "  <thead>\n",
       "    <tr style=\"text-align: right;\">\n",
       "      <th></th>\n",
       "      <th>topic</th>\n",
       "      <th>Average_Cost</th>\n",
       "    </tr>\n",
       "  </thead>\n",
       "  <tbody>\n",
       "    <tr>\n",
       "      <th>0</th>\n",
       "      <td>immun, cell, anti, tumor, dose, antibodi, toxic, therapi</td>\n",
       "      <td>651968.066980</td>\n",
       "    </tr>\n",
       "    <tr>\n",
       "      <th>1</th>\n",
       "      <td>trial, care, health, communiti, nation, clinic, clinic trial, dispar</td>\n",
       "      <td>626739.347648</td>\n",
       "    </tr>\n",
       "    <tr>\n",
       "      <th>2</th>\n",
       "      <td>imag, tissu, sampl, analysi, data, core, detect, perform</td>\n",
       "      <td>624626.532819</td>\n",
       "    </tr>\n",
       "    <tr>\n",
       "      <th>3</th>\n",
       "      <td>member, fund, share, share resourc, center, resourc, cancer center, facil</td>\n",
       "      <td>608437.072331</td>\n",
       "    </tr>\n",
       "    <tr>\n",
       "      <th>4</th>\n",
       "      <td>technolog, biolog, tool, throughput, sequenc, high throughput, comput, approach</td>\n",
       "      <td>551369.260700</td>\n",
       "    </tr>\n",
       "  </tbody>\n",
       "</table>\n",
       "</div>"
      ],
      "text/plain": [
       "                                                                             topic  \\\n",
       "0  immun, cell, anti, tumor, dose, antibodi, toxic, therapi                          \n",
       "1  trial, care, health, communiti, nation, clinic, clinic trial, dispar              \n",
       "2  imag, tissu, sampl, analysi, data, core, detect, perform                          \n",
       "3  member, fund, share, share resourc, center, resourc, cancer center, facil         \n",
       "4  technolog, biolog, tool, throughput, sequenc, high throughput, comput, approach   \n",
       "\n",
       "    Average_Cost  \n",
       "0  651968.066980  \n",
       "1  626739.347648  \n",
       "2  624626.532819  \n",
       "3  608437.072331  \n",
       "4  551369.260700  "
      ]
     },
     "execution_count": 42,
     "metadata": {},
     "output_type": "execute_result"
    }
   ],
   "source": [
    "# Calsulate the average total for projects in each topic\n",
    "topic_avg_cost = topics_project_max.groupby('topic')['TOTAL_COST'].mean().sort_values(ascending = False)\n",
    "\n",
    "# Convert into a dataframe and reset index\n",
    "topic_avg_cost = topic_avg_cost.to_frame().reset_index()\n",
    "\n",
    "# Rename the PI_NAMEs variable\n",
    "topic_avg_cost = topic_avg_cost.rename(columns = {'TOTAL_COST': 'Average_Cost'})\n",
    "\n",
    "# look at the first 5 observations\n",
    "topic_avg_cost.head()"
   ]
  },
  {
   "cell_type": "code",
   "execution_count": 43,
   "metadata": {
    "scrolled": true
   },
   "outputs": [
    {
     "data": {
      "image/png": "[encoded data removed]",
      "text/plain": [
       "<Figure size 640x480 with 1 Axes>"
      ]
     },
     "metadata": {},
     "output_type": "display_data"
    }
   ],
   "source": [
    "## Barplot function\n",
    "# Note we can reference column names (in quotes) in the specified data:\n",
    "# Change the color to steelblue\n",
    "topic_cost_graph = sns.barplot(x = 'topic', \n",
    "                             y = 'Average_Cost', \n",
    "                             data = topic_avg_cost, \n",
    "                             color='#85c2b2')\n",
    "\n",
    "#rotate x-axis labels\n",
    "plt.xticks(rotation=90)\n",
    "\n",
    "# add a data source \n",
    "# xy are measured in percent of axes length, from bottom left of graph:\n",
    "plt.annotate('Source: NIH RePORTER', xy=(0.99,-0.20), xycoords=\"axes fraction\")\n",
    "\n",
    "plt.show()\n"
   ]
  },
  {
   "cell_type": "markdown",
   "metadata": {},
   "source": [
    "### Supervised Learning: Document Classification"
   ]
  },
  {
   "cell_type": "markdown",
   "metadata": {},
   "source": [
    "Topic modeling is an example of an unsupervised learning: we were looking to uncover structure in the form of topics, but we did not necessarily know the ground truth of how many topics there are."
   ]
  },
  {
   "cell_type": "markdown",
   "metadata": {},
   "source": [
    "We can also do supervised learning with text data. In supervised learning, we have a _known_ outcome or label (_Y_) that we want to produce given some data (_X_), and in general, we want to be able to produce this _Y_ when we _don't_ know it, or when we _only_ have _X_."
   ]
  },
  {
   "cell_type": "markdown",
   "metadata": {},
   "source": [
    "In order to produce labels we need to first have examples our algorithm can learn from, a \"training set\". In the context of text analysis, developing a training set can be very expensive, as it can require a large amount of human labor or linguistic expertise. **Document classification** is an example of supervised learning in which we want to characterize our documents based on their contents (_X_). A common example of document classification is spam e-mail detection. Another example of supervised learning in text analysis is _sentimenet analysis_, where _X_ is our documents and _Y_ is the state of the author. This \"state\" is dependent on the question you are trying to answer, and can range from the author being happy or unhappy with a product to the author being politically conservative or liberal. Another example is _part-of-speech tagging_ where _X_ are individual words and _Y_ is the part-of-speech."
   ]
  },
  {
   "cell_type": "markdown",
   "metadata": {},
   "source": [
    "### Further Resources"
   ]
  },
  {
   "cell_type": "markdown",
   "metadata": {},
   "source": [
    "A great resource for NLP in Python is Natural Language Processing with Python: Analyzing Text with the Natural Language Toolkit."
   ]
  },
  {
   "cell_type": "markdown",
   "metadata": {},
   "source": [
    "Some of the most popular and useful Python libraries for NLP: \n",
    "- NLTK and the associated book/tutorial (www.nltk.org/book), a good introduction to different NLP tasks.\n",
    "- TextBlob, a simplified library for various NLP tasks (noun phrase extraction, part-of-speech tagging, sentiment analysis, classification, tokenization, etc.).\n",
    "- spaCy (named entity recognition, part-of-speech tagging, dependency parsing, tokenization, etc.).\n",
    "- Stanford CoreNLP (while NLTK's emphasis is on simple reference implementations, Stanford CoreNLP is focused no fast implementations of cutting-edge algorithms, particularly for syntactic analysis, e.g. determining the subject of a sentence)."
   ]
  },
  {
   "cell_type": "markdown",
   "metadata": {},
   "source": [
    "# Checkpoints <a class=\"Checkpoints\" id=\"NLP\"></a>\n",
    "I would like you to turn in a notebook with only the checkpoints, ensuring that the notebook can run all the way through (you can hit the doubble arrow at the top of the notebook to restart the kernal and run the whole notebook through. 3 points will be automatically deducted if your notebook does not run all the way through after I change the Path\n",
    "- For the name of the notebook you submit to brightspace, please use your first and last name followed by Text Analysis (for example: Maryah Garner Text Analysis.ipynb)"
   ]
  },
  {
   "cell_type": "markdown",
   "metadata": {},
   "source": [
    "1) Install and import libraries (0 points, but if you don't include this your notebook will not run)"
   ]
  },
  {
   "cell_type": "markdown",
   "metadata": {},
   "source": [
    "2) Create a path and read in the abstract data and project data for a year of your choice (0.5 points)"
   ]
  },
  {
   "cell_type": "markdown",
   "metadata": {},
   "source": [
    "3) Join together the abstract and projects data and filter for projects funded by the CI most apporpriate for your class project (0.5 points)"
   ]
  },
  {
   "cell_type": "markdown",
   "metadata": {},
   "source": [
    "4) Identify how many projects have missing abstracts and then remove the projects with missing abstracts from your dataframe (0.5 points)\n"
   ]
  },
  {
   "cell_type": "markdown",
   "metadata": {},
   "source": [
    "5) Save your abstracts to list (0.5 points)"
   ]
  },
  {
   "cell_type": "markdown",
   "metadata": {},
   "source": [
    "6) Set stemmer at SnowballStemmer (0.5 points)"
   ]
  },
  {
   "cell_type": "markdown",
   "metadata": {},
   "source": [
    "7) Create a tokenize function (0.5 points)"
   ]
  },
  {
   "cell_type": "markdown",
   "metadata": {},
   "source": [
    "8) Import and download stopwords form ltk.corpus (0.5 points)"
   ]
  },
  {
   "cell_type": "markdown",
   "metadata": {},
   "source": [
    "9) Set the correct stop words and Tokenize them (0.5 points)"
   ]
  },
  {
   "cell_type": "markdown",
   "metadata": {},
   "source": [
    "10) Create a list of other stopwords that you think might be useful to remove in order to create more meaningful topics (0.5 points)\n"
   ]
  },
  {
   "cell_type": "markdown",
   "metadata": {},
   "source": [
    "11) Create the `vectorizer` object with the following specifications (0.5 points)\n",
    "    - unit of features are single words rather than characters\n",
    "    - function to create tokens\n",
    "    - allow for bigrams\n",
    "    - remove accent characters\n",
    "    - remove stopwords\n",
    "    - only include words with minimum frequency of 0.05\n",
    "    - only include words with maximum frequency of 0.95"
   ]
  },
  {
   "cell_type": "markdown",
   "metadata": {},
   "source": [
    "12) Create a bag of words/bigrams by fitting the vectorizer to your abstract list (0.5 points)"
   ]
  },
  {
   "cell_type": "markdown",
   "metadata": {},
   "source": [
    "13) Use TfidfTransformer to re-weight your bag of words (0.5 points)"
   ]
  },
  {
   "cell_type": "markdown",
   "metadata": {},
   "source": [
    "14) Fit your transormend data to an LDA model and store your results (0.5 points)"
   ]
  },
  {
   "cell_type": "markdown",
   "metadata": {},
   "source": [
    "15) Pull out  the top keywords in each topic (0.5 points)"
   ]
  },
  {
   "cell_type": "markdown",
   "metadata": {},
   "source": [
    "16) Save the results as a data frame with the top words for each topic as the colunn names  (0.5 points)"
   ]
  },
  {
   "cell_type": "markdown",
   "metadata": {},
   "source": [
    "17) join together the dataframe from 16 with your abstracts dataframe (filtered for the CI)(0.5 points)"
   ]
  },
  {
   "cell_type": "markdown",
   "metadata": {},
   "source": [
    "19) Choose one topic per document with the highest score (0.5 points)"
   ]
  }
 ],
 "metadata": {
  "kernelspec": {
   "display_name": "Python 3 (ipykernel)",
   "language": "python",
   "name": "python3"
  },
  "language_info": {
   "codemirror_mode": {
    "name": "ipython",
    "version": 3
   },
   "file_extension": ".py",
   "mimetype": "text/x-python",
   "name": "python",
   "nbconvert_exporter": "python",
   "pygments_lexer": "ipython3",
   "version": "3.9.13"
  }
 },
 "nbformat": 4,
 "nbformat_minor": 4
}
